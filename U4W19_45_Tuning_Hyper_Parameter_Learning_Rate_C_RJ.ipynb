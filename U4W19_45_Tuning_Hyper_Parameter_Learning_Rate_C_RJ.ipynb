{
  "nbformat": 4,
  "nbformat_minor": 0,
  "metadata": {
    "colab": {
      "provenance": [],
      "collapsed_sections": [],
      "include_colab_link": true
    },
    "kernelspec": {
      "name": "python3",
      "display_name": "Python 3"
    },
    "accelerator": "GPU",
    "widgets": {
      "application/vnd.jupyter.widget-state+json": {
        "205f0b45ce164a03a3ed06fa874efcfe": {
          "model_module": "@jupyter-widgets/controls",
          "model_name": "HBoxModel",
          "model_module_version": "1.5.0",
          "state": {
            "_dom_classes": [],
            "_model_module": "@jupyter-widgets/controls",
            "_model_module_version": "1.5.0",
            "_model_name": "HBoxModel",
            "_view_count": null,
            "_view_module": "@jupyter-widgets/controls",
            "_view_module_version": "1.5.0",
            "_view_name": "HBoxView",
            "box_style": "",
            "children": [
              "IPY_MODEL_4851b9d9b3c6438899d6d782ee0b8c8c",
              "IPY_MODEL_4ac07ec91bb0440984ab729e02cab783",
              "IPY_MODEL_5aed157b24764ef2914dbf0d05b0d95b"
            ],
            "layout": "IPY_MODEL_ea9cb26216654cdbbdd45c755090fb58"
          }
        },
        "4851b9d9b3c6438899d6d782ee0b8c8c": {
          "model_module": "@jupyter-widgets/controls",
          "model_name": "HTMLModel",
          "model_module_version": "1.5.0",
          "state": {
            "_dom_classes": [],
            "_model_module": "@jupyter-widgets/controls",
            "_model_module_version": "1.5.0",
            "_model_name": "HTMLModel",
            "_view_count": null,
            "_view_module": "@jupyter-widgets/controls",
            "_view_module_version": "1.5.0",
            "_view_name": "HTMLView",
            "description": "",
            "description_tooltip": null,
            "layout": "IPY_MODEL_e90746679ce849b4aefd3669c786b296",
            "placeholder": "​",
            "style": "IPY_MODEL_37d6d6e409a64b098eb8bd7658a84283",
            "value": "100%"
          }
        },
        "4ac07ec91bb0440984ab729e02cab783": {
          "model_module": "@jupyter-widgets/controls",
          "model_name": "FloatProgressModel",
          "model_module_version": "1.5.0",
          "state": {
            "_dom_classes": [],
            "_model_module": "@jupyter-widgets/controls",
            "_model_module_version": "1.5.0",
            "_model_name": "FloatProgressModel",
            "_view_count": null,
            "_view_module": "@jupyter-widgets/controls",
            "_view_module_version": "1.5.0",
            "_view_name": "ProgressView",
            "bar_style": "success",
            "description": "",
            "description_tooltip": null,
            "layout": "IPY_MODEL_75d653248a8d4d61b3d9a10a7f2db644",
            "max": 169001437,
            "min": 0,
            "orientation": "horizontal",
            "style": "IPY_MODEL_5da42f682eed4fb98c50a6b938a53126",
            "value": 169001437
          }
        },
        "5aed157b24764ef2914dbf0d05b0d95b": {
          "model_module": "@jupyter-widgets/controls",
          "model_name": "HTMLModel",
          "model_module_version": "1.5.0",
          "state": {
            "_dom_classes": [],
            "_model_module": "@jupyter-widgets/controls",
            "_model_module_version": "1.5.0",
            "_model_name": "HTMLModel",
            "_view_count": null,
            "_view_module": "@jupyter-widgets/controls",
            "_view_module_version": "1.5.0",
            "_view_name": "HTMLView",
            "description": "",
            "description_tooltip": null,
            "layout": "IPY_MODEL_fb73120a85f949289bf3c4a258cd301e",
            "placeholder": "​",
            "style": "IPY_MODEL_e405384ffc75416da219ac9aee2a9b3e",
            "value": " 169001437/169001437 [00:04&lt;00:00, 30144643.70it/s]"
          }
        },
        "ea9cb26216654cdbbdd45c755090fb58": {
          "model_module": "@jupyter-widgets/base",
          "model_name": "LayoutModel",
          "model_module_version": "1.2.0",
          "state": {
            "_model_module": "@jupyter-widgets/base",
            "_model_module_version": "1.2.0",
            "_model_name": "LayoutModel",
            "_view_count": null,
            "_view_module": "@jupyter-widgets/base",
            "_view_module_version": "1.2.0",
            "_view_name": "LayoutView",
            "align_content": null,
            "align_items": null,
            "align_self": null,
            "border": null,
            "bottom": null,
            "display": null,
            "flex": null,
            "flex_flow": null,
            "grid_area": null,
            "grid_auto_columns": null,
            "grid_auto_flow": null,
            "grid_auto_rows": null,
            "grid_column": null,
            "grid_gap": null,
            "grid_row": null,
            "grid_template_areas": null,
            "grid_template_columns": null,
            "grid_template_rows": null,
            "height": null,
            "justify_content": null,
            "justify_items": null,
            "left": null,
            "margin": null,
            "max_height": null,
            "max_width": null,
            "min_height": null,
            "min_width": null,
            "object_fit": null,
            "object_position": null,
            "order": null,
            "overflow": null,
            "overflow_x": null,
            "overflow_y": null,
            "padding": null,
            "right": null,
            "top": null,
            "visibility": null,
            "width": null
          }
        },
        "e90746679ce849b4aefd3669c786b296": {
          "model_module": "@jupyter-widgets/base",
          "model_name": "LayoutModel",
          "model_module_version": "1.2.0",
          "state": {
            "_model_module": "@jupyter-widgets/base",
            "_model_module_version": "1.2.0",
            "_model_name": "LayoutModel",
            "_view_count": null,
            "_view_module": "@jupyter-widgets/base",
            "_view_module_version": "1.2.0",
            "_view_name": "LayoutView",
            "align_content": null,
            "align_items": null,
            "align_self": null,
            "border": null,
            "bottom": null,
            "display": null,
            "flex": null,
            "flex_flow": null,
            "grid_area": null,
            "grid_auto_columns": null,
            "grid_auto_flow": null,
            "grid_auto_rows": null,
            "grid_column": null,
            "grid_gap": null,
            "grid_row": null,
            "grid_template_areas": null,
            "grid_template_columns": null,
            "grid_template_rows": null,
            "height": null,
            "justify_content": null,
            "justify_items": null,
            "left": null,
            "margin": null,
            "max_height": null,
            "max_width": null,
            "min_height": null,
            "min_width": null,
            "object_fit": null,
            "object_position": null,
            "order": null,
            "overflow": null,
            "overflow_x": null,
            "overflow_y": null,
            "padding": null,
            "right": null,
            "top": null,
            "visibility": null,
            "width": null
          }
        },
        "37d6d6e409a64b098eb8bd7658a84283": {
          "model_module": "@jupyter-widgets/controls",
          "model_name": "DescriptionStyleModel",
          "model_module_version": "1.5.0",
          "state": {
            "_model_module": "@jupyter-widgets/controls",
            "_model_module_version": "1.5.0",
            "_model_name": "DescriptionStyleModel",
            "_view_count": null,
            "_view_module": "@jupyter-widgets/base",
            "_view_module_version": "1.2.0",
            "_view_name": "StyleView",
            "description_width": ""
          }
        },
        "75d653248a8d4d61b3d9a10a7f2db644": {
          "model_module": "@jupyter-widgets/base",
          "model_name": "LayoutModel",
          "model_module_version": "1.2.0",
          "state": {
            "_model_module": "@jupyter-widgets/base",
            "_model_module_version": "1.2.0",
            "_model_name": "LayoutModel",
            "_view_count": null,
            "_view_module": "@jupyter-widgets/base",
            "_view_module_version": "1.2.0",
            "_view_name": "LayoutView",
            "align_content": null,
            "align_items": null,
            "align_self": null,
            "border": null,
            "bottom": null,
            "display": null,
            "flex": null,
            "flex_flow": null,
            "grid_area": null,
            "grid_auto_columns": null,
            "grid_auto_flow": null,
            "grid_auto_rows": null,
            "grid_column": null,
            "grid_gap": null,
            "grid_row": null,
            "grid_template_areas": null,
            "grid_template_columns": null,
            "grid_template_rows": null,
            "height": null,
            "justify_content": null,
            "justify_items": null,
            "left": null,
            "margin": null,
            "max_height": null,
            "max_width": null,
            "min_height": null,
            "min_width": null,
            "object_fit": null,
            "object_position": null,
            "order": null,
            "overflow": null,
            "overflow_x": null,
            "overflow_y": null,
            "padding": null,
            "right": null,
            "top": null,
            "visibility": null,
            "width": null
          }
        },
        "5da42f682eed4fb98c50a6b938a53126": {
          "model_module": "@jupyter-widgets/controls",
          "model_name": "ProgressStyleModel",
          "model_module_version": "1.5.0",
          "state": {
            "_model_module": "@jupyter-widgets/controls",
            "_model_module_version": "1.5.0",
            "_model_name": "ProgressStyleModel",
            "_view_count": null,
            "_view_module": "@jupyter-widgets/base",
            "_view_module_version": "1.2.0",
            "_view_name": "StyleView",
            "bar_color": null,
            "description_width": ""
          }
        },
        "fb73120a85f949289bf3c4a258cd301e": {
          "model_module": "@jupyter-widgets/base",
          "model_name": "LayoutModel",
          "model_module_version": "1.2.0",
          "state": {
            "_model_module": "@jupyter-widgets/base",
            "_model_module_version": "1.2.0",
            "_model_name": "LayoutModel",
            "_view_count": null,
            "_view_module": "@jupyter-widgets/base",
            "_view_module_version": "1.2.0",
            "_view_name": "LayoutView",
            "align_content": null,
            "align_items": null,
            "align_self": null,
            "border": null,
            "bottom": null,
            "display": null,
            "flex": null,
            "flex_flow": null,
            "grid_area": null,
            "grid_auto_columns": null,
            "grid_auto_flow": null,
            "grid_auto_rows": null,
            "grid_column": null,
            "grid_gap": null,
            "grid_row": null,
            "grid_template_areas": null,
            "grid_template_columns": null,
            "grid_template_rows": null,
            "height": null,
            "justify_content": null,
            "justify_items": null,
            "left": null,
            "margin": null,
            "max_height": null,
            "max_width": null,
            "min_height": null,
            "min_width": null,
            "object_fit": null,
            "object_position": null,
            "order": null,
            "overflow": null,
            "overflow_x": null,
            "overflow_y": null,
            "padding": null,
            "right": null,
            "top": null,
            "visibility": null,
            "width": null
          }
        },
        "e405384ffc75416da219ac9aee2a9b3e": {
          "model_module": "@jupyter-widgets/controls",
          "model_name": "DescriptionStyleModel",
          "model_module_version": "1.5.0",
          "state": {
            "_model_module": "@jupyter-widgets/controls",
            "_model_module_version": "1.5.0",
            "_model_name": "DescriptionStyleModel",
            "_view_count": null,
            "_view_module": "@jupyter-widgets/base",
            "_view_module_version": "1.2.0",
            "_view_name": "StyleView",
            "description_width": ""
          }
        }
      }
    }
  },
  "cells": [
    {
      "cell_type": "markdown",
      "metadata": {
        "id": "view-in-github",
        "colab_type": "text"
      },
      "source": [
        "<a href=\"https://colab.research.google.com/github/RahulJuluru2/unit4assignments/blob/main/U4W19_45_Tuning_Hyper_Parameter_Learning_Rate_C_RJ.ipynb\" target=\"_parent\"><img src=\"https://colab.research.google.com/assets/colab-badge.svg\" alt=\"Open In Colab\"/></a>"
      ]
    },
    {
      "cell_type": "markdown",
      "metadata": {
        "id": "FlDT2pxVVYIH"
      },
      "source": [
        "## Advanced Certification in AIML\n",
        "## A Program by IIIT-H and TalentSprint"
      ]
    },
    {
      "cell_type": "markdown",
      "metadata": {
        "id": "iyCF3t5T6k5g"
      },
      "source": [
        "## Learning Objective"
      ]
    },
    {
      "cell_type": "markdown",
      "metadata": {
        "id": "3UIQ42UP6nay"
      },
      "source": [
        "At the end of the experiment, you will be able to :\n",
        "\n",
        "1. Understand the role of hyperparameter learning rate\n",
        "2. Observe what happens to the performance of the model when we set learning rate values to high or low"
      ]
    },
    {
      "cell_type": "markdown",
      "metadata": {
        "id": "otjY3N71Psfx"
      },
      "source": [
        "## Experiment walkthrough video"
      ]
    },
    {
      "cell_type": "markdown",
      "metadata": {
        "id": "x9TiJI60PtDT"
      },
      "source": [
        "Please refer video explanation of U4W19_44_Weight_InitializationandUpdates for this. This experiment is an extension of the same."
      ]
    },
    {
      "cell_type": "markdown",
      "metadata": {
        "id": "7mO2VQ0A6oO-"
      },
      "source": [
        "## Dataset"
      ]
    },
    {
      "cell_type": "markdown",
      "metadata": {
        "id": "D_m0jyuG6p6K"
      },
      "source": [
        "### Description"
      ]
    },
    {
      "cell_type": "markdown",
      "metadata": {
        "id": "ydFMJSX16uKU"
      },
      "source": [
        "The dataset used for this experiment is CIFAR-100. It  has 100 classes which contains 600 images for each class. There are 500 training images and 100 testing images per class. These 100 classes are grouped into 20 superclasses. Each image comes with the class and superclass it belongs to.\n",
        "\n",
        "Here is the list of classes in the CIFAR-100:\n",
        "\n",
        "| Superclass \t | Classes|\n",
        "|--------------------|-------------|\n",
        "|aquatic mammals | \tbeaver, dolphin, otter, seal, whale |\n",
        "|fish |\taquarium fish, flatfish, ray, shark, trout |\n",
        "|flowers| \torchids, poppies, roses, sunflowers, tulips |\n",
        "|food containers| \tbottles, bowls, cans, cups, plates|\n",
        "|fruit and vegetables| \tapples, mushrooms, oranges, pears, sweet peppers|\n",
        "|household electrical devices | clock, computer keyboard, lamp, telephone, television|\n",
        "|household furniture| \tbed, chair, couch, table, wardrobe|\n",
        "|insects | \tbee, beetle, butterfly, caterpillar, cockroach |\n",
        "|large carnivores| \tbear, leopard, lion, tiger, wolf|\n",
        "|large man-made outdoor things |\tbridge, castle, house, road, skyscraper|\n",
        "|large natural outdoor scenes |\tcloud, forest, mountain, plain, sea|\n",
        "|large omnivores and herbivores |\tcamel, cattle, chimpanzee, elephant, kangaroo|\n",
        "|medium-sized mammals |\tfox, porcupine, possum, raccoon, skunk|\n",
        "|non-insect invertebrates|\tcrab, lobster, snail, spider, worm|\n",
        "|people| \tbaby, boy, girl, man, woman|\n",
        "|reptiles |\tcrocodile, dinosaur, lizard, snake, turtle|\n",
        "|small mammals| \thamster, mouse, rabbit, shrew, squirrel |\n",
        "|trees|\tmaple, oak, palm, pine, willow |\n",
        "|vehicles 1 |\tbicycle, bus, motorcycle, pickup truck, train |\n",
        "|vehicles 2 |\tlawn-mower, rocket, streetcar, tank, tractor |\n",
        "\n",
        "\n",
        "\n",
        "The dataset is downloaded from following url :\n",
        "\n",
        "https://www.cs.toronto.edu/~kriz/cifar.html"
      ]
    },
    {
      "cell_type": "markdown",
      "metadata": {
        "id": "IUBMuYhs6xaN"
      },
      "source": [
        "## AI / ML Technique"
      ]
    },
    {
      "cell_type": "markdown",
      "metadata": {
        "id": "FkHCjIwK60x9"
      },
      "source": [
        "### Learning Rate\n",
        "\n",
        "\n",
        "\n",
        "This is the most important hyper parameter to train the neural network. A good learning rate can make a huge difference in between a model that didn't learn anything and a model that learned everything from the data. \n",
        "\n",
        "Let us see some intersting facts about the learning rates :\n",
        "\n",
        "1. While training the model when we observe that the loss is exploding we infer that the value chosen for learning rate is high.\n",
        "2. If you choose learning rate value as too high then there is a chance to overshoot the local minima or good result and in next iteration there is a chance to undershoot the good result.\n",
        "3.  If you choose learning rate value as too low then there is a slow convergence. This can even degrade the performance of the model."
      ]
    },
    {
      "cell_type": "markdown",
      "metadata": {
        "id": "1sFKC2BJ63s1"
      },
      "source": [
        "In this experiment you will be able to understand how the performance of the model varies when we change the learning rate value."
      ]
    },
    {
      "cell_type": "markdown",
      "metadata": {
        "id": "HbSlec-eViQ6"
      },
      "source": [
        "### Setup Steps"
      ]
    },
    {
      "cell_type": "code",
      "metadata": {
        "id": "GsFlN90fTPXR"
      },
      "source": [
        "#@title Please enter your registration id to start: (e.g. P181900101) { run: \"auto\", display-mode: \"form\" }\n",
        "Id = \"2216842\" #@param {type:\"string\"}\n"
      ],
      "execution_count": null,
      "outputs": []
    },
    {
      "cell_type": "code",
      "metadata": {
        "id": "T7hrgzPmTTdw"
      },
      "source": [
        "#@title Please enter your password (normally your phone number) to continue: { run: \"auto\", display-mode: \"form\" }\n",
        "password = \"9959488784\" #@param {type:\"string\"}\n"
      ],
      "execution_count": null,
      "outputs": []
    },
    {
      "cell_type": "code",
      "metadata": {
        "id": "-ChfY8GTH3SB",
        "cellView": "form",
        "colab": {
          "base_uri": "https://localhost:8080/",
          "height": 34
        },
        "outputId": "ceaa5cf0-f3cc-4af7-f616-81fbe1f20ccd"
      },
      "source": [
        "#@title Run this cell to complete the setup for this Notebook\n",
        "from IPython import get_ipython\n",
        "\n",
        "ipython = get_ipython()\n",
        "  \n",
        "notebook= \"U4W19_45_Tuning_Hyper_Parameter_Learning_Rate_C\" #name of the notebook\n",
        "def setup():\n",
        "#  ipython.magic(\"sx pip3 install torch\")\n",
        "    ipython.magic(\"sx pip3 install torch\")\n",
        "    ipython.magic(\"sx pip3 install torchvision\")\n",
        "    ipython.magic(\"sx wget https://cdn.talentsprint.com/aiml/Experiment_related_data/week9/Exp6/config.py\")\n",
        "    ipython.magic(\"sx wget https://cdn.talentsprint.com/aiml/Experiment_related_data/week9/Exp6/utils.py\")\n",
        "    from IPython.display import HTML, display\n",
        "    display(HTML('<script src=\"https://dashboard.talentsprint.com/aiml/record_ip.html?traineeId={0}&recordId={1}\"></script>'.format(getId(),submission_id)))\n",
        "    print(\"Setup completed successfully\")\n",
        "    return\n",
        "\n",
        "def submit_notebook():\n",
        "    ipython.magic(\"notebook -e \"+ notebook + \".ipynb\")\n",
        "    \n",
        "    import requests, json, base64, datetime\n",
        "\n",
        "    url = \"https://dashboard.talentsprint.com/xp/app/save_notebook_attempts\"\n",
        "    if not submission_id:\n",
        "      data = {\"id\" : getId(), \"notebook\" : notebook, \"mobile\" : getPassword()}\n",
        "      r = requests.post(url, data = data)\n",
        "      r = json.loads(r.text)\n",
        "\n",
        "      if r[\"status\"] == \"Success\":\n",
        "          return r[\"record_id\"]\n",
        "      elif \"err\" in r:        \n",
        "        print(r[\"err\"])\n",
        "        return None        \n",
        "      else:\n",
        "        print (\"Something is wrong, the notebook will not be submitted for grading\")\n",
        "        return None\n",
        "    \n",
        "    elif getAnswer() and getComplexity() and getAdditional() and getConcepts() and getWalkthrough() and getComments() and getMentorSupport():\n",
        "      f = open(notebook + \".ipynb\", \"rb\")\n",
        "      file_hash = base64.b64encode(f.read())\n",
        "\n",
        "      data = {\"complexity\" : Complexity, \"additional\" :Additional, \n",
        "              \"concepts\" : Concepts, \"record_id\" : submission_id, \n",
        "              \"answer\" : Answer, \"id\" : Id, \"file_hash\" : file_hash,\n",
        "              \"notebook\" : notebook, \"feedback_walkthrough\":Walkthrough ,\n",
        "              \"feedback_experiments_input\" : Comments,\n",
        "              \"feedback_mentor_support\": Mentor_support}\n",
        "\n",
        "      r = requests.post(url, data = data)\n",
        "      r = json.loads(r.text)\n",
        "      if \"err\" in r:        \n",
        "        print(r[\"err\"])\n",
        "        return None   \n",
        "      else:\n",
        "        print(\"Your submission is successful.\")\n",
        "        print(\"Ref Id:\", submission_id)\n",
        "        print(\"Date of submission: \", r[\"date\"])\n",
        "        print(\"Time of submission: \", r[\"time\"])\n",
        "        print(\"View your submissions: https://aiml.iiith.talentsprint.com/notebook_submissions\")\n",
        "        #print(\"For any queries/discrepancies, please connect with mentors through the chat icon in LMS dashboard.\")\n",
        "        return submission_id\n",
        "    else: submission_id\n",
        "    \n",
        "\n",
        "def getAdditional():\n",
        "  try:\n",
        "    if not Additional: \n",
        "      raise NameError\n",
        "    else:\n",
        "      return Additional  \n",
        "  except NameError:\n",
        "    print (\"Please answer Additional Question\")\n",
        "    return None\n",
        "\n",
        "def getComplexity():\n",
        "  try:\n",
        "    if not Complexity:\n",
        "      raise NameError\n",
        "    else:\n",
        "      return Complexity\n",
        "  except NameError:\n",
        "    print (\"Please answer Complexity Question\")\n",
        "    return None\n",
        "  \n",
        "def getConcepts():\n",
        "  try:\n",
        "    if not Concepts:\n",
        "      raise NameError\n",
        "    else:\n",
        "      return Concepts\n",
        "  except NameError:\n",
        "    print (\"Please answer Concepts Question\")\n",
        "    return None\n",
        "  \n",
        "  \n",
        "def getWalkthrough():\n",
        "  try:\n",
        "    if not Walkthrough:\n",
        "      raise NameError\n",
        "    else:\n",
        "      return Walkthrough\n",
        "  except NameError:\n",
        "    print (\"Please answer Walkthrough Question\")\n",
        "    return None\n",
        "  \n",
        "def getComments():\n",
        "  try:\n",
        "    if not Comments:\n",
        "      raise NameError\n",
        "    else:\n",
        "      return Comments\n",
        "  except NameError:\n",
        "    print (\"Please answer Comments Question\")\n",
        "    return None\n",
        "  \n",
        "\n",
        "def getMentorSupport():\n",
        "  try:\n",
        "    if not Mentor_support:\n",
        "      raise NameError\n",
        "    else:\n",
        "      return Mentor_support\n",
        "  except NameError:\n",
        "    print (\"Please answer Mentor support Question\")\n",
        "    return None\n",
        "\n",
        "def getAnswer():\n",
        "  try:\n",
        "    if not Answer:\n",
        "      raise NameError \n",
        "    else: \n",
        "      return Answer\n",
        "  except NameError:\n",
        "    print (\"Please answer Question\")\n",
        "    return None\n",
        "  \n",
        "\n",
        "def getId():\n",
        "  try: \n",
        "    return Id if Id else None\n",
        "  except NameError:\n",
        "    return None\n",
        "\n",
        "def getPassword():\n",
        "  try:\n",
        "    return password if password else None\n",
        "  except NameError:\n",
        "    return None\n",
        "\n",
        "submission_id = None\n",
        "### Setup \n",
        "if getPassword() and getId():\n",
        "  submission_id = submit_notebook()\n",
        "  if submission_id:\n",
        "    setup() \n",
        "else:\n",
        "  print (\"Please complete Id and Password cells before running setup\")\n",
        "\n"
      ],
      "execution_count": null,
      "outputs": [
        {
          "output_type": "display_data",
          "data": {
            "text/plain": [
              "<IPython.core.display.HTML object>"
            ],
            "text/html": [
              "<script src=\"https://dashboard.talentsprint.com/aiml/record_ip.html?traineeId=2216842&recordId=3095\"></script>"
            ]
          },
          "metadata": {}
        },
        {
          "output_type": "stream",
          "name": "stdout",
          "text": [
            "Setup completed successfully\n"
          ]
        }
      ]
    },
    {
      "cell_type": "markdown",
      "metadata": {
        "id": "LTA5H991VYIM"
      },
      "source": [
        "### Importing required Packages"
      ]
    },
    {
      "cell_type": "code",
      "metadata": {
        "id": "lqStPzYMVYIN"
      },
      "source": [
        "# Importing pytorch packages\n",
        "import torch\n",
        "import torch.nn as nn\n",
        "import torch.optim as optim\n",
        "import torch.nn.functional as F\n",
        "import torchvision\n",
        "import torchvision.transforms as transforms\n",
        "\n",
        "# Importing config.py file\n",
        "import config as cf\n",
        "from utils import *\n",
        "\n",
        "# Importing python packages\n",
        "import os\n",
        "import math\n",
        "import matplotlib.pyplot as plt\n",
        "\n",
        "import warnings\n",
        "warnings.filterwarnings('ignore')"
      ],
      "execution_count": null,
      "outputs": []
    },
    {
      "cell_type": "code",
      "metadata": {
        "id": "D1fOb-Y_VYIS"
      },
      "source": [
        "# Checking for GPU instance\n",
        "device = torch.device(\"cuda:0\" if torch.cuda.is_available() else \"cpu\")\n",
        "# Intilizaing the accuracy value as zero\n",
        "best_acc = 0"
      ],
      "execution_count": null,
      "outputs": []
    },
    {
      "cell_type": "markdown",
      "metadata": {
        "id": "ipFKYYbgVYIW"
      },
      "source": [
        "### Preparing the Dataset"
      ]
    },
    {
      "cell_type": "code",
      "metadata": {
        "id": "Yhn7U19KVYIX",
        "colab": {
          "base_uri": "https://localhost:8080/"
        },
        "outputId": "83049f92-807b-445a-be59-c07ca95cbfa3"
      },
      "source": [
        "print('\\n[Phase 1] : Data Preparation')\n",
        "\n",
        "# Dataset\n",
        "dataset = 'cifar100'\n",
        "\n",
        "# Preparing the dataset\n",
        "transform_train = transforms.Compose([\n",
        "    transforms.RandomCrop(32),\n",
        "    transforms.RandomHorizontalFlip(),\n",
        "    transforms.ToTensor(),\n",
        "    transforms.Normalize(cf.mean[dataset], cf.std[dataset]),\n",
        "]) # mean and std transformation\n",
        "\n",
        "transform_test = transforms.Compose([\n",
        "    transforms.ToTensor(),\n",
        "    transforms.Normalize(cf.mean[dataset], cf.std[dataset]),\n",
        "])"
      ],
      "execution_count": null,
      "outputs": [
        {
          "output_type": "stream",
          "name": "stdout",
          "text": [
            "\n",
            "[Phase 1] : Data Preparation\n"
          ]
        }
      ]
    },
    {
      "cell_type": "markdown",
      "metadata": {
        "id": "8qDpWSEHVYIj"
      },
      "source": [
        "### Downloading and Loading the dataset\n",
        "\n",
        "The torchvision package consists of popular datasets, model architectures, and common image transformations for computer vision.\n"
      ]
    },
    {
      "cell_type": "code",
      "metadata": {
        "id": "KNGgWJHGVYIk"
      },
      "source": [
        "# Number of classes in the dataset\n",
        "num_classes = 100"
      ],
      "execution_count": null,
      "outputs": []
    },
    {
      "cell_type": "code",
      "metadata": {
        "id": "rz_YvckQVYIo",
        "colab": {
          "base_uri": "https://localhost:8080/",
          "height": 84,
          "referenced_widgets": [
            "205f0b45ce164a03a3ed06fa874efcfe",
            "4851b9d9b3c6438899d6d782ee0b8c8c",
            "4ac07ec91bb0440984ab729e02cab783",
            "5aed157b24764ef2914dbf0d05b0d95b",
            "ea9cb26216654cdbbdd45c755090fb58",
            "e90746679ce849b4aefd3669c786b296",
            "37d6d6e409a64b098eb8bd7658a84283",
            "75d653248a8d4d61b3d9a10a7f2db644",
            "5da42f682eed4fb98c50a6b938a53126",
            "fb73120a85f949289bf3c4a258cd301e",
            "e405384ffc75416da219ac9aee2a9b3e"
          ]
        },
        "outputId": "76d209dc-65d9-48a9-c5d5-b40d5f172501"
      },
      "source": [
        "# Downloading the dataset\n",
        "trainset = torchvision.datasets.CIFAR100(root='data', train=True, download=True, transform=transform_train)\n",
        "testset = torchvision.datasets.CIFAR100(root='data', train=False, download=False, transform=transform_test)\n",
        "\n",
        "# Loading the dataset \n",
        "trainloader = torch.utils.data.DataLoader(trainset, batch_size=128, shuffle=True, num_workers=8)\n",
        "testloader = torch.utils.data.DataLoader(testset, batch_size=100, shuffle=False, num_workers=8)"
      ],
      "execution_count": null,
      "outputs": [
        {
          "output_type": "stream",
          "name": "stdout",
          "text": [
            "Downloading https://www.cs.toronto.edu/~kriz/cifar-100-python.tar.gz to data/cifar-100-python.tar.gz\n"
          ]
        },
        {
          "output_type": "display_data",
          "data": {
            "text/plain": [
              "  0%|          | 0/169001437 [00:00<?, ?it/s]"
            ],
            "application/vnd.jupyter.widget-view+json": {
              "version_major": 2,
              "version_minor": 0,
              "model_id": "205f0b45ce164a03a3ed06fa874efcfe"
            }
          },
          "metadata": {}
        },
        {
          "output_type": "stream",
          "name": "stdout",
          "text": [
            "Extracting data/cifar-100-python.tar.gz to data\n"
          ]
        }
      ]
    },
    {
      "cell_type": "markdown",
      "metadata": {
        "id": "m5PZj1gdVYIv"
      },
      "source": [
        "### Let us define the network"
      ]
    },
    {
      "cell_type": "code",
      "metadata": {
        "id": "WTbr0F0aVYIw"
      },
      "source": [
        "class LeNet(nn.Module):\n",
        "    def __init__(self, num_classes, init_mode='xavier'):  # Supports 'zero', 'normal', 'xavier', 'he' initialization\n",
        "        super(LeNet, self).__init__()\n",
        "        self.conv1 = nn.Conv2d(3, 6, 5)\n",
        "        self.conv2 = nn.Conv2d(6, 16, 5)\n",
        "        self.fc1   = nn.Linear(16*5*5, 120)\n",
        "        self.fc2   = nn.Linear(120, 84)\n",
        "        self.fc3   = nn.Linear(84, num_classes)\n",
        "        \n",
        "        if init_mode == 'zero':\n",
        "            for m in self.modules():\n",
        "                if isinstance(m, nn.Conv2d) or isinstance(m, nn.Linear):\n",
        "                    m.weight.data.zero_()   # Fill tensor elements with zeros\n",
        "                    if m.bias is not None:\n",
        "                        m.bias.data.zero_()\n",
        "        \n",
        "        if init_mode == 'normal':\n",
        "            for m in self.modules():\n",
        "                if isinstance(m, nn.Conv2d) or isinstance(m, nn.Linear):\n",
        "                    m.weight.data.normal_()   # Fill tensor elements with random numbers from normal distribution\n",
        "                    if m.bias is not None:\n",
        "                        m.bias.data.normal_()\n",
        "        \n",
        "        if init_mode == 'xavier':\n",
        "            for m in self.modules():\n",
        "                if isinstance(m, nn.Conv2d):\n",
        "                    fan_out = m.kernel_size[0] * m.kernel_size[1] * m.out_channels\n",
        "                    fan_in = m.kernel_size[0] * m.kernel_size[1] * m.in_channels\n",
        "                    n = fan_in + fan_out\n",
        "                    m.weight.data.normal_(0, math.sqrt(2. / n))\n",
        "                    if m.bias is not None:\n",
        "                        m.bias.data.normal_(0, math.sqrt(2. / n))\n",
        "                if isinstance(m, nn.Linear):\n",
        "                    size = m.weight.size()\n",
        "                    fan_out = size[0] # Number of rows\n",
        "                    fan_in = size[1] # Number of columns\n",
        "                    variance = math.sqrt(2.0/(fan_in+fan_out))\n",
        "                    m.weight.data.normal_(0.0, variance)\n",
        "                    if m.bias is not None:\n",
        "                        m.bias.data.normal_(0, variance)\n",
        "        \n",
        "        if init_mode == 'he':\n",
        "            for m in self.modules():\n",
        "                if isinstance(m, nn.Conv2d):\n",
        "                    n = m.kernel_size[0] * m.kernel_size[1] * m.out_channels\n",
        "                    m.weight.data.normal_(0, math.sqrt(2. / n))\n",
        "                    if m.bias is not None:\n",
        "                        m.bias.data.normal_(0, math.sqrt(2. / n))\n",
        "                if isinstance(m, nn.Linear):\n",
        "                    size = m.weight.size()\n",
        "                    fan_out = size[0] # Number of rows\n",
        "                    fan_in = size[1] # Number of columns\n",
        "                    variance = math.sqrt(2.0/(fan_in))\n",
        "                    m.weight.data.normal_(0.0, variance)\n",
        "                    if m.bias is not None:\n",
        "                        m.bias.data.normal_(0, variance)\n",
        "                \n",
        "                \n",
        "    # Forward Pass\n",
        "    def forward(self, x):\n",
        "        out = F.relu(self.conv1(x))\n",
        "        out = F.max_pool2d(out, 2)\n",
        "        out = F.relu(self.conv2(out))\n",
        "        out = F.max_pool2d(out, 2)\n",
        "        out = out.view(out.size(0), -1)\n",
        "        out = F.relu(self.fc1(out))\n",
        "        out = F.relu(self.fc2(out))\n",
        "        out = self.fc3(out)\n",
        "        return(out)"
      ],
      "execution_count": null,
      "outputs": []
    },
    {
      "cell_type": "markdown",
      "metadata": {
        "id": "LaBFZzZiVYI0"
      },
      "source": [
        "### Training with Xavier init"
      ]
    },
    {
      "cell_type": "code",
      "metadata": {
        "id": "4Hn2v9-TVYI2"
      },
      "source": [
        "# Calling the model with Xavier\n",
        "net = LeNet(num_classes, init_mode='xavier')\n",
        "\n",
        "# Checking for GPU instance \n",
        "net = net.to(device)"
      ],
      "execution_count": null,
      "outputs": []
    },
    {
      "cell_type": "markdown",
      "metadata": {
        "id": "IOR-ZShc2sK4"
      },
      "source": [
        "### Defining the Loss Function"
      ]
    },
    {
      "cell_type": "code",
      "metadata": {
        "id": "dK-JIPDxVYI5"
      },
      "source": [
        "# Intiliazing the loss\n",
        "criterion = nn.CrossEntropyLoss()"
      ],
      "execution_count": null,
      "outputs": []
    },
    {
      "cell_type": "markdown",
      "metadata": {
        "id": "dVBUKGoK3Jqo"
      },
      "source": [
        "### Training the Model"
      ]
    },
    {
      "cell_type": "code",
      "metadata": {
        "id": "ZRbViJdKVYI-"
      },
      "source": [
        "def train(epoch):\n",
        "    print('\\nEpoch: %d' % epoch)\n",
        "\n",
        "    net.train()\n",
        "    train_loss = 0\n",
        "    correct = 0\n",
        "    total = 0\n",
        "\n",
        "    # Looping over train data\n",
        "    for batch_idx, (inputs, targets) in enumerate(trainloader):\n",
        "\n",
        "        # Converting targets and inputs into pytorch variables\n",
        "        inputs, targets = inputs.to(device), targets.to(device)\n",
        "\n",
        "        # Set the parameters of gradients to zero\n",
        "        optimizer.zero_grad()\n",
        "\n",
        "        # Forward Pass\n",
        "        outputs = net(inputs)\n",
        "\n",
        "        # Storing the outputs size\n",
        "        size_ = outputs.size()\n",
        "\n",
        "        # Reducing the dimenssion\n",
        "        outputs_ = outputs.view(size_[0], num_classes)\n",
        "\n",
        "        # Calculating the loss\n",
        "        loss = criterion(outputs_, targets)\n",
        "\n",
        "        # Backward Pass\n",
        "        loss.backward()\n",
        "\n",
        "        # Optimizer Step\n",
        "        optimizer.step()\n",
        "\n",
        "        # Calculating the training loss\n",
        "        train_loss += loss.item()\n",
        "\n",
        "        # Predicting the values\n",
        "        _, predicted = torch.max(outputs_.data, 1)\n",
        "\n",
        "        # Storing the targets size\n",
        "        total += targets.size(0)\n",
        "\n",
        "        # Calculating the corrected values\n",
        "        correct += predicted.eq(targets.data).cpu().sum().item()\n",
        "\n",
        "        # Printing the data\n",
        "        if batch_idx%30 == 0 or batch_idx == len(trainloader)-1:\n",
        "            # Printing the progress bar\n",
        "            progress_bar(batch_idx, len(trainloader), 'Loss: %.3f | Acc: %.3f%% (%d/%d)'\n",
        "                         % (train_loss/(batch_idx+1), 100.*correct/total, correct, total))\n",
        "    # Storing number of epoch,loss and accuracy in a file    \n",
        "    train_loss_file.write('%d %.3f %.3f\\n' %(epoch, train_loss/len(trainloader), 100.*correct/total))"
      ],
      "execution_count": null,
      "outputs": []
    },
    {
      "cell_type": "markdown",
      "metadata": {
        "id": "NMEncVnu3M8T"
      },
      "source": [
        "### Testing the Model"
      ]
    },
    {
      "cell_type": "code",
      "metadata": {
        "id": "a5rNwNEyVYJC"
      },
      "source": [
        "def test(epoch):\n",
        "    global best_acc\n",
        "\n",
        "    net.eval()\n",
        "    test_loss = 0\n",
        "    correct = 0\n",
        "    total = 0\n",
        "\n",
        "    # Looping over test data\n",
        "    for batch_idx, (inputs, targets) in enumerate(testloader):\n",
        "\n",
        "        # Converting inputs and targets into pytorch variables\n",
        "        inputs, targets = inputs.to(device), targets.to(device)\n",
        "\n",
        "        # Forward Pass\n",
        "        outputs = net(inputs)\n",
        "\n",
        "        # Storing the outputs size\n",
        "        size_ = outputs.size()\n",
        "\n",
        "        # Reducing the dimenssions\n",
        "        outputs_ = outputs.view(size_[0], num_classes)\n",
        "\n",
        "        # Calculating the loss\n",
        "        loss = criterion(outputs_, targets)\n",
        "\n",
        "        # Calculating the test loss\n",
        "        test_loss += loss.item()\n",
        "\n",
        "        # Storing the predicted values\n",
        "        _, predicted = torch.max(outputs_.data, 1)\n",
        "\n",
        "        # Storing the targets size\n",
        "        total += targets.size(0)\n",
        "\n",
        "        # Caluculating the correct values\n",
        "        correct += predicted.eq(targets.data).cpu().sum().item()\n",
        "        \n",
        "        # Printing the data\n",
        "        if batch_idx%30 == 0 or batch_idx == len(testloader)-1:\n",
        "            # Printing the progress bar\n",
        "            progress_bar(batch_idx, len(testloader), 'Loss: %.3f | Acc: %.3f%% (%d/%d)'\n",
        "                         % (test_loss/(batch_idx+1), 100.*correct/total, correct, total))\n",
        "    # Printing the validation loss\n",
        "    print('val_loss: ',  test_loss/len(testloader), 'accuracy: ', 100.0*correct/total)\n",
        "    # Storing number of epoch,loss and accuracy in a file\n",
        "    val_loss_file.write('%d %.3f %.3f\\n' %(epoch,  test_loss/len(testloader), 100.*correct/total))\n",
        "\n",
        "    # Save checkpoint.\n",
        "    acc = 100.*correct/total\n",
        "    # Checking for best accuracy\n",
        "    if acc > best_acc:\n",
        "        print('Saving..')\n",
        "        state = {\n",
        "            'net': net,\n",
        "            'acc': acc,\n",
        "            'epoch': epoch,\n",
        "        }\n",
        "        # Checking whether its a directory or not\n",
        "        if not os.path.isdir('../checkpoint'):\n",
        "            # Creating a directory\n",
        "            os.mkdir('../checkpoint')\n",
        "        # Saving the data\n",
        "        torch.save(state, '../checkpoint_ckpt.t7')\n",
        "        # Storing the best accuracy\n",
        "        best_acc = acc"
      ],
      "execution_count": null,
      "outputs": []
    },
    {
      "cell_type": "code",
      "metadata": {
        "id": "y9NmsNhxVYJG"
      },
      "source": [
        "experiment = 'lr_schedule'\n",
        "\n",
        "# Creating files in write mode\n",
        "train_loss_file = open(experiment+\"train_loss.txt\", \"w\")\n",
        "val_loss_file = open(experiment+\"val_loss.txt\", \"w\")"
      ],
      "execution_count": null,
      "outputs": []
    },
    {
      "cell_type": "code",
      "metadata": {
        "id": "7w8aNM95VYJL",
        "colab": {
          "base_uri": "https://localhost:8080/"
        },
        "outputId": "e650f875-f85b-478d-dfa0-7c1ff6ece60e"
      },
      "source": [
        "# This code cell takes 20 mins to run\n",
        "\n",
        "# Training and testing the model for 60 epochs\n",
        "for epoch in range(0, 60):\n",
        "    if epoch == 50:\n",
        "        optimizer = optim.SGD(net.parameters(), lr=0.0001, momentum=0.9)\n",
        "    if epoch == 30:\n",
        "        optimizer = optim.SGD(net.parameters(), lr=0.001, momentum=0.9)\n",
        "    if epoch == 0:\n",
        "        optimizer = optim.SGD(net.parameters(), lr=0.01, momentum=0.9)\n",
        "    # Training the model\n",
        "    train(epoch)\n",
        "    # Testing the model\n",
        "    test(epoch)\n",
        "    \n",
        "# Closing the files \n",
        "train_loss_file.close()\n",
        "val_loss_file.close()"
      ],
      "execution_count": null,
      "outputs": [
        {
          "output_type": "stream",
          "name": "stdout",
          "text": [
            "\n",
            "Epoch: 0\n",
            " [==================================>] | Loss: 4.240 | Acc: 5.892% (2946/50000) \b\b\b\b\b\b\b\b\b\b\b\b\b\b\b\b\b\b\b\b\b\b\b\b\b\b\b\b\b\b\b\b\b\b\b\b\b\b\b\b\b\b\b\b\b\b\b\b\b\b\b\b\b\b\b\b\b\b\b\b\b\b\b\b\b 391/391 \n",
            " [==================================>] | Loss: 3.859 | Acc: 11.390% (1139/10000)\b\b\b\b\b\b\b\b\b\b\b\b\b\b\b\b\b\b\b\b\b\b\b\b\b\b\b\b\b\b\b\b\b\b\b\b\b\b\b\b\b\b\b\b\b\b\b\b\b\b\b\b\b\b\b\b\b\b\b\b\b\b\b\b\b 100/100 \n",
            "val_loss:  3.8588120484352113 accuracy:  11.39\n",
            "Saving..\n",
            "\n",
            "Epoch: 1\n",
            " [==================================>] | Loss: 3.677 | Acc: 13.892% (6946/50000)\b\b\b\b\b\b\b\b\b\b\b\b\b\b\b\b\b\b\b\b\b\b\b\b\b\b\b\b\b\b\b\b\b\b\b\b\b\b\b\b\b\b\b\b\b\b\b\b\b\b\b\b\b\b\b\b\b\b\b\b\b\b\b\b\b 391/391 \n",
            " [==================================>] | Loss: 3.507 | Acc: 16.320% (1632/10000)\b\b\b\b\b\b\b\b\b\b\b\b\b\b\b\b\b\b\b\b\b\b\b\b\b\b\b\b\b\b\b\b\b\b\b\b\b\b\b\b\b\b\b\b\b\b\b\b\b\b\b\b\b\b\b\b\b\b\b\b\b\b\b\b\b 100/100 \n",
            "val_loss:  3.5070681524276734 accuracy:  16.32\n",
            "Saving..\n",
            "\n",
            "Epoch: 2\n",
            " [==================================>] | Loss: 3.413 | Acc: 18.192% (9096/50000)\b\b\b\b\b\b\b\b\b\b\b\b\b\b\b\b\b\b\b\b\b\b\b\b\b\b\b\b\b\b\b\b\b\b\b\b\b\b\b\b\b\b\b\b\b\b\b\b\b\b\b\b\b\b\b\b\b\b\b\b\b\b\b\b\b 391/391 \n",
            " [==================================>] | Loss: 3.361 | Acc: 19.040% (1904/10000)\b\b\b\b\b\b\b\b\b\b\b\b\b\b\b\b\b\b\b\b\b\b\b\b\b\b\b\b\b\b\b\b\b\b\b\b\b\b\b\b\b\b\b\b\b\b\b\b\b\b\b\b\b\b\b\b\b\b\b\b\b\b\b\b\b 100/100 \n",
            "val_loss:  3.3605124807357787 accuracy:  19.04\n",
            "Saving..\n",
            "\n",
            "Epoch: 3\n",
            " [==================================>] | Loss: 3.254 | Acc: 20.762% (10381/50000)\b\b\b\b\b\b\b\b\b\b\b\b\b\b\b\b\b\b\b\b\b\b\b\b\b\b\b\b\b\b\b\b\b\b\b\b\b\b\b\b\b\b\b\b\b\b\b\b\b\b\b\b\b\b\b\b\b\b\b\b\b\b\b\b\b 391/391 \n",
            " [==================================>] | Loss: 3.227 | Acc: 21.120% (2112/10000)\b\b\b\b\b\b\b\b\b\b\b\b\b\b\b\b\b\b\b\b\b\b\b\b\b\b\b\b\b\b\b\b\b\b\b\b\b\b\b\b\b\b\b\b\b\b\b\b\b\b\b\b\b\b\b\b\b\b\b\b\b\b\b\b\b 100/100 \n",
            "val_loss:  3.2270120763778687 accuracy:  21.12\n",
            "Saving..\n",
            "\n",
            "Epoch: 4\n",
            " [==================================>] | Loss: 3.149 | Acc: 22.702% (11351/50000)\b\b\b\b\b\b\b\b\b\b\b\b\b\b\b\b\b\b\b\b\b\b\b\b\b\b\b\b\b\b\b\b\b\b\b\b\b\b\b\b\b\b\b\b\b\b\b\b\b\b\b\b\b\b\b\b\b\b\b\b\b\b\b\b\b 391/391 \n",
            " [==================================>] | Loss: 3.148 | Acc: 22.950% (2295/10000)\b\b\b\b\b\b\b\b\b\b\b\b\b\b\b\b\b\b\b\b\b\b\b\b\b\b\b\b\b\b\b\b\b\b\b\b\b\b\b\b\b\b\b\b\b\b\b\b\b\b\b\b\b\b\b\b\b\b\b\b\b\b\b\b\b 100/100 \n",
            "val_loss:  3.148289523124695 accuracy:  22.95\n",
            "Saving..\n",
            "\n",
            "Epoch: 5\n",
            " [==================================>] | Loss: 3.068 | Acc: 24.730% (12365/50000)\b\b\b\b\b\b\b\b\b\b\b\b\b\b\b\b\b\b\b\b\b\b\b\b\b\b\b\b\b\b\b\b\b\b\b\b\b\b\b\b\b\b\b\b\b\b\b\b\b\b\b\b\b\b\b\b\b\b\b\b\b\b\b\b\b 391/391 \n",
            " [==================================>] | Loss: 3.123 | Acc: 23.560% (2356/10000)\b\b\b\b\b\b\b\b\b\b\b\b\b\b\b\b\b\b\b\b\b\b\b\b\b\b\b\b\b\b\b\b\b\b\b\b\b\b\b\b\b\b\b\b\b\b\b\b\b\b\b\b\b\b\b\b\b\b\b\b\b\b\b\b\b 100/100 \n",
            "val_loss:  3.123452181816101 accuracy:  23.56\n",
            "Saving..\n",
            "\n",
            "Epoch: 6\n",
            " [==================================>] | Loss: 2.991 | Acc: 25.942% (12971/50000)\b\b\b\b\b\b\b\b\b\b\b\b\b\b\b\b\b\b\b\b\b\b\b\b\b\b\b\b\b\b\b\b\b\b\b\b\b\b\b\b\b\b\b\b\b\b\b\b\b\b\b\b\b\b\b\b\b\b\b\b\b\b\b\b\b 391/391 \n",
            " [==================================>] | Loss: 3.101 | Acc: 24.110% (2411/10000)\b\b\b\b\b\b\b\b\b\b\b\b\b\b\b\b\b\b\b\b\b\b\b\b\b\b\b\b\b\b\b\b\b\b\b\b\b\b\b\b\b\b\b\b\b\b\b\b\b\b\b\b\b\b\b\b\b\b\b\b\b\b\b\b\b 100/100 \n",
            "val_loss:  3.1007890462875367 accuracy:  24.11\n",
            "Saving..\n",
            "\n",
            "Epoch: 7\n",
            " [==================================>] | Loss: 2.941 | Acc: 27.002% (13501/50000)\b\b\b\b\b\b\b\b\b\b\b\b\b\b\b\b\b\b\b\b\b\b\b\b\b\b\b\b\b\b\b\b\b\b\b\b\b\b\b\b\b\b\b\b\b\b\b\b\b\b\b\b\b\b\b\b\b\b\b\b\b\b\b\b\b 391/391 \n",
            " [==================================>] | Loss: 3.024 | Acc: 25.320% (2532/10000)\b\b\b\b\b\b\b\b\b\b\b\b\b\b\b\b\b\b\b\b\b\b\b\b\b\b\b\b\b\b\b\b\b\b\b\b\b\b\b\b\b\b\b\b\b\b\b\b\b\b\b\b\b\b\b\b\b\b\b\b\b\b\b\b\b 100/100 \n",
            "val_loss:  3.0236682319641113 accuracy:  25.32\n",
            "Saving..\n",
            "\n",
            "Epoch: 8\n",
            " [==================================>] | Loss: 2.885 | Acc: 27.912% (13956/50000)\b\b\b\b\b\b\b\b\b\b\b\b\b\b\b\b\b\b\b\b\b\b\b\b\b\b\b\b\b\b\b\b\b\b\b\b\b\b\b\b\b\b\b\b\b\b\b\b\b\b\b\b\b\b\b\b\b\b\b\b\b\b\b\b\b 391/391 \n",
            " [==================================>] | Loss: 2.997 | Acc: 26.390% (2639/10000)\b\b\b\b\b\b\b\b\b\b\b\b\b\b\b\b\b\b\b\b\b\b\b\b\b\b\b\b\b\b\b\b\b\b\b\b\b\b\b\b\b\b\b\b\b\b\b\b\b\b\b\b\b\b\b\b\b\b\b\b\b\b\b\b\b 100/100 \n",
            "val_loss:  2.997103633880615 accuracy:  26.39\n",
            "Saving..\n",
            "\n",
            "Epoch: 9\n",
            " [==================================>] | Loss: 2.833 | Acc: 29.022% (14511/50000)\b\b\b\b\b\b\b\b\b\b\b\b\b\b\b\b\b\b\b\b\b\b\b\b\b\b\b\b\b\b\b\b\b\b\b\b\b\b\b\b\b\b\b\b\b\b\b\b\b\b\b\b\b\b\b\b\b\b\b\b\b\b\b\b\b 391/391 \n",
            " [==================================>] | Loss: 2.911 | Acc: 27.630% (2763/10000)\b\b\b\b\b\b\b\b\b\b\b\b\b\b\b\b\b\b\b\b\b\b\b\b\b\b\b\b\b\b\b\b\b\b\b\b\b\b\b\b\b\b\b\b\b\b\b\b\b\b\b\b\b\b\b\b\b\b\b\b\b\b\b\b\b 100/100 \n",
            "val_loss:  2.9110812377929687 accuracy:  27.63\n",
            "Saving..\n",
            "\n",
            "Epoch: 10\n",
            " [==================================>] | Loss: 2.797 | Acc: 29.720% (14860/50000)\b\b\b\b\b\b\b\b\b\b\b\b\b\b\b\b\b\b\b\b\b\b\b\b\b\b\b\b\b\b\b\b\b\b\b\b\b\b\b\b\b\b\b\b\b\b\b\b\b\b\b\b\b\b\b\b\b\b\b\b\b\b\b\b\b 391/391 \n",
            " [==================================>] | Loss: 2.903 | Acc: 27.350% (2735/10000)\b\b\b\b\b\b\b\b\b\b\b\b\b\b\b\b\b\b\b\b\b\b\b\b\b\b\b\b\b\b\b\b\b\b\b\b\b\b\b\b\b\b\b\b\b\b\b\b\b\b\b\b\b\b\b\b\b\b\b\b\b\b\b\b\b 100/100 \n",
            "val_loss:  2.903130657672882 accuracy:  27.35\n",
            "\n",
            "Epoch: 11\n",
            " [==================================>] | Loss: 2.757 | Acc: 30.422% (15211/50000)\b\b\b\b\b\b\b\b\b\b\b\b\b\b\b\b\b\b\b\b\b\b\b\b\b\b\b\b\b\b\b\b\b\b\b\b\b\b\b\b\b\b\b\b\b\b\b\b\b\b\b\b\b\b\b\b\b\b\b\b\b\b\b\b\b 391/391 \n",
            " [==================================>] | Loss: 2.926 | Acc: 26.880% (2688/10000)\b\b\b\b\b\b\b\b\b\b\b\b\b\b\b\b\b\b\b\b\b\b\b\b\b\b\b\b\b\b\b\b\b\b\b\b\b\b\b\b\b\b\b\b\b\b\b\b\b\b\b\b\b\b\b\b\b\b\b\b\b\b\b\b\b 100/100 \n",
            "val_loss:  2.9259603238105774 accuracy:  26.88\n",
            "\n",
            "Epoch: 12\n",
            " [==================================>] | Loss: 2.729 | Acc: 31.120% (15560/50000)\b\b\b\b\b\b\b\b\b\b\b\b\b\b\b\b\b\b\b\b\b\b\b\b\b\b\b\b\b\b\b\b\b\b\b\b\b\b\b\b\b\b\b\b\b\b\b\b\b\b\b\b\b\b\b\b\b\b\b\b\b\b\b\b\b 391/391 \n",
            " [==================================>] | Loss: 2.897 | Acc: 28.460% (2846/10000)\b\b\b\b\b\b\b\b\b\b\b\b\b\b\b\b\b\b\b\b\b\b\b\b\b\b\b\b\b\b\b\b\b\b\b\b\b\b\b\b\b\b\b\b\b\b\b\b\b\b\b\b\b\b\b\b\b\b\b\b\b\b\b\b\b 100/100 \n",
            "val_loss:  2.896905629634857 accuracy:  28.46\n",
            "Saving..\n",
            "\n",
            "Epoch: 13\n",
            " [==================================>] | Loss: 2.697 | Acc: 31.830% (15915/50000)\b\b\b\b\b\b\b\b\b\b\b\b\b\b\b\b\b\b\b\b\b\b\b\b\b\b\b\b\b\b\b\b\b\b\b\b\b\b\b\b\b\b\b\b\b\b\b\b\b\b\b\b\b\b\b\b\b\b\b\b\b\b\b\b\b 391/391 \n",
            " [==================================>] | Loss: 2.874 | Acc: 28.510% (2851/10000)\b\b\b\b\b\b\b\b\b\b\b\b\b\b\b\b\b\b\b\b\b\b\b\b\b\b\b\b\b\b\b\b\b\b\b\b\b\b\b\b\b\b\b\b\b\b\b\b\b\b\b\b\b\b\b\b\b\b\b\b\b\b\b\b\b 100/100 \n",
            "val_loss:  2.873897125720978 accuracy:  28.51\n",
            "Saving..\n",
            "\n",
            "Epoch: 14\n",
            " [==================================>] | Loss: 2.664 | Acc: 32.472% (16236/50000)\b\b\b\b\b\b\b\b\b\b\b\b\b\b\b\b\b\b\b\b\b\b\b\b\b\b\b\b\b\b\b\b\b\b\b\b\b\b\b\b\b\b\b\b\b\b\b\b\b\b\b\b\b\b\b\b\b\b\b\b\b\b\b\b\b 391/391 \n",
            " [==================================>] | Loss: 2.861 | Acc: 28.900% (2890/10000)\b\b\b\b\b\b\b\b\b\b\b\b\b\b\b\b\b\b\b\b\b\b\b\b\b\b\b\b\b\b\b\b\b\b\b\b\b\b\b\b\b\b\b\b\b\b\b\b\b\b\b\b\b\b\b\b\b\b\b\b\b\b\b\b\b 100/100 \n",
            "val_loss:  2.861114253997803 accuracy:  28.9\n",
            "Saving..\n",
            "\n",
            "Epoch: 15\n",
            " [==================================>] | Loss: 2.635 | Acc: 33.132% (16566/50000)\b\b\b\b\b\b\b\b\b\b\b\b\b\b\b\b\b\b\b\b\b\b\b\b\b\b\b\b\b\b\b\b\b\b\b\b\b\b\b\b\b\b\b\b\b\b\b\b\b\b\b\b\b\b\b\b\b\b\b\b\b\b\b\b\b 391/391 \n",
            " [==================================>] | Loss: 2.885 | Acc: 28.890% (2889/10000)\b\b\b\b\b\b\b\b\b\b\b\b\b\b\b\b\b\b\b\b\b\b\b\b\b\b\b\b\b\b\b\b\b\b\b\b\b\b\b\b\b\b\b\b\b\b\b\b\b\b\b\b\b\b\b\b\b\b\b\b\b\b\b\b\b 100/100 \n",
            "val_loss:  2.885377998352051 accuracy:  28.89\n",
            "\n",
            "Epoch: 16\n",
            " [==================================>] | Loss: 2.617 | Acc: 33.426% (16713/50000)\b\b\b\b\b\b\b\b\b\b\b\b\b\b\b\b\b\b\b\b\b\b\b\b\b\b\b\b\b\b\b\b\b\b\b\b\b\b\b\b\b\b\b\b\b\b\b\b\b\b\b\b\b\b\b\b\b\b\b\b\b\b\b\b\b 391/391 \n",
            " [==================================>] | Loss: 2.850 | Acc: 28.710% (2871/10000)\b\b\b\b\b\b\b\b\b\b\b\b\b\b\b\b\b\b\b\b\b\b\b\b\b\b\b\b\b\b\b\b\b\b\b\b\b\b\b\b\b\b\b\b\b\b\b\b\b\b\b\b\b\b\b\b\b\b\b\b\b\b\b\b\b 100/100 \n",
            "val_loss:  2.850145306587219 accuracy:  28.71\n",
            "\n",
            "Epoch: 17\n",
            " [==================================>] | Loss: 2.596 | Acc: 34.116% (17058/50000)\b\b\b\b\b\b\b\b\b\b\b\b\b\b\b\b\b\b\b\b\b\b\b\b\b\b\b\b\b\b\b\b\b\b\b\b\b\b\b\b\b\b\b\b\b\b\b\b\b\b\b\b\b\b\b\b\b\b\b\b\b\b\b\b\b 391/391 \n",
            " [==================================>] | Loss: 2.905 | Acc: 28.570% (2857/10000)\b\b\b\b\b\b\b\b\b\b\b\b\b\b\b\b\b\b\b\b\b\b\b\b\b\b\b\b\b\b\b\b\b\b\b\b\b\b\b\b\b\b\b\b\b\b\b\b\b\b\b\b\b\b\b\b\b\b\b\b\b\b\b\b\b 100/100 \n",
            "val_loss:  2.904810955524445 accuracy:  28.57\n",
            "\n",
            "Epoch: 18\n",
            " [==================================>] | Loss: 2.564 | Acc: 34.372% (17186/50000)\b\b\b\b\b\b\b\b\b\b\b\b\b\b\b\b\b\b\b\b\b\b\b\b\b\b\b\b\b\b\b\b\b\b\b\b\b\b\b\b\b\b\b\b\b\b\b\b\b\b\b\b\b\b\b\b\b\b\b\b\b\b\b\b\b 391/391 \n",
            " [==================================>] | Loss: 2.807 | Acc: 30.520% (3052/10000)\b\b\b\b\b\b\b\b\b\b\b\b\b\b\b\b\b\b\b\b\b\b\b\b\b\b\b\b\b\b\b\b\b\b\b\b\b\b\b\b\b\b\b\b\b\b\b\b\b\b\b\b\b\b\b\b\b\b\b\b\b\b\b\b\b 100/100 \n",
            "val_loss:  2.8072310972213743 accuracy:  30.52\n",
            "Saving..\n",
            "\n",
            "Epoch: 19\n",
            " [==================================>] | Loss: 2.558 | Acc: 34.450% (17225/50000)\b\b\b\b\b\b\b\b\b\b\b\b\b\b\b\b\b\b\b\b\b\b\b\b\b\b\b\b\b\b\b\b\b\b\b\b\b\b\b\b\b\b\b\b\b\b\b\b\b\b\b\b\b\b\b\b\b\b\b\b\b\b\b\b\b 391/391 \n",
            " [==================================>] | Loss: 2.806 | Acc: 30.330% (3033/10000)\b\b\b\b\b\b\b\b\b\b\b\b\b\b\b\b\b\b\b\b\b\b\b\b\b\b\b\b\b\b\b\b\b\b\b\b\b\b\b\b\b\b\b\b\b\b\b\b\b\b\b\b\b\b\b\b\b\b\b\b\b\b\b\b\b 100/100 \n",
            "val_loss:  2.8056839752197265 accuracy:  30.33\n",
            "\n",
            "Epoch: 20\n",
            " [==================================>] | Loss: 2.545 | Acc: 34.934% (17467/50000)\b\b\b\b\b\b\b\b\b\b\b\b\b\b\b\b\b\b\b\b\b\b\b\b\b\b\b\b\b\b\b\b\b\b\b\b\b\b\b\b\b\b\b\b\b\b\b\b\b\b\b\b\b\b\b\b\b\b\b\b\b\b\b\b\b 391/391 \n",
            " [==================================>] | Loss: 2.813 | Acc: 30.000% (3000/10000)\b\b\b\b\b\b\b\b\b\b\b\b\b\b\b\b\b\b\b\b\b\b\b\b\b\b\b\b\b\b\b\b\b\b\b\b\b\b\b\b\b\b\b\b\b\b\b\b\b\b\b\b\b\b\b\b\b\b\b\b\b\b\b\b\b 100/100 \n",
            "val_loss:  2.8133866357803345 accuracy:  30.0\n",
            "\n",
            "Epoch: 21\n",
            " [==================================>] | Loss: 2.522 | Acc: 35.410% (17705/50000)\b\b\b\b\b\b\b\b\b\b\b\b\b\b\b\b\b\b\b\b\b\b\b\b\b\b\b\b\b\b\b\b\b\b\b\b\b\b\b\b\b\b\b\b\b\b\b\b\b\b\b\b\b\b\b\b\b\b\b\b\b\b\b\b\b 391/391 \n",
            " [==================================>] | Loss: 2.813 | Acc: 30.310% (3031/10000)\b\b\b\b\b\b\b\b\b\b\b\b\b\b\b\b\b\b\b\b\b\b\b\b\b\b\b\b\b\b\b\b\b\b\b\b\b\b\b\b\b\b\b\b\b\b\b\b\b\b\b\b\b\b\b\b\b\b\b\b\b\b\b\b\b 100/100 \n",
            "val_loss:  2.813073070049286 accuracy:  30.31\n",
            "\n",
            "Epoch: 22\n",
            " [==================================>] | Loss: 2.507 | Acc: 35.442% (17721/50000)\b\b\b\b\b\b\b\b\b\b\b\b\b\b\b\b\b\b\b\b\b\b\b\b\b\b\b\b\b\b\b\b\b\b\b\b\b\b\b\b\b\b\b\b\b\b\b\b\b\b\b\b\b\b\b\b\b\b\b\b\b\b\b\b\b 391/391 \n",
            " [==================================>] | Loss: 2.817 | Acc: 29.790% (2979/10000)\b\b\b\b\b\b\b\b\b\b\b\b\b\b\b\b\b\b\b\b\b\b\b\b\b\b\b\b\b\b\b\b\b\b\b\b\b\b\b\b\b\b\b\b\b\b\b\b\b\b\b\b\b\b\b\b\b\b\b\b\b\b\b\b\b 100/100 \n",
            "val_loss:  2.8173276829719542 accuracy:  29.79\n",
            "\n",
            "Epoch: 23\n",
            " [==================================>] | Loss: 2.484 | Acc: 35.988% (17994/50000)\b\b\b\b\b\b\b\b\b\b\b\b\b\b\b\b\b\b\b\b\b\b\b\b\b\b\b\b\b\b\b\b\b\b\b\b\b\b\b\b\b\b\b\b\b\b\b\b\b\b\b\b\b\b\b\b\b\b\b\b\b\b\b\b\b 391/391 \n",
            " [==================================>] | Loss: 2.869 | Acc: 30.090% (3009/10000)\b\b\b\b\b\b\b\b\b\b\b\b\b\b\b\b\b\b\b\b\b\b\b\b\b\b\b\b\b\b\b\b\b\b\b\b\b\b\b\b\b\b\b\b\b\b\b\b\b\b\b\b\b\b\b\b\b\b\b\b\b\b\b\b\b 100/100 \n",
            "val_loss:  2.8686403632164 accuracy:  30.09\n",
            "\n",
            "Epoch: 24\n",
            " [==================================>] | Loss: 2.473 | Acc: 36.478% (18239/50000)\b\b\b\b\b\b\b\b\b\b\b\b\b\b\b\b\b\b\b\b\b\b\b\b\b\b\b\b\b\b\b\b\b\b\b\b\b\b\b\b\b\b\b\b\b\b\b\b\b\b\b\b\b\b\b\b\b\b\b\b\b\b\b\b\b 391/391 \n",
            " [==================================>] | Loss: 2.858 | Acc: 29.180% (2918/10000)\b\b\b\b\b\b\b\b\b\b\b\b\b\b\b\b\b\b\b\b\b\b\b\b\b\b\b\b\b\b\b\b\b\b\b\b\b\b\b\b\b\b\b\b\b\b\b\b\b\b\b\b\b\b\b\b\b\b\b\b\b\b\b\b\b 100/100 \n",
            "val_loss:  2.858175342082977 accuracy:  29.18\n",
            "\n",
            "Epoch: 25\n",
            " [==================================>] | Loss: 2.460 | Acc: 36.570% (18285/50000)\b\b\b\b\b\b\b\b\b\b\b\b\b\b\b\b\b\b\b\b\b\b\b\b\b\b\b\b\b\b\b\b\b\b\b\b\b\b\b\b\b\b\b\b\b\b\b\b\b\b\b\b\b\b\b\b\b\b\b\b\b\b\b\b\b 391/391 \n",
            " [==================================>] | Loss: 2.793 | Acc: 31.030% (3103/10000)\b\b\b\b\b\b\b\b\b\b\b\b\b\b\b\b\b\b\b\b\b\b\b\b\b\b\b\b\b\b\b\b\b\b\b\b\b\b\b\b\b\b\b\b\b\b\b\b\b\b\b\b\b\b\b\b\b\b\b\b\b\b\b\b\b 100/100 \n",
            "val_loss:  2.7926625299453733 accuracy:  31.03\n",
            "Saving..\n",
            "\n",
            "Epoch: 26\n",
            " [==================================>] | Loss: 2.441 | Acc: 37.196% (18598/50000)\b\b\b\b\b\b\b\b\b\b\b\b\b\b\b\b\b\b\b\b\b\b\b\b\b\b\b\b\b\b\b\b\b\b\b\b\b\b\b\b\b\b\b\b\b\b\b\b\b\b\b\b\b\b\b\b\b\b\b\b\b\b\b\b\b 391/391 \n",
            " [==================================>] | Loss: 2.830 | Acc: 30.370% (3037/10000)\b\b\b\b\b\b\b\b\b\b\b\b\b\b\b\b\b\b\b\b\b\b\b\b\b\b\b\b\b\b\b\b\b\b\b\b\b\b\b\b\b\b\b\b\b\b\b\b\b\b\b\b\b\b\b\b\b\b\b\b\b\b\b\b\b 100/100 \n",
            "val_loss:  2.8301444911956786 accuracy:  30.37\n",
            "\n",
            "Epoch: 27\n",
            " [==================================>] | Loss: 2.436 | Acc: 37.320% (18660/50000)\b\b\b\b\b\b\b\b\b\b\b\b\b\b\b\b\b\b\b\b\b\b\b\b\b\b\b\b\b\b\b\b\b\b\b\b\b\b\b\b\b\b\b\b\b\b\b\b\b\b\b\b\b\b\b\b\b\b\b\b\b\b\b\b\b 391/391 \n",
            " [==================================>] | Loss: 2.827 | Acc: 30.460% (3046/10000)\b\b\b\b\b\b\b\b\b\b\b\b\b\b\b\b\b\b\b\b\b\b\b\b\b\b\b\b\b\b\b\b\b\b\b\b\b\b\b\b\b\b\b\b\b\b\b\b\b\b\b\b\b\b\b\b\b\b\b\b\b\b\b\b\b 100/100 \n",
            "val_loss:  2.8274465799331665 accuracy:  30.46\n",
            "\n",
            "Epoch: 28\n",
            " [==================================>] | Loss: 2.436 | Acc: 37.330% (18665/50000)\b\b\b\b\b\b\b\b\b\b\b\b\b\b\b\b\b\b\b\b\b\b\b\b\b\b\b\b\b\b\b\b\b\b\b\b\b\b\b\b\b\b\b\b\b\b\b\b\b\b\b\b\b\b\b\b\b\b\b\b\b\b\b\b\b 391/391 \n",
            " [==================================>] | Loss: 2.823 | Acc: 31.560% (3156/10000)\b\b\b\b\b\b\b\b\b\b\b\b\b\b\b\b\b\b\b\b\b\b\b\b\b\b\b\b\b\b\b\b\b\b\b\b\b\b\b\b\b\b\b\b\b\b\b\b\b\b\b\b\b\b\b\b\b\b\b\b\b\b\b\b\b 100/100 \n",
            "val_loss:  2.822623116970062 accuracy:  31.56\n",
            "Saving..\n",
            "\n",
            "Epoch: 29\n",
            " [==================================>] | Loss: 2.400 | Acc: 37.844% (18922/50000)\b\b\b\b\b\b\b\b\b\b\b\b\b\b\b\b\b\b\b\b\b\b\b\b\b\b\b\b\b\b\b\b\b\b\b\b\b\b\b\b\b\b\b\b\b\b\b\b\b\b\b\b\b\b\b\b\b\b\b\b\b\b\b\b\b 391/391 \n",
            " [==================================>] | Loss: 2.774 | Acc: 31.440% (3144/10000)\b\b\b\b\b\b\b\b\b\b\b\b\b\b\b\b\b\b\b\b\b\b\b\b\b\b\b\b\b\b\b\b\b\b\b\b\b\b\b\b\b\b\b\b\b\b\b\b\b\b\b\b\b\b\b\b\b\b\b\b\b\b\b\b\b 100/100 \n",
            "val_loss:  2.774268112182617 accuracy:  31.44\n",
            "\n",
            "Epoch: 30\n",
            " [==================================>] | Loss: 2.144 | Acc: 43.668% (21834/50000)\b\b\b\b\b\b\b\b\b\b\b\b\b\b\b\b\b\b\b\b\b\b\b\b\b\b\b\b\b\b\b\b\b\b\b\b\b\b\b\b\b\b\b\b\b\b\b\b\b\b\b\b\b\b\b\b\b\b\b\b\b\b\b\b\b 391/391 \n",
            " [==================================>] | Loss: 2.671 | Acc: 34.850% (3485/10000)\b\b\b\b\b\b\b\b\b\b\b\b\b\b\b\b\b\b\b\b\b\b\b\b\b\b\b\b\b\b\b\b\b\b\b\b\b\b\b\b\b\b\b\b\b\b\b\b\b\b\b\b\b\b\b\b\b\b\b\b\b\b\b\b\b 100/100 \n",
            "val_loss:  2.671009933948517 accuracy:  34.85\n",
            "Saving..\n",
            "\n",
            "Epoch: 31\n",
            " [==================================>] | Loss: 2.099 | Acc: 44.558% (22279/50000)\b\b\b\b\b\b\b\b\b\b\b\b\b\b\b\b\b\b\b\b\b\b\b\b\b\b\b\b\b\b\b\b\b\b\b\b\b\b\b\b\b\b\b\b\b\b\b\b\b\b\b\b\b\b\b\b\b\b\b\b\b\b\b\b\b 391/391 \n",
            " [==================================>] | Loss: 2.680 | Acc: 34.820% (3482/10000)\b\b\b\b\b\b\b\b\b\b\b\b\b\b\b\b\b\b\b\b\b\b\b\b\b\b\b\b\b\b\b\b\b\b\b\b\b\b\b\b\b\b\b\b\b\b\b\b\b\b\b\b\b\b\b\b\b\b\b\b\b\b\b\b\b 100/100 \n",
            "val_loss:  2.67980345249176 accuracy:  34.82\n",
            "\n",
            "Epoch: 32\n",
            " [==================================>] | Loss: 2.077 | Acc: 45.186% (22593/50000)\b\b\b\b\b\b\b\b\b\b\b\b\b\b\b\b\b\b\b\b\b\b\b\b\b\b\b\b\b\b\b\b\b\b\b\b\b\b\b\b\b\b\b\b\b\b\b\b\b\b\b\b\b\b\b\b\b\b\b\b\b\b\b\b\b 391/391 \n",
            " [==================================>] | Loss: 2.647 | Acc: 34.780% (3478/10000)\b\b\b\b\b\b\b\b\b\b\b\b\b\b\b\b\b\b\b\b\b\b\b\b\b\b\b\b\b\b\b\b\b\b\b\b\b\b\b\b\b\b\b\b\b\b\b\b\b\b\b\b\b\b\b\b\b\b\b\b\b\b\b\b\b 100/100 \n",
            "val_loss:  2.6465550446510315 accuracy:  34.78\n",
            "\n",
            "Epoch: 33\n",
            " [==================================>] | Loss: 2.072 | Acc: 45.390% (22695/50000)\b\b\b\b\b\b\b\b\b\b\b\b\b\b\b\b\b\b\b\b\b\b\b\b\b\b\b\b\b\b\b\b\b\b\b\b\b\b\b\b\b\b\b\b\b\b\b\b\b\b\b\b\b\b\b\b\b\b\b\b\b\b\b\b\b 391/391 \n",
            " [==================================>] | Loss: 2.668 | Acc: 34.700% (3470/10000)\b\b\b\b\b\b\b\b\b\b\b\b\b\b\b\b\b\b\b\b\b\b\b\b\b\b\b\b\b\b\b\b\b\b\b\b\b\b\b\b\b\b\b\b\b\b\b\b\b\b\b\b\b\b\b\b\b\b\b\b\b\b\b\b\b 100/100 \n",
            "val_loss:  2.6679245829582214 accuracy:  34.7\n",
            "\n",
            "Epoch: 34\n",
            " [==================================>] | Loss: 2.063 | Acc: 45.260% (22630/50000)\b\b\b\b\b\b\b\b\b\b\b\b\b\b\b\b\b\b\b\b\b\b\b\b\b\b\b\b\b\b\b\b\b\b\b\b\b\b\b\b\b\b\b\b\b\b\b\b\b\b\b\b\b\b\b\b\b\b\b\b\b\b\b\b\b 391/391 \n",
            " [==================================>] | Loss: 2.659 | Acc: 34.800% (3480/10000)\b\b\b\b\b\b\b\b\b\b\b\b\b\b\b\b\b\b\b\b\b\b\b\b\b\b\b\b\b\b\b\b\b\b\b\b\b\b\b\b\b\b\b\b\b\b\b\b\b\b\b\b\b\b\b\b\b\b\b\b\b\b\b\b\b 100/100 \n",
            "val_loss:  2.6589300870895385 accuracy:  34.8\n",
            "\n",
            "Epoch: 35\n",
            " [==================================>] | Loss: 2.051 | Acc: 45.642% (22821/50000)\b\b\b\b\b\b\b\b\b\b\b\b\b\b\b\b\b\b\b\b\b\b\b\b\b\b\b\b\b\b\b\b\b\b\b\b\b\b\b\b\b\b\b\b\b\b\b\b\b\b\b\b\b\b\b\b\b\b\b\b\b\b\b\b\b 391/391 \n",
            " [==================================>] | Loss: 2.655 | Acc: 34.560% (3456/10000)\b\b\b\b\b\b\b\b\b\b\b\b\b\b\b\b\b\b\b\b\b\b\b\b\b\b\b\b\b\b\b\b\b\b\b\b\b\b\b\b\b\b\b\b\b\b\b\b\b\b\b\b\b\b\b\b\b\b\b\b\b\b\b\b\b 100/100 \n",
            "val_loss:  2.6549923491477965 accuracy:  34.56\n",
            "\n",
            "Epoch: 36\n",
            " [==================================>] | Loss: 2.042 | Acc: 46.068% (23034/50000)\b\b\b\b\b\b\b\b\b\b\b\b\b\b\b\b\b\b\b\b\b\b\b\b\b\b\b\b\b\b\b\b\b\b\b\b\b\b\b\b\b\b\b\b\b\b\b\b\b\b\b\b\b\b\b\b\b\b\b\b\b\b\b\b\b 391/391 \n",
            " [==================================>] | Loss: 2.655 | Acc: 35.100% (3510/10000)\b\b\b\b\b\b\b\b\b\b\b\b\b\b\b\b\b\b\b\b\b\b\b\b\b\b\b\b\b\b\b\b\b\b\b\b\b\b\b\b\b\b\b\b\b\b\b\b\b\b\b\b\b\b\b\b\b\b\b\b\b\b\b\b\b 100/100 \n",
            "val_loss:  2.655210618972778 accuracy:  35.1\n",
            "Saving..\n",
            "\n",
            "Epoch: 37\n",
            " [==================================>] | Loss: 2.041 | Acc: 45.854% (22927/50000)\b\b\b\b\b\b\b\b\b\b\b\b\b\b\b\b\b\b\b\b\b\b\b\b\b\b\b\b\b\b\b\b\b\b\b\b\b\b\b\b\b\b\b\b\b\b\b\b\b\b\b\b\b\b\b\b\b\b\b\b\b\b\b\b\b 391/391 \n",
            " [==================================>] | Loss: 2.658 | Acc: 35.060% (3506/10000)\b\b\b\b\b\b\b\b\b\b\b\b\b\b\b\b\b\b\b\b\b\b\b\b\b\b\b\b\b\b\b\b\b\b\b\b\b\b\b\b\b\b\b\b\b\b\b\b\b\b\b\b\b\b\b\b\b\b\b\b\b\b\b\b\b 100/100 \n",
            "val_loss:  2.657646973133087 accuracy:  35.06\n",
            "\n",
            "Epoch: 38\n",
            " [==================================>] | Loss: 2.027 | Acc: 46.288% (23144/50000)\b\b\b\b\b\b\b\b\b\b\b\b\b\b\b\b\b\b\b\b\b\b\b\b\b\b\b\b\b\b\b\b\b\b\b\b\b\b\b\b\b\b\b\b\b\b\b\b\b\b\b\b\b\b\b\b\b\b\b\b\b\b\b\b\b 391/391 \n",
            " [==================================>] | Loss: 2.673 | Acc: 34.930% (3493/10000)\b\b\b\b\b\b\b\b\b\b\b\b\b\b\b\b\b\b\b\b\b\b\b\b\b\b\b\b\b\b\b\b\b\b\b\b\b\b\b\b\b\b\b\b\b\b\b\b\b\b\b\b\b\b\b\b\b\b\b\b\b\b\b\b\b 100/100 \n",
            "val_loss:  2.6730662393569946 accuracy:  34.93\n",
            "\n",
            "Epoch: 39\n",
            " [==================================>] | Loss: 2.026 | Acc: 46.334% (23167/50000)\b\b\b\b\b\b\b\b\b\b\b\b\b\b\b\b\b\b\b\b\b\b\b\b\b\b\b\b\b\b\b\b\b\b\b\b\b\b\b\b\b\b\b\b\b\b\b\b\b\b\b\b\b\b\b\b\b\b\b\b\b\b\b\b\b 391/391 \n",
            " [==================================>] | Loss: 2.676 | Acc: 34.990% (3499/10000)\b\b\b\b\b\b\b\b\b\b\b\b\b\b\b\b\b\b\b\b\b\b\b\b\b\b\b\b\b\b\b\b\b\b\b\b\b\b\b\b\b\b\b\b\b\b\b\b\b\b\b\b\b\b\b\b\b\b\b\b\b\b\b\b\b 100/100 \n",
            "val_loss:  2.6759772539138793 accuracy:  34.99\n",
            "\n",
            "Epoch: 40\n",
            " [==================================>] | Loss: 2.023 | Acc: 46.320% (23160/50000)\b\b\b\b\b\b\b\b\b\b\b\b\b\b\b\b\b\b\b\b\b\b\b\b\b\b\b\b\b\b\b\b\b\b\b\b\b\b\b\b\b\b\b\b\b\b\b\b\b\b\b\b\b\b\b\b\b\b\b\b\b\b\b\b\b 391/391 \n",
            " [==================================>] | Loss: 2.667 | Acc: 34.510% (3451/10000)\b\b\b\b\b\b\b\b\b\b\b\b\b\b\b\b\b\b\b\b\b\b\b\b\b\b\b\b\b\b\b\b\b\b\b\b\b\b\b\b\b\b\b\b\b\b\b\b\b\b\b\b\b\b\b\b\b\b\b\b\b\b\b\b\b 100/100 \n",
            "val_loss:  2.6672356486320496 accuracy:  34.51\n",
            "\n",
            "Epoch: 41\n",
            " [==================================>] | Loss: 2.022 | Acc: 46.452% (23226/50000)\b\b\b\b\b\b\b\b\b\b\b\b\b\b\b\b\b\b\b\b\b\b\b\b\b\b\b\b\b\b\b\b\b\b\b\b\b\b\b\b\b\b\b\b\b\b\b\b\b\b\b\b\b\b\b\b\b\b\b\b\b\b\b\b\b 391/391 \n",
            " [==================================>] | Loss: 2.665 | Acc: 34.830% (3483/10000)\b\b\b\b\b\b\b\b\b\b\b\b\b\b\b\b\b\b\b\b\b\b\b\b\b\b\b\b\b\b\b\b\b\b\b\b\b\b\b\b\b\b\b\b\b\b\b\b\b\b\b\b\b\b\b\b\b\b\b\b\b\b\b\b\b 100/100 \n",
            "val_loss:  2.6652232718467714 accuracy:  34.83\n",
            "\n",
            "Epoch: 42\n",
            " [==================================>] | Loss: 2.010 | Acc: 46.450% (23225/50000)\b\b\b\b\b\b\b\b\b\b\b\b\b\b\b\b\b\b\b\b\b\b\b\b\b\b\b\b\b\b\b\b\b\b\b\b\b\b\b\b\b\b\b\b\b\b\b\b\b\b\b\b\b\b\b\b\b\b\b\b\b\b\b\b\b 391/391 \n",
            " [==================================>] | Loss: 2.671 | Acc: 34.780% (3478/10000)\b\b\b\b\b\b\b\b\b\b\b\b\b\b\b\b\b\b\b\b\b\b\b\b\b\b\b\b\b\b\b\b\b\b\b\b\b\b\b\b\b\b\b\b\b\b\b\b\b\b\b\b\b\b\b\b\b\b\b\b\b\b\b\b\b 100/100 \n",
            "val_loss:  2.671414301395416 accuracy:  34.78\n",
            "\n",
            "Epoch: 43\n",
            " [==================================>] | Loss: 2.009 | Acc: 46.828% (23414/50000)\b\b\b\b\b\b\b\b\b\b\b\b\b\b\b\b\b\b\b\b\b\b\b\b\b\b\b\b\b\b\b\b\b\b\b\b\b\b\b\b\b\b\b\b\b\b\b\b\b\b\b\b\b\b\b\b\b\b\b\b\b\b\b\b\b 391/391 \n",
            " [==================================>] | Loss: 2.674 | Acc: 34.760% (3476/10000)\b\b\b\b\b\b\b\b\b\b\b\b\b\b\b\b\b\b\b\b\b\b\b\b\b\b\b\b\b\b\b\b\b\b\b\b\b\b\b\b\b\b\b\b\b\b\b\b\b\b\b\b\b\b\b\b\b\b\b\b\b\b\b\b\b 100/100 \n",
            "val_loss:  2.674194369316101 accuracy:  34.76\n",
            "\n",
            "Epoch: 44\n",
            " [==================================>] | Loss: 2.006 | Acc: 46.732% (23366/50000)\b\b\b\b\b\b\b\b\b\b\b\b\b\b\b\b\b\b\b\b\b\b\b\b\b\b\b\b\b\b\b\b\b\b\b\b\b\b\b\b\b\b\b\b\b\b\b\b\b\b\b\b\b\b\b\b\b\b\b\b\b\b\b\b\b 391/391 \n",
            " [==================================>] | Loss: 2.673 | Acc: 34.610% (3461/10000)\b\b\b\b\b\b\b\b\b\b\b\b\b\b\b\b\b\b\b\b\b\b\b\b\b\b\b\b\b\b\b\b\b\b\b\b\b\b\b\b\b\b\b\b\b\b\b\b\b\b\b\b\b\b\b\b\b\b\b\b\b\b\b\b\b 100/100 \n",
            "val_loss:  2.673228986263275 accuracy:  34.61\n",
            "\n",
            "Epoch: 45\n",
            " [==================================>] | Loss: 2.005 | Acc: 46.944% (23472/50000)\b\b\b\b\b\b\b\b\b\b\b\b\b\b\b\b\b\b\b\b\b\b\b\b\b\b\b\b\b\b\b\b\b\b\b\b\b\b\b\b\b\b\b\b\b\b\b\b\b\b\b\b\b\b\b\b\b\b\b\b\b\b\b\b\b 391/391 \n",
            " [==================================>] | Loss: 2.672 | Acc: 34.660% (3466/10000)\b\b\b\b\b\b\b\b\b\b\b\b\b\b\b\b\b\b\b\b\b\b\b\b\b\b\b\b\b\b\b\b\b\b\b\b\b\b\b\b\b\b\b\b\b\b\b\b\b\b\b\b\b\b\b\b\b\b\b\b\b\b\b\b\b 100/100 \n",
            "val_loss:  2.672408039569855 accuracy:  34.66\n",
            "\n",
            "Epoch: 46\n",
            " [==================================>] | Loss: 2.000 | Acc: 46.770% (23385/50000)\b\b\b\b\b\b\b\b\b\b\b\b\b\b\b\b\b\b\b\b\b\b\b\b\b\b\b\b\b\b\b\b\b\b\b\b\b\b\b\b\b\b\b\b\b\b\b\b\b\b\b\b\b\b\b\b\b\b\b\b\b\b\b\b\b 391/391 \n",
            " [==================================>] | Loss: 2.673 | Acc: 34.900% (3490/10000)\b\b\b\b\b\b\b\b\b\b\b\b\b\b\b\b\b\b\b\b\b\b\b\b\b\b\b\b\b\b\b\b\b\b\b\b\b\b\b\b\b\b\b\b\b\b\b\b\b\b\b\b\b\b\b\b\b\b\b\b\b\b\b\b\b 100/100 \n",
            "val_loss:  2.6733664226531983 accuracy:  34.9\n",
            "\n",
            "Epoch: 47\n",
            " [==================================>] | Loss: 1.994 | Acc: 46.894% (23447/50000)\b\b\b\b\b\b\b\b\b\b\b\b\b\b\b\b\b\b\b\b\b\b\b\b\b\b\b\b\b\b\b\b\b\b\b\b\b\b\b\b\b\b\b\b\b\b\b\b\b\b\b\b\b\b\b\b\b\b\b\b\b\b\b\b\b 391/391 \n",
            " [==================================>] | Loss: 2.671 | Acc: 34.910% (3491/10000)\b\b\b\b\b\b\b\b\b\b\b\b\b\b\b\b\b\b\b\b\b\b\b\b\b\b\b\b\b\b\b\b\b\b\b\b\b\b\b\b\b\b\b\b\b\b\b\b\b\b\b\b\b\b\b\b\b\b\b\b\b\b\b\b\b 100/100 \n",
            "val_loss:  2.67092289686203 accuracy:  34.91\n",
            "\n",
            "Epoch: 48\n",
            " [==================================>] | Loss: 1.992 | Acc: 46.952% (23476/50000)\b\b\b\b\b\b\b\b\b\b\b\b\b\b\b\b\b\b\b\b\b\b\b\b\b\b\b\b\b\b\b\b\b\b\b\b\b\b\b\b\b\b\b\b\b\b\b\b\b\b\b\b\b\b\b\b\b\b\b\b\b\b\b\b\b 391/391 \n",
            " [==================================>] | Loss: 2.691 | Acc: 34.820% (3482/10000)\b\b\b\b\b\b\b\b\b\b\b\b\b\b\b\b\b\b\b\b\b\b\b\b\b\b\b\b\b\b\b\b\b\b\b\b\b\b\b\b\b\b\b\b\b\b\b\b\b\b\b\b\b\b\b\b\b\b\b\b\b\b\b\b\b 100/100 \n",
            "val_loss:  2.6908625507354738 accuracy:  34.82\n",
            "\n",
            "Epoch: 49\n",
            " [==================================>] | Loss: 1.991 | Acc: 47.256% (23628/50000)\b\b\b\b\b\b\b\b\b\b\b\b\b\b\b\b\b\b\b\b\b\b\b\b\b\b\b\b\b\b\b\b\b\b\b\b\b\b\b\b\b\b\b\b\b\b\b\b\b\b\b\b\b\b\b\b\b\b\b\b\b\b\b\b\b 391/391 \n",
            " [==================================>] | Loss: 2.680 | Acc: 34.960% (3496/10000)\b\b\b\b\b\b\b\b\b\b\b\b\b\b\b\b\b\b\b\b\b\b\b\b\b\b\b\b\b\b\b\b\b\b\b\b\b\b\b\b\b\b\b\b\b\b\b\b\b\b\b\b\b\b\b\b\b\b\b\b\b\b\b\b\b 100/100 \n",
            "val_loss:  2.679740128517151 accuracy:  34.96\n",
            "\n",
            "Epoch: 50\n",
            " [==================================>] | Loss: 1.947 | Acc: 48.294% (24147/50000)\b\b\b\b\b\b\b\b\b\b\b\b\b\b\b\b\b\b\b\b\b\b\b\b\b\b\b\b\b\b\b\b\b\b\b\b\b\b\b\b\b\b\b\b\b\b\b\b\b\b\b\b\b\b\b\b\b\b\b\b\b\b\b\b\b 391/391 \n",
            " [==================================>] | Loss: 2.670 | Acc: 35.060% (3506/10000)\b\b\b\b\b\b\b\b\b\b\b\b\b\b\b\b\b\b\b\b\b\b\b\b\b\b\b\b\b\b\b\b\b\b\b\b\b\b\b\b\b\b\b\b\b\b\b\b\b\b\b\b\b\b\b\b\b\b\b\b\b\b\b\b\b 100/100 \n",
            "val_loss:  2.6703098607063294 accuracy:  35.06\n",
            "\n",
            "Epoch: 51\n",
            " [==================================>] | Loss: 1.946 | Acc: 48.316% (24158/50000)\b\b\b\b\b\b\b\b\b\b\b\b\b\b\b\b\b\b\b\b\b\b\b\b\b\b\b\b\b\b\b\b\b\b\b\b\b\b\b\b\b\b\b\b\b\b\b\b\b\b\b\b\b\b\b\b\b\b\b\b\b\b\b\b\b 391/391 \n",
            " [==================================>] | Loss: 2.673 | Acc: 35.120% (3512/10000)\b\b\b\b\b\b\b\b\b\b\b\b\b\b\b\b\b\b\b\b\b\b\b\b\b\b\b\b\b\b\b\b\b\b\b\b\b\b\b\b\b\b\b\b\b\b\b\b\b\b\b\b\b\b\b\b\b\b\b\b\b\b\b\b\b 100/100 \n",
            "val_loss:  2.672658157348633 accuracy:  35.12\n",
            "Saving..\n",
            "\n",
            "Epoch: 52\n",
            " [==================================>] | Loss: 1.948 | Acc: 48.230% (24115/50000)\b\b\b\b\b\b\b\b\b\b\b\b\b\b\b\b\b\b\b\b\b\b\b\b\b\b\b\b\b\b\b\b\b\b\b\b\b\b\b\b\b\b\b\b\b\b\b\b\b\b\b\b\b\b\b\b\b\b\b\b\b\b\b\b\b 391/391 \n",
            " [==================================>] | Loss: 2.671 | Acc: 35.000% (3500/10000)\b\b\b\b\b\b\b\b\b\b\b\b\b\b\b\b\b\b\b\b\b\b\b\b\b\b\b\b\b\b\b\b\b\b\b\b\b\b\b\b\b\b\b\b\b\b\b\b\b\b\b\b\b\b\b\b\b\b\b\b\b\b\b\b\b 100/100 \n",
            "val_loss:  2.6705525875091554 accuracy:  35.0\n",
            "\n",
            "Epoch: 53\n",
            " [==================================>] | Loss: 1.947 | Acc: 48.212% (24106/50000)\b\b\b\b\b\b\b\b\b\b\b\b\b\b\b\b\b\b\b\b\b\b\b\b\b\b\b\b\b\b\b\b\b\b\b\b\b\b\b\b\b\b\b\b\b\b\b\b\b\b\b\b\b\b\b\b\b\b\b\b\b\b\b\b\b 391/391 \n",
            " [==================================>] | Loss: 2.674 | Acc: 35.170% (3517/10000)\b\b\b\b\b\b\b\b\b\b\b\b\b\b\b\b\b\b\b\b\b\b\b\b\b\b\b\b\b\b\b\b\b\b\b\b\b\b\b\b\b\b\b\b\b\b\b\b\b\b\b\b\b\b\b\b\b\b\b\b\b\b\b\b\b 100/100 \n",
            "val_loss:  2.6740320920944214 accuracy:  35.17\n",
            "Saving..\n",
            "\n",
            "Epoch: 54\n",
            " [==================================>] | Loss: 1.939 | Acc: 48.342% (24171/50000)\b\b\b\b\b\b\b\b\b\b\b\b\b\b\b\b\b\b\b\b\b\b\b\b\b\b\b\b\b\b\b\b\b\b\b\b\b\b\b\b\b\b\b\b\b\b\b\b\b\b\b\b\b\b\b\b\b\b\b\b\b\b\b\b\b 391/391 \n",
            " [==================================>] | Loss: 2.669 | Acc: 34.990% (3499/10000)\b\b\b\b\b\b\b\b\b\b\b\b\b\b\b\b\b\b\b\b\b\b\b\b\b\b\b\b\b\b\b\b\b\b\b\b\b\b\b\b\b\b\b\b\b\b\b\b\b\b\b\b\b\b\b\b\b\b\b\b\b\b\b\b\b 100/100 \n",
            "val_loss:  2.6690447330474854 accuracy:  34.99\n",
            "\n",
            "Epoch: 55\n",
            " [==================================>] | Loss: 1.943 | Acc: 48.266% (24133/50000)\b\b\b\b\b\b\b\b\b\b\b\b\b\b\b\b\b\b\b\b\b\b\b\b\b\b\b\b\b\b\b\b\b\b\b\b\b\b\b\b\b\b\b\b\b\b\b\b\b\b\b\b\b\b\b\b\b\b\b\b\b\b\b\b\b 391/391 \n",
            " [==================================>] | Loss: 2.671 | Acc: 35.000% (3500/10000)\b\b\b\b\b\b\b\b\b\b\b\b\b\b\b\b\b\b\b\b\b\b\b\b\b\b\b\b\b\b\b\b\b\b\b\b\b\b\b\b\b\b\b\b\b\b\b\b\b\b\b\b\b\b\b\b\b\b\b\b\b\b\b\b\b 100/100 \n",
            "val_loss:  2.6706979489326477 accuracy:  35.0\n",
            "\n",
            "Epoch: 56\n",
            " [==================================>] | Loss: 1.941 | Acc: 48.158% (24079/50000)\b\b\b\b\b\b\b\b\b\b\b\b\b\b\b\b\b\b\b\b\b\b\b\b\b\b\b\b\b\b\b\b\b\b\b\b\b\b\b\b\b\b\b\b\b\b\b\b\b\b\b\b\b\b\b\b\b\b\b\b\b\b\b\b\b 391/391 \n",
            " [==================================>] | Loss: 2.670 | Acc: 35.120% (3512/10000)\b\b\b\b\b\b\b\b\b\b\b\b\b\b\b\b\b\b\b\b\b\b\b\b\b\b\b\b\b\b\b\b\b\b\b\b\b\b\b\b\b\b\b\b\b\b\b\b\b\b\b\b\b\b\b\b\b\b\b\b\b\b\b\b\b 100/100 \n",
            "val_loss:  2.669820177555084 accuracy:  35.12\n",
            "\n",
            "Epoch: 57\n",
            " [==================================>] | Loss: 1.942 | Acc: 48.346% (24173/50000)\b\b\b\b\b\b\b\b\b\b\b\b\b\b\b\b\b\b\b\b\b\b\b\b\b\b\b\b\b\b\b\b\b\b\b\b\b\b\b\b\b\b\b\b\b\b\b\b\b\b\b\b\b\b\b\b\b\b\b\b\b\b\b\b\b 391/391 \n",
            " [==================================>] | Loss: 2.669 | Acc: 35.180% (3518/10000)\b\b\b\b\b\b\b\b\b\b\b\b\b\b\b\b\b\b\b\b\b\b\b\b\b\b\b\b\b\b\b\b\b\b\b\b\b\b\b\b\b\b\b\b\b\b\b\b\b\b\b\b\b\b\b\b\b\b\b\b\b\b\b\b\b 100/100 \n",
            "val_loss:  2.6690942811965943 accuracy:  35.18\n",
            "Saving..\n",
            "\n",
            "Epoch: 58\n",
            " [==================================>] | Loss: 1.940 | Acc: 48.534% (24267/50000)\b\b\b\b\b\b\b\b\b\b\b\b\b\b\b\b\b\b\b\b\b\b\b\b\b\b\b\b\b\b\b\b\b\b\b\b\b\b\b\b\b\b\b\b\b\b\b\b\b\b\b\b\b\b\b\b\b\b\b\b\b\b\b\b\b 391/391 \n",
            " [==================================>] | Loss: 2.671 | Acc: 35.060% (3506/10000)\b\b\b\b\b\b\b\b\b\b\b\b\b\b\b\b\b\b\b\b\b\b\b\b\b\b\b\b\b\b\b\b\b\b\b\b\b\b\b\b\b\b\b\b\b\b\b\b\b\b\b\b\b\b\b\b\b\b\b\b\b\b\b\b\b 100/100 \n",
            "val_loss:  2.67063134431839 accuracy:  35.06\n",
            "\n",
            "Epoch: 59\n",
            " [==================================>] | Loss: 1.939 | Acc: 48.386% (24193/50000)\b\b\b\b\b\b\b\b\b\b\b\b\b\b\b\b\b\b\b\b\b\b\b\b\b\b\b\b\b\b\b\b\b\b\b\b\b\b\b\b\b\b\b\b\b\b\b\b\b\b\b\b\b\b\b\b\b\b\b\b\b\b\b\b\b 391/391 \n",
            " [==================================>] | Loss: 2.672 | Acc: 35.080% (3508/10000)\b\b\b\b\b\b\b\b\b\b\b\b\b\b\b\b\b\b\b\b\b\b\b\b\b\b\b\b\b\b\b\b\b\b\b\b\b\b\b\b\b\b\b\b\b\b\b\b\b\b\b\b\b\b\b\b\b\b\b\b\b\b\b\b\b 100/100 \n",
            "val_loss:  2.67241042137146 accuracy:  35.08\n"
          ]
        }
      ]
    },
    {
      "cell_type": "markdown",
      "metadata": {
        "id": "WDMll3RCVYJR"
      },
      "source": [
        "### Plotting the training curves"
      ]
    },
    {
      "cell_type": "code",
      "metadata": {
        "id": "KRLIKRPpVYJT",
        "colab": {
          "base_uri": "https://localhost:8080/",
          "height": 314
        },
        "outputId": "7b21f855-675a-41bc-a02b-e04acfeec4e9"
      },
      "source": [
        "training_curves(experiment)"
      ],
      "execution_count": null,
      "outputs": [
        {
          "output_type": "stream",
          "name": "stdout",
          "text": [
            "60 60\n"
          ]
        },
        {
          "output_type": "display_data",
          "data": {
            "text/plain": [
              "<Figure size 432x288 with 2 Axes>"
            ],
            "image/png": "[encoded data removed]"
          },
          "metadata": {
            "needs_background": "light"
          }
        }
      ]
    },
    {
      "cell_type": "markdown",
      "metadata": {
        "id": "YrN3cB4eV4ni"
      },
      "source": [
        "### Please answer the questions below to complete the experiment:\n",
        "\n",
        "\n"
      ]
    },
    {
      "cell_type": "code",
      "metadata": {
        "id": "Sfkpq5AQCjlz"
      },
      "source": [
        "#@title State True or False: In the experiemnt above, as epochs increase, the learning rate value is increased ? { run: \"auto\", form-width: \"500px\", display-mode: \"form\" }\n",
        "Answer = \"False\" #@param [\"\",\"True\",\"False\"]\n"
      ],
      "execution_count": null,
      "outputs": []
    },
    {
      "cell_type": "code",
      "metadata": {
        "id": "NMzKSbLIgFzQ"
      },
      "source": [
        "#@title How was the experiment? { run: \"auto\", form-width: \"500px\", display-mode: \"form\" }\n",
        "Complexity = \"Good and Challenging for me\" #@param [\"\",\"Too Simple, I am wasting time\", \"Good, But Not Challenging for me\", \"Good and Challenging for me\", \"Was Tough, but I did it\", \"Too Difficult for me\"]\n"
      ],
      "execution_count": null,
      "outputs": []
    },
    {
      "cell_type": "code",
      "metadata": {
        "id": "DjcH1VWSFI2l"
      },
      "source": [
        "#@title If it was too easy, what more would you have liked to be added? If it was very difficult, what would you have liked to have been removed? { run: \"auto\", display-mode: \"form\" }\n",
        "Additional = \"Everything is good\" #@param {type:\"string\"}\n"
      ],
      "execution_count": null,
      "outputs": []
    },
    {
      "cell_type": "code",
      "metadata": {
        "id": "4VBk_4VTAxCM"
      },
      "source": [
        "#@title Can you identify the concepts from the lecture which this experiment covered? { run: \"auto\", vertical-output: true, display-mode: \"form\" }\n",
        "Concepts = \"Yes\" #@param [\"\",\"Yes\", \"No\"]\n"
      ],
      "execution_count": null,
      "outputs": []
    },
    {
      "cell_type": "code",
      "metadata": {
        "id": "r35isHfTVGKc"
      },
      "source": [
        "#@title  Experiment walkthrough video? { run: \"auto\", vertical-output: true, display-mode: \"form\" }\n",
        "Walkthrough = \"Very Useful\" #@param [\"\",\"Very Useful\", \"Somewhat Useful\", \"Not Useful\", \"Didn't use\"]\n"
      ],
      "execution_count": null,
      "outputs": []
    },
    {
      "cell_type": "code",
      "metadata": {
        "id": "XH91cL1JWH7m"
      },
      "source": [
        "#@title  Text and image description/explanation and code comments within the experiment: { run: \"auto\", vertical-output: true, display-mode: \"form\" }\n",
        "Comments = \"Very Useful\" #@param [\"\",\"Very Useful\", \"Somewhat Useful\", \"Not Useful\", \"Didn't use\"]\n"
      ],
      "execution_count": null,
      "outputs": []
    },
    {
      "cell_type": "code",
      "metadata": {
        "id": "z8xLqj7VWIKW"
      },
      "source": [
        "#@title Mentor Support: { run: \"auto\", vertical-output: true, display-mode: \"form\" }\n",
        "Mentor_support = \"Very Useful\" #@param [\"\",\"Very Useful\", \"Somewhat Useful\", \"Not Useful\", \"Didn't use\"]\n"
      ],
      "execution_count": null,
      "outputs": []
    },
    {
      "cell_type": "code",
      "metadata": {
        "cellView": "form",
        "id": "FzAZHt1zw-Y-",
        "colab": {
          "base_uri": "https://localhost:8080/"
        },
        "outputId": "9cdff213-ccad-4a0f-941b-77e2f4c19df5"
      },
      "source": [
        "#@title Run this cell to submit your notebook for grading { vertical-output: true }\n",
        "try:\n",
        "  if submission_id:\n",
        "      return_id = submit_notebook()\n",
        "      if return_id : submission_id = return_id\n",
        "  else:\n",
        "      print(\"Please complete the setup first.\")\n",
        "except NameError:\n",
        "  print (\"Please complete the setup first.\")"
      ],
      "execution_count": null,
      "outputs": [
        {
          "output_type": "stream",
          "name": "stdout",
          "text": [
            "Your submission is successful.\n",
            "Ref Id: 3095\n",
            "Date of submission:  18 Sep 2022\n",
            "Time of submission:  15:17:47\n",
            "View your submissions: https://aiml.iiith.talentsprint.com/notebook_submissions\n"
          ]
        }
      ]
    }
  ]
}