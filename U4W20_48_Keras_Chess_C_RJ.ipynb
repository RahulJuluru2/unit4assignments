{
  "nbformat": 4,
  "nbformat_minor": 0,
  "metadata": {
    "colab": {
      "provenance": [],
      "collapsed_sections": [],
      "include_colab_link": true
    },
    "kernelspec": {
      "display_name": "Python 3",
      "name": "python3"
    },
    "language_info": {
      "name": "python"
    }
  },
  "cells": [
    {
      "cell_type": "markdown",
      "metadata": {
        "id": "view-in-github",
        "colab_type": "text"
      },
      "source": [
        "<a href=\"https://colab.research.google.com/github/RahulJuluru2/unit4assignments/blob/main/U4W20_48_Keras_Chess_C_RJ.ipynb\" target=\"_parent\"><img src=\"https://colab.research.google.com/assets/colab-badge.svg\" alt=\"Open In Colab\"/></a>"
      ]
    },
    {
      "cell_type": "markdown",
      "metadata": {
        "id": "2gD6DFr189TS"
      },
      "source": [
        "# Advanced Certification in AIML\n",
        "## A Program by IIIT-H and TalentSprint"
      ]
    },
    {
      "cell_type": "markdown",
      "metadata": {
        "id": "JkxYpEOgC2-q"
      },
      "source": [
        "## Learning Objectives\n",
        "\n",
        "\n",
        "\n"
      ]
    },
    {
      "cell_type": "markdown",
      "metadata": {
        "id": "byPkySyYcuq9"
      },
      "source": [
        "At the end of the experiment you will be able to :\n",
        "\n",
        "* load and extract features of images\n",
        "\n",
        "* implement convolutional neural networks using Keras Function API "
      ]
    },
    {
      "cell_type": "code",
      "metadata": {
        "id": "vdDv7G8HwrMd",
        "cellView": "form",
        "colab": {
          "base_uri": "https://localhost:8080/",
          "height": 502
        },
        "outputId": "3d928457-4f61-4cd5-e449-acc6d0391027"
      },
      "source": [
        "#@title Experiment Explanation Video\n",
        "from IPython.display import HTML\n",
        "\n",
        "HTML(\"\"\"<video width=\"850\" height=\"480\" controls>\n",
        "  <source src=\"https://cdn.exec.talentsprint.com/non-processed/24_aug_2021_Keras_Chess.mp4\" type=\"video/mp4\">\n",
        "</video>\n",
        "\"\"\")\n"
      ],
      "execution_count": null,
      "outputs": [
        {
          "output_type": "execute_result",
          "data": {
            "text/plain": [
              "<IPython.core.display.HTML object>"
            ],
            "text/html": [
              "<video width=\"850\" height=\"480\" controls>\n",
              "  <source src=\"https://cdn.exec.talentsprint.com/non-processed/24_aug_2021_Keras_Chess.mp4\" type=\"video/mp4\">\n",
              "</video>\n"
            ]
          },
          "metadata": {},
          "execution_count": 1
        }
      ]
    },
    {
      "cell_type": "markdown",
      "metadata": {
        "id": "bIwRGIsp1e1K"
      },
      "source": [
        "## Dataset\n",
        "The dataset chosen for this  experiment is a handmade TalentSprint Chess dataset.The dataset with over 54692 images of Chess Pieces and  the pictures are captured in different angles at 0 degree,15 degree, 30 degree, 45 degree, 60 degree, 75 degree and 90 degree. We have 12 classes in this dataset (BishopBW, BishopColor, KingBW, KingColor, KnightBW, KnightColor, PawnBW,PawnColor, QueenBW, QueenColor, RookBW, RookColor). \n"
      ]
    },
    {
      "cell_type": "markdown",
      "metadata": {
        "id": "prvNp46x2vr9"
      },
      "source": [
        "## Setup Steps"
      ]
    },
    {
      "cell_type": "code",
      "metadata": {
        "id": "-o0Ybz6BtmVZ"
      },
      "source": [
        "#@title Please enter your registration id to start: (e.g. P181900101) { run: \"auto\", display-mode: \"form\" }\n",
        "Id=\"2216842\"#@param{type:\"string\"}"
      ],
      "execution_count": null,
      "outputs": []
    },
    {
      "cell_type": "code",
      "metadata": {
        "id": "9NiFNPXctr3z"
      },
      "source": [
        "#@title Please enter your password (normally your phone number) to continue: { run: \"auto\", display-mode: \"form\" }\n",
        "password=\"9959488784\"#@param{type:\"string\"}"
      ],
      "execution_count": null,
      "outputs": []
    },
    {
      "cell_type": "code",
      "metadata": {
        "id": "WBPPuGmBlDIN",
        "cellView": "form",
        "colab": {
          "base_uri": "https://localhost:8080/",
          "height": 34
        },
        "outputId": "585001f4-13b9-4e5a-9ea6-a15bd87a04b5"
      },
      "source": [
        "#@title Run this cell to complete the setup for this Notebook\n",
        "from IPython import get_ipython\n",
        "\n",
        "ipython = get_ipython()\n",
        "  \n",
        "notebook=\"U4W20_48_Keras_Chess_C\" #name of the notebook\n",
        "def setup():\n",
        "    ipython.magic(\"sx wget -qq https://cdn.iiith.talentsprint.com/aiml/Experiment_related_data/Asokan_Chess_Pieces.zip\")\n",
        "    ipython.magic(\"sx unzip -qq Asokan_Chess_Pieces.zip\")\n",
        "    ipython.magic(\"sx pip uninstall keras-preprocessing\") \n",
        "    ipython.magic(\"sx pip install git+https://github.com/keras-team/keras-preprocessing.git\") \n",
        "    from IPython.display import HTML, display\n",
        "    display(HTML('<script src=\"https://dashboard.talentsprint.com/aiml/record_ip.html?traineeId={0}&recordId={1}\"></script>'.format(getId(),submission_id)))\n",
        "    print(\"Setup completed successfully\")\n",
        "    return\n",
        "\n",
        "def submit_notebook():\n",
        "    ipython.magic(\"notebook -e \"+ notebook + \".ipynb\")\n",
        "    \n",
        "    import requests, json, base64, datetime\n",
        "\n",
        "    url = \"https://dashboard.talentsprint.com/xp/app/save_notebook_attempts\"\n",
        "    if not submission_id:\n",
        "      data = {\"id\" : getId(), \"notebook\" : notebook, \"mobile\" : getPassword()}\n",
        "      r = requests.post(url, data = data)\n",
        "      r = json.loads(r.text)\n",
        "\n",
        "      if r[\"status\"] == \"Success\":\n",
        "          return r[\"record_id\"]\n",
        "      elif \"err\" in r:        \n",
        "        print(r[\"err\"])\n",
        "        return None        \n",
        "      else:\n",
        "        print (\"Something is wrong, the notebook will not be submitted for grading\")\n",
        "        return None\n",
        "    \n",
        "    elif getAnswer() and getComplexity() and getAdditional() and getConcepts() and getWalkthrough() and getComments() and getMentorSupport():\n",
        "      f = open(notebook + \".ipynb\", \"rb\")\n",
        "      file_hash = base64.b64encode(f.read())\n",
        "\n",
        "      data = {\"complexity\" : Complexity, \"additional\" :Additional, \n",
        "              \"concepts\" : Concepts, \"record_id\" : submission_id, \n",
        "              \"answer\" : Answer, \"id\" : Id, \"file_hash\" : file_hash,\n",
        "              \"notebook\" : notebook, \"feedback_walkthrough\":Walkthrough ,\n",
        "              \"feedback_experiments_input\" : Comments,\n",
        "              \"feedback_mentor_support\": Mentor_support}\n",
        "\n",
        "      r = requests.post(url, data = data)\n",
        "      r = json.loads(r.text)\n",
        "      if \"err\" in r:        \n",
        "        print(r[\"err\"])\n",
        "        return None   \n",
        "      else:\n",
        "        print(\"Your submission is successful.\")\n",
        "        print(\"Ref Id:\", submission_id)\n",
        "        print(\"Date of submission: \", r[\"date\"])\n",
        "        print(\"Time of submission: \", r[\"time\"])\n",
        "        print(\"View your submissions: https://aiml.iiith.talentsprint.com/notebook_submissions\")\n",
        "        #print(\"For any queries/discrepancies, please connect with mentors through the chat icon in LMS dashboard.\")\n",
        "        return submission_id\n",
        "    else: submission_id\n",
        "    \n",
        "\n",
        "def getAdditional():\n",
        "  try:\n",
        "    if not Additional: \n",
        "      raise NameError\n",
        "    else:\n",
        "      return Additional  \n",
        "  except NameError:\n",
        "    print (\"Please answer Additional Question\")\n",
        "    return None\n",
        "\n",
        "def getComplexity():\n",
        "  try:\n",
        "    if not Complexity:\n",
        "      raise NameError\n",
        "    else:\n",
        "      return Complexity\n",
        "  except NameError:\n",
        "    print (\"Please answer Complexity Question\")\n",
        "    return None\n",
        "  \n",
        "def getConcepts():\n",
        "  try:\n",
        "    if not Concepts:\n",
        "      raise NameError\n",
        "    else:\n",
        "      return Concepts\n",
        "  except NameError:\n",
        "    print (\"Please answer Concepts Question\")\n",
        "    return None\n",
        "  \n",
        "  \n",
        "def getWalkthrough():\n",
        "  try:\n",
        "    if not Walkthrough:\n",
        "      raise NameError\n",
        "    else:\n",
        "      return Walkthrough\n",
        "  except NameError:\n",
        "    print (\"Please answer Walkthrough Question\")\n",
        "    return None\n",
        "  \n",
        "def getComments():\n",
        "  try:\n",
        "    if not Comments:\n",
        "      raise NameError\n",
        "    else:\n",
        "      return Comments\n",
        "  except NameError:\n",
        "    print (\"Please answer Comments Question\")\n",
        "    return None\n",
        "  \n",
        "\n",
        "def getMentorSupport():\n",
        "  try:\n",
        "    if not Mentor_support:\n",
        "      raise NameError\n",
        "    else:\n",
        "      return Mentor_support\n",
        "  except NameError:\n",
        "    print (\"Please answer Mentor support Question\")\n",
        "    return None\n",
        "\n",
        "def getAnswer():\n",
        "  try:\n",
        "    if not Answer:\n",
        "      raise NameError \n",
        "    else: \n",
        "      return Answer\n",
        "  except NameError:\n",
        "    print (\"Please answer Question\")\n",
        "    return None\n",
        "  \n",
        "\n",
        "def getId():\n",
        "  try: \n",
        "    return Id if Id else None\n",
        "  except NameError:\n",
        "    return None\n",
        "\n",
        "def getPassword():\n",
        "  try:\n",
        "    return password if password else None\n",
        "  except NameError:\n",
        "    return None\n",
        "\n",
        "submission_id = None\n",
        "### Setup \n",
        "if getPassword() and getId():\n",
        "  submission_id = submit_notebook()\n",
        "  if submission_id:\n",
        "    setup() \n",
        "else:\n",
        "  print (\"Please complete Id and Password cells before running setup\")\n",
        "\n"
      ],
      "execution_count": null,
      "outputs": [
        {
          "output_type": "display_data",
          "data": {
            "text/plain": [
              "<IPython.core.display.HTML object>"
            ],
            "text/html": [
              "<script src=\"https://dashboard.talentsprint.com/aiml/record_ip.html?traineeId=2216842&recordId=3283\"></script>"
            ]
          },
          "metadata": {}
        },
        {
          "output_type": "stream",
          "name": "stdout",
          "text": [
            "Setup completed successfully\n"
          ]
        }
      ]
    },
    {
      "cell_type": "markdown",
      "metadata": {
        "id": "kNgcxOy65JBq"
      },
      "source": [
        "### Import Required packages"
      ]
    },
    {
      "cell_type": "code",
      "metadata": {
        "id": "h1iDEK6DnQb8"
      },
      "source": [
        "import pandas as pd\n",
        "import numpy as np\n",
        "import glob\n",
        "from PIL import Image\n",
        "from sklearn.model_selection import train_test_split\n",
        "import matplotlib.pyplot as plt\n",
        "# Keras\n",
        "import tensorflow as tf \n",
        "from tensorflow import keras\n",
        "from keras.layers import Input\n",
        "from keras.models import Model\n",
        "from tensorflow.keras.utils import to_categorical\n",
        "from keras.layers import Dense, Conv2D, Flatten,Dropout\n",
        "from keras.layers.pooling import MaxPooling2D"
      ],
      "execution_count": null,
      "outputs": []
    },
    {
      "cell_type": "markdown",
      "metadata": {
        "id": "zFK5le-c5MbN"
      },
      "source": [
        "### Load the data\n",
        "\n",
        "#### About glob.iglob:\n",
        "\n",
        "The glob library  provides methods for traversing the file system and returning files that matched a defined set of glob patterns.\n",
        "\n",
        "**Note:** Refer to  [glob.iglob](https://docs.python.org/3/library/glob.html)"
      ]
    },
    {
      "cell_type": "code",
      "metadata": {
        "id": "9BpuImErUv7x",
        "colab": {
          "base_uri": "https://localhost:8080/"
        },
        "outputId": "d4b5bd87-d214-4493-de9b-3a97332e5346"
      },
      "source": [
        "images_data = glob.glob(\"/content/Asokan_Chess_Pieces/*/*.png\")\n",
        "len(images_data)"
      ],
      "execution_count": null,
      "outputs": [
        {
          "output_type": "execute_result",
          "data": {
            "text/plain": [
              "54692"
            ]
          },
          "metadata": {},
          "execution_count": 6
        }
      ]
    },
    {
      "cell_type": "markdown",
      "metadata": {
        "id": "qF3hzhWY5Rv1"
      },
      "source": [
        "### Extract features and labels from the data"
      ]
    },
    {
      "cell_type": "code",
      "metadata": {
        "id": "mpYC6HF2NHiA"
      },
      "source": [
        "labels = []\n",
        "data = []\n",
        "for image in images_data:\n",
        "    try:\n",
        "        img = Image.open(image)\n",
        "        data.append(np.array(img))\n",
        "        labels.append(image.split(\"/\")[-1].split('_')[1]+image.split(\"/\")[-1].split('_')[2])\n",
        "        \n",
        "    except:\n",
        "        pass"
      ],
      "execution_count": null,
      "outputs": []
    },
    {
      "cell_type": "code",
      "metadata": {
        "id": "CFxKgdEKUkJa",
        "colab": {
          "base_uri": "https://localhost:8080/"
        },
        "outputId": "246ce638-58b4-4871-b6c5-863d520103a8"
      },
      "source": [
        "len(data), len(labels)"
      ],
      "execution_count": null,
      "outputs": [
        {
          "output_type": "execute_result",
          "data": {
            "text/plain": [
              "(54692, 54692)"
            ]
          },
          "metadata": {},
          "execution_count": 8
        }
      ]
    },
    {
      "cell_type": "code",
      "metadata": {
        "id": "WSwxj-WOf1Im",
        "colab": {
          "base_uri": "https://localhost:8080/"
        },
        "outputId": "dc0b390c-a121-4e1f-f116-e5ed555afd29"
      },
      "source": [
        "# Converting lists into numpy arrays\n",
        "data = np.array(data)\n",
        "print(\"data:\",data.shape)\n",
        "labels = np.array(labels)\n",
        "print(\"labels:\",labels)"
      ],
      "execution_count": null,
      "outputs": [
        {
          "output_type": "stream",
          "name": "stdout",
          "text": [
            "data: (54692, 64, 64, 4)\n",
            "labels: ['QueenBW' 'QueenBW' 'QueenBW' ... 'PawnBW' 'PawnBW' 'PawnBW']\n"
          ]
        }
      ]
    },
    {
      "cell_type": "markdown",
      "metadata": {
        "id": "3FYhXuUj7I-h"
      },
      "source": [
        "### Label Encoding\n",
        "\n",
        "Convert the output labels to integer encoded, to understand more about label encoding, refer [link](https://scikit-learn.org/stable/modules/generated/sklearn.preprocessing.LabelEncoder.html)"
      ]
    },
    {
      "cell_type": "code",
      "metadata": {
        "id": "TfDmIDClcLHZ",
        "colab": {
          "base_uri": "https://localhost:8080/"
        },
        "outputId": "59999f08-c8a9-4339-cd3d-1e9d9a7add2c"
      },
      "source": [
        "from sklearn import preprocessing\n",
        "le = preprocessing.LabelEncoder()\n",
        "print(\"Labels before label encoding\", np.unique(labels))\n",
        "labels = le.fit_transform(labels)\n",
        "print(\"Labels after label encoding\", np.unique(labels))"
      ],
      "execution_count": null,
      "outputs": [
        {
          "output_type": "stream",
          "name": "stdout",
          "text": [
            "Labels before label encoding ['BishopBW' 'BishopColor' 'KingBW' 'KingColor' 'KnightBW' 'KnightColor'\n",
            " 'PawnBW' 'PawnColor' 'QueenBW' 'QueenColor' 'RookBW' 'RookColor']\n",
            "Labels after label encoding [ 0  1  2  3  4  5  6  7  8  9 10 11]\n"
          ]
        }
      ]
    },
    {
      "cell_type": "markdown",
      "metadata": {
        "id": "ncGyGHM87Pw_"
      },
      "source": [
        "### Splitting the data into train and test sets "
      ]
    },
    {
      "cell_type": "code",
      "metadata": {
        "id": "CtppRzcIngAd",
        "colab": {
          "base_uri": "https://localhost:8080/"
        },
        "outputId": "99ea6e2d-cd04-4947-a87a-193be4e195eb"
      },
      "source": [
        "# Splitting training and testing dataset\n",
        "X_train, X_test, y_train, y_test = train_test_split(data, labels, test_size=0.2, random_state=42)\n",
        "len(y_train), len(y_test)"
      ],
      "execution_count": null,
      "outputs": [
        {
          "output_type": "execute_result",
          "data": {
            "text/plain": [
              "(43753, 10939)"
            ]
          },
          "metadata": {},
          "execution_count": 11
        }
      ]
    },
    {
      "cell_type": "markdown",
      "metadata": {
        "id": "PxMdU6gq7Yeg"
      },
      "source": [
        "### Data Pre-Processing"
      ]
    },
    {
      "cell_type": "code",
      "metadata": {
        "id": "StjIgdMOX3p8"
      },
      "source": [
        "# Convert the integer encoded labels to a one-hot vector since it is a multi-classification problem\n",
        "y_train_cat = to_categorical(y_train)\n",
        "y_test_cat = to_categorical(y_test)"
      ],
      "execution_count": null,
      "outputs": []
    },
    {
      "cell_type": "markdown",
      "metadata": {
        "id": "SJel8_EYSyb7"
      },
      "source": [
        "### Convolutional Neural Network\n",
        "\n",
        "In this section, we will define a convolutional neural network for image classification.\n",
        "\n",
        "The model receives 64×64x4 images as input, then has a sequence of two convolutional and pooling layers as feature extractors. Followed by a fully connected layer to interpret the features and an output layer with a softmax activation for classification."
      ]
    },
    {
      "cell_type": "code",
      "metadata": {
        "id": "3yuWecX9KAlo",
        "colab": {
          "base_uri": "https://localhost:8080/"
        },
        "outputId": "d5aa46b3-eb12-4841-f15b-e7905faf2a24"
      },
      "source": [
        "input = Input(shape=(64,64,4))\n",
        "conv1 = Conv2D(32, kernel_size=5, activation='relu')(input)\n",
        "pool1 = MaxPooling2D(pool_size=(2, 2))(conv1)\n",
        "drp1 = Dropout(0.25)(pool1)\n",
        "conv2 = Conv2D(64, kernel_size=3, activation='relu')(drp1)\n",
        "pool2 = MaxPooling2D(pool_size=(2, 2))(conv2)\n",
        "drp2 = Dropout(0.25)(pool2)\n",
        "flat = Flatten()(drp2)\n",
        "fc1 = Dense(128, activation='relu')(flat)\n",
        "fc2 = Dense(64, activation = 'relu')(fc1)\n",
        "output = Dense(12, activation='softmax')(fc2)\n",
        "model = Model(inputs=input, outputs=output)\n",
        "\n",
        "# Summarize layers\n",
        "print(model.summary())"
      ],
      "execution_count": null,
      "outputs": [
        {
          "output_type": "stream",
          "name": "stdout",
          "text": [
            "Model: \"model\"\n",
            "_________________________________________________________________\n",
            " Layer (type)                Output Shape              Param #   \n",
            "=================================================================\n",
            " input_1 (InputLayer)        [(None, 64, 64, 4)]       0         \n",
            "                                                                 \n",
            " conv2d (Conv2D)             (None, 60, 60, 32)        3232      \n",
            "                                                                 \n",
            " max_pooling2d (MaxPooling2D  (None, 30, 30, 32)       0         \n",
            " )                                                               \n",
            "                                                                 \n",
            " dropout (Dropout)           (None, 30, 30, 32)        0         \n",
            "                                                                 \n",
            " conv2d_1 (Conv2D)           (None, 28, 28, 64)        18496     \n",
            "                                                                 \n",
            " max_pooling2d_1 (MaxPooling  (None, 14, 14, 64)       0         \n",
            " 2D)                                                             \n",
            "                                                                 \n",
            " dropout_1 (Dropout)         (None, 14, 14, 64)        0         \n",
            "                                                                 \n",
            " flatten (Flatten)           (None, 12544)             0         \n",
            "                                                                 \n",
            " dense (Dense)               (None, 128)               1605760   \n",
            "                                                                 \n",
            " dense_1 (Dense)             (None, 64)                8256      \n",
            "                                                                 \n",
            " dense_2 (Dense)             (None, 12)                780       \n",
            "                                                                 \n",
            "=================================================================\n",
            "Total params: 1,636,524\n",
            "Trainable params: 1,636,524\n",
            "Non-trainable params: 0\n",
            "_________________________________________________________________\n",
            "None\n"
          ]
        }
      ]
    },
    {
      "cell_type": "markdown",
      "metadata": {
        "id": "Lgxk4Cfr70by"
      },
      "source": [
        "\n",
        "Compiling the CNN\n",
        " \n",
        "* The first parameter is to get the optimal set of weights in the neural network. Adam is really efficient  to use for large amount of data.\n",
        "* The second parameter is the loss function. Since our classes are categorical, we use  categorical_crossentopy loss function. \n",
        "* The final argument is the criterion to evaluate the model. In this case we use the accuracy."
      ]
    },
    {
      "cell_type": "code",
      "metadata": {
        "id": "dUU4TM0kL5h-"
      },
      "source": [
        "model.compile(optimizer='adam', loss='categorical_crossentropy',\n",
        "\t metrics=['accuracy'])"
      ],
      "execution_count": null,
      "outputs": []
    },
    {
      "cell_type": "markdown",
      "metadata": {
        "id": "sarqg6-376cz"
      },
      "source": [
        "### Training the Model\n",
        "\n",
        "* First parameter contains train images\n",
        "* Second parameter contains labels\n",
        "* Epochs represents the number of times we’re going to pass our full dataset through the CNN."
      ]
    },
    {
      "cell_type": "code",
      "metadata": {
        "id": "xK6WBc1ddwv3",
        "colab": {
          "base_uri": "https://localhost:8080/"
        },
        "outputId": "1a62f62e-3545-422e-c975-1b6b281ecf59"
      },
      "source": [
        "history = model.fit(X_train, y_train_cat, epochs=5)"
      ],
      "execution_count": null,
      "outputs": [
        {
          "output_type": "stream",
          "name": "stdout",
          "text": [
            "Epoch 1/5\n",
            "1368/1368 [==============================] - 308s 224ms/step - loss: 1.8256 - accuracy: 0.9289\n",
            "Epoch 2/5\n",
            "1368/1368 [==============================] - 296s 216ms/step - loss: 0.0998 - accuracy: 0.9708\n",
            "Epoch 3/5\n",
            "1368/1368 [==============================] - 295s 215ms/step - loss: 0.0334 - accuracy: 0.9852\n",
            "Epoch 4/5\n",
            "1368/1368 [==============================] - 294s 215ms/step - loss: 0.0229 - accuracy: 0.9880\n",
            "Epoch 5/5\n",
            "1368/1368 [==============================] - 293s 214ms/step - loss: 0.0717 - accuracy: 0.9740\n"
          ]
        }
      ]
    },
    {
      "cell_type": "markdown",
      "metadata": {
        "id": "wTArwq6I8A2O"
      },
      "source": [
        "### Evaluate the model\n",
        "\n",
        "* First parameter is predicted labels of the test images\n",
        "* Second parameter is actual labels of the test labels"
      ]
    },
    {
      "cell_type": "code",
      "metadata": {
        "id": "u471swSudysW",
        "colab": {
          "base_uri": "https://localhost:8080/"
        },
        "outputId": "a591fb9e-5d80-44f4-89aa-e50e99ca1bdc"
      },
      "source": [
        "test_loss, test_acc = model.evaluate(X_test, y_test_cat) "
      ],
      "execution_count": null,
      "outputs": [
        {
          "output_type": "stream",
          "name": "stdout",
          "text": [
            "342/342 [==============================] - 20s 59ms/step - loss: 0.0198 - accuracy: 0.9897\n"
          ]
        }
      ]
    },
    {
      "cell_type": "markdown",
      "metadata": {
        "id": "r9B3RrvDJLvy"
      },
      "source": [
        "### Predict Labels"
      ]
    },
    {
      "cell_type": "code",
      "metadata": {
        "id": "LK0RbsAzS769"
      },
      "source": [
        "preds = model.predict(X_test)"
      ],
      "execution_count": null,
      "outputs": []
    },
    {
      "cell_type": "code",
      "metadata": {
        "id": "zO-GNn024KH6"
      },
      "source": [
        "predicted_classes = np.argmax(np.round(preds),axis=1)"
      ],
      "execution_count": null,
      "outputs": []
    },
    {
      "cell_type": "code",
      "metadata": {
        "id": "lbiIvKvYO71C",
        "colab": {
          "base_uri": "https://localhost:8080/"
        },
        "outputId": "b2f678fd-60c1-47dc-fd9e-efa6ab6302df"
      },
      "source": [
        "predicted_classes.shape,y_test.shape"
      ],
      "execution_count": null,
      "outputs": [
        {
          "output_type": "execute_result",
          "data": {
            "text/plain": [
              "((10939,), (10939,))"
            ]
          },
          "metadata": {},
          "execution_count": 19
        }
      ]
    },
    {
      "cell_type": "markdown",
      "metadata": {
        "id": "Q8ojdBPt8I6b"
      },
      "source": [
        "### Visualizing the correct predicted images  with actual class"
      ]
    },
    {
      "cell_type": "code",
      "metadata": {
        "id": "JyRF5-qeqB0b",
        "colab": {
          "base_uri": "https://localhost:8080/",
          "height": 674
        },
        "outputId": "7adbf1e8-786c-4161-cb2b-7fdd17fab345"
      },
      "source": [
        "class_names = {i:cn for i, cn in enumerate(['BishopBW', 'BishopColor', 'KingBW', 'KingColor', 'KnightBW',\n",
        "       'KnightColor', 'PawnBW', 'PawnColor', 'QueenBW', 'QueenColor',\n",
        "       'RookBW', 'RookColor']) }\n",
        "correct = np.where(predicted_classes==y_test)[0]\n",
        "print(\"Found %d correct predictions\" % len(correct), \"out of %d test samples\" % (y_test.shape))\n",
        "plt.figure(figsize=(9,9))\n",
        "for i, correct in enumerate(correct[:9]):\n",
        "    plt.subplot(3,3,i+1)\n",
        "    plt.imshow(X_test[correct])\n",
        "    plt.axis('off')\n",
        "    plt.title(\"Predicted {}, Actual {}\".format(predicted_classes[correct], y_test[correct]))\n",
        "    plt.tight_layout()"
      ],
      "execution_count": null,
      "outputs": [
        {
          "output_type": "stream",
          "name": "stdout",
          "text": [
            "Found 10800 correct predictions out of 10939 test samples\n"
          ]
        },
        {
          "output_type": "display_data",
          "data": {
            "text/plain": [
              "<Figure size 648x648 with 9 Axes>"
            ],
            "image/png": "[encoded data removed]"
          },
          "metadata": {
            "needs_background": "light"
          }
        }
      ]
    },
    {
      "cell_type": "markdown",
      "metadata": {
        "id": "Sl_fJJ3lKEOJ"
      },
      "source": [
        "### Classification Report\n",
        "\n",
        "Classification report will help us in identifying the misclassified classes in more detail. You will be able to observe for which class the model performed bad out of the given 12 classes."
      ]
    },
    {
      "cell_type": "code",
      "metadata": {
        "id": "ULmQ874AGOg_",
        "colab": {
          "base_uri": "https://localhost:8080/"
        },
        "outputId": "021a57c5-1c41-4677-eb08-f3a228418bec"
      },
      "source": [
        "class_names = {i:cn for i, cn in enumerate(['BishopBW', 'BishopColor', 'KingBW', 'KingColor', 'KnightBW',\n",
        "       'KnightColor', 'PawnBW', 'PawnColor', 'QueenBW', 'QueenColor',\n",
        "       'RookBW', 'RookColor']) }\n",
        "from sklearn.metrics import classification_report\n",
        "target_names = [\"Class {}\".format(i) for i in range(len(class_names))]\n",
        "print(classification_report(y_test, predicted_classes, target_names=target_names))"
      ],
      "execution_count": null,
      "outputs": [
        {
          "output_type": "stream",
          "name": "stdout",
          "text": [
            "              precision    recall  f1-score   support\n",
            "\n",
            "     Class 0       0.95      1.00      0.97       867\n",
            "     Class 1       1.00      1.00      1.00      1049\n",
            "     Class 2       1.00      1.00      1.00      1140\n",
            "     Class 3       1.00      1.00      1.00       930\n",
            "     Class 4       0.92      0.98      0.95      1041\n",
            "     Class 5       1.00      0.89      0.94      1051\n",
            "     Class 6       1.00      1.00      1.00      1075\n",
            "     Class 7       1.00      1.00      1.00       836\n",
            "     Class 8       1.00      1.00      1.00      1016\n",
            "     Class 9       1.00      1.00      1.00      1156\n",
            "    Class 10       1.00      1.00      1.00       183\n",
            "    Class 11       1.00      1.00      1.00       595\n",
            "\n",
            "    accuracy                           0.99     10939\n",
            "   macro avg       0.99      0.99      0.99     10939\n",
            "weighted avg       0.99      0.99      0.99     10939\n",
            "\n"
          ]
        }
      ]
    },
    {
      "cell_type": "markdown",
      "metadata": {
        "id": "4567cs-xsgiC"
      },
      "source": [
        "### Please answer the questions below to complete the experiment:\n",
        "\n",
        "\n"
      ]
    },
    {
      "cell_type": "code",
      "metadata": {
        "id": "oAvKZjWW0amb",
        "cellView": "form"
      },
      "source": [
        "#@title Select True or False: Does functional API can handle models with non-linear topology, shared layers, and even multiple inputs or outputs.\n",
        "Answer = \"TRUE\" #@param [\"\",\"TRUE\",\"FALSE\"]\n"
      ],
      "execution_count": null,
      "outputs": []
    },
    {
      "cell_type": "code",
      "metadata": {
        "id": "NMzKSbLIgFzQ"
      },
      "source": [
        "#@title How was the experiment? { run: \"auto\", form-width: \"500px\", display-mode: \"form\" }\n",
        "Complexity = \"Good and Challenging for me\" #@param [\"\",\"Too Simple, I am wasting time\", \"Good, But Not Challenging for me\", \"Good and Challenging for me\", \"Was Tough, but I did it\", \"Too Difficult for me\"]\n"
      ],
      "execution_count": null,
      "outputs": []
    },
    {
      "cell_type": "code",
      "metadata": {
        "id": "DjcH1VWSFI2l"
      },
      "source": [
        "#@title If it was too easy, what more would you have liked to be added? If it was very difficult, what would you have liked to have been removed? { run: \"auto\", display-mode: \"form\" }\n",
        "Additional = \"everything is good\" #@param {type:\"string\"}\n"
      ],
      "execution_count": null,
      "outputs": []
    },
    {
      "cell_type": "code",
      "metadata": {
        "id": "4VBk_4VTAxCM"
      },
      "source": [
        "#@title Can you identify the concepts from the lecture which this experiment covered? { run: \"auto\", vertical-output: true, display-mode: \"form\" }\n",
        "Concepts = \"Yes\" #@param [\"\",\"Yes\", \"No\"]\n"
      ],
      "execution_count": null,
      "outputs": []
    },
    {
      "cell_type": "code",
      "metadata": {
        "id": "r35isHfTVGKc"
      },
      "source": [
        "#@title  Experiment walkthrough video? { run: \"auto\", vertical-output: true, display-mode: \"form\" }\n",
        "Walkthrough = \"Very Useful\" #@param [\"\",\"Very Useful\", \"Somewhat Useful\", \"Not Useful\", \"Didn't use\"]\n"
      ],
      "execution_count": null,
      "outputs": []
    },
    {
      "cell_type": "code",
      "metadata": {
        "id": "XH91cL1JWH7m"
      },
      "source": [
        "#@title  Text and image description/explanation and code comments within the experiment: { run: \"auto\", vertical-output: true, display-mode: \"form\" }\n",
        "Comments = \"Very Useful\" #@param [\"\",\"Very Useful\", \"Somewhat Useful\", \"Not Useful\", \"Didn't use\"]\n"
      ],
      "execution_count": null,
      "outputs": []
    },
    {
      "cell_type": "code",
      "metadata": {
        "id": "z8xLqj7VWIKW"
      },
      "source": [
        "#@title Mentor Support: { run: \"auto\", vertical-output: true, display-mode: \"form\" }\n",
        "Mentor_support = \"Very Useful\" #@param [\"\",\"Very Useful\", \"Somewhat Useful\", \"Not Useful\", \"Didn't use\"]\n"
      ],
      "execution_count": null,
      "outputs": []
    },
    {
      "cell_type": "code",
      "metadata": {
        "cellView": "form",
        "id": "FzAZHt1zw-Y-",
        "colab": {
          "base_uri": "https://localhost:8080/"
        },
        "outputId": "6f7b4af1-88e1-47ff-b16d-bb3e1ec3accd"
      },
      "source": [
        "#@title Run this cell to submit your notebook for grading { vertical-output: true }\n",
        "try:\n",
        "  if submission_id:\n",
        "      return_id = submit_notebook()\n",
        "      if return_id : submission_id = return_id\n",
        "  else:\n",
        "      print(\"Please complete the setup first.\")\n",
        "except NameError:\n",
        "  print (\"Please complete the setup first.\")"
      ],
      "execution_count": null,
      "outputs": [
        {
          "output_type": "stream",
          "name": "stdout",
          "text": [
            "Your submission is successful.\n",
            "Ref Id: 3283\n",
            "Date of submission:  25 Sep 2022\n",
            "Time of submission:  15:49:01\n",
            "View your submissions: https://aiml.iiith.talentsprint.com/notebook_submissions\n"
          ]
        }
      ]
    }
  ]
}