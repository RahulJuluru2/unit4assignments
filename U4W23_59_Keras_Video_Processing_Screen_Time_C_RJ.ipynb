{
  "nbformat": 4,
  "nbformat_minor": 0,
  "metadata": {
    "colab": {
      "provenance": [],
      "collapsed_sections": [],
      "include_colab_link": true
    },
    "kernelspec": {
      "name": "python3",
      "display_name": "Python 3"
    },
    "accelerator": "GPU"
  },
  "cells": [
    {
      "cell_type": "markdown",
      "metadata": {
        "id": "view-in-github",
        "colab_type": "text"
      },
      "source": [
        "<a href=\"https://colab.research.google.com/github/RahulJuluru2/unit4assignments/blob/main/U4W23_59_Keras_Video_Processing_Screen_Time_C_RJ.ipynb\" target=\"_parent\"><img src=\"https://colab.research.google.com/assets/colab-badge.svg\" alt=\"Open In Colab\"/></a>"
      ]
    },
    {
      "cell_type": "markdown",
      "metadata": {
        "id": "i35LuPCsxJaQ"
      },
      "source": [
        "\n",
        "# Advanced Certification in AIML\n",
        "## A Program by IIIT-H and TalentSprint\n"
      ]
    },
    {
      "cell_type": "markdown",
      "metadata": {
        "id": "x9wLqIUIyML-"
      },
      "source": [
        "## Learning Objective"
      ]
    },
    {
      "cell_type": "markdown",
      "metadata": {
        "id": "lD86AWh0yHG4"
      },
      "source": [
        "At the end of the experiment, you will be able to :\n",
        "\n",
        "* calculate the screen time of a character from a given video using deep learning "
      ]
    },
    {
      "cell_type": "code",
      "metadata": {
        "id": "OvDJsz_mnH9j",
        "cellView": "form",
        "colab": {
          "base_uri": "https://localhost:8080/",
          "height": 421
        },
        "outputId": "87b42af1-0a92-4148-aeed-f72b34cb78b4"
      },
      "source": [
        "#@title Experiment Walkthrough Video\n",
        "\n",
        "from IPython.display import HTML\n",
        "\n",
        "HTML(\"\"\"<video width=\"800\" height=\"400\" controls>\n",
        "  <source src=\"https://cdn.talentsprint.com/talentsprint1/archives/sc/aiml/keras_video_processing_screen_time.mp4\" type=\"video/mp4\">\n",
        "</video>\n",
        "\"\"\")"
      ],
      "execution_count": null,
      "outputs": [
        {
          "output_type": "execute_result",
          "data": {
            "text/plain": [
              "<IPython.core.display.HTML object>"
            ],
            "text/html": [
              "<video width=\"800\" height=\"400\" controls>\n",
              "  <source src=\"https://cdn.talentsprint.com/talentsprint1/archives/sc/aiml/keras_video_processing_screen_time.mp4\" type=\"video/mp4\">\n",
              "</video>\n"
            ]
          },
          "metadata": {},
          "execution_count": 1
        }
      ]
    },
    {
      "cell_type": "markdown",
      "metadata": {
        "id": "3mE8sH-otYGH"
      },
      "source": [
        "## Dataset"
      ]
    },
    {
      "cell_type": "markdown",
      "metadata": {
        "id": "-s7GpYrkCaSB"
      },
      "source": [
        "### History\n",
        "\n",
        "The screen time of an actor/character in a movie or an episode is very important. Many actors get paid according to their total screen time. Moreover, we also want to know how much time our favorite character acted on screen. So, have you ever wondered how can you calculate the total screen time of an actor? One of the best ways is by using deep learning."
      ]
    },
    {
      "cell_type": "markdown",
      "metadata": {
        "id": "y33c1pGWj8LW"
      },
      "source": [
        "### Description\n",
        "\n",
        "We will use a video clip of **`Tom and Jerry`** cartoon series and the model shall be trained on a video. The downloaded data is in the form of a video, which is nothing but a collection of a set of images. These images are called frames and can be combined to get the original video. So, a problem related to video data is not that different from an image classification or an object detection problem. There is just one extra step of extracting frames from the video.\n",
        "\n",
        "The Model will be evaluated (tested) on another video of **`Tom and Jerry`** "
      ]
    },
    {
      "cell_type": "markdown",
      "metadata": {
        "id": "s3y2Exi10krJ"
      },
      "source": [
        "### Setup Steps"
      ]
    },
    {
      "cell_type": "code",
      "metadata": {
        "id": "YPV17Huq0nMm"
      },
      "source": [
        "#@title Please enter your registration id to start: (e.g. P181900101) { run: \"auto\", display-mode: \"form\" }\n",
        "Id = \"2216842\" #@param {type:\"string\"}\n"
      ],
      "execution_count": null,
      "outputs": []
    },
    {
      "cell_type": "code",
      "metadata": {
        "id": "TabFxc2D0o1C"
      },
      "source": [
        "#@title Please enter your password (normally your phone number) to continue: { run: \"auto\", display-mode: \"form\" }\n",
        "password = \"9959488784\" #@param {type:\"string\"}\n"
      ],
      "execution_count": null,
      "outputs": []
    },
    {
      "cell_type": "code",
      "metadata": {
        "id": "-ChfY8GTH3SB",
        "cellView": "form",
        "colab": {
          "base_uri": "https://localhost:8080/",
          "height": 34
        },
        "outputId": "bfa34e34-722a-4bea-ce7f-7fcceb2ce85b"
      },
      "source": [
        "#@title Run this cell to complete the setup for this Notebook\n",
        "from IPython import get_ipython\n",
        "import warnings\n",
        "warnings.filterwarnings(\"ignore\")\n",
        "\n",
        "ipython = get_ipython()\n",
        "  \n",
        "notebook= \"U4W23_59_Keras_Video_Processing_Screen_Time_C\" #name of the notebook\n",
        "\n",
        "def setup():\n",
        "    ipython.magic(\"sx wget -qq https://cdn.iiith.talentsprint.com/aiml/Experiment_related_data/Video_Processing/Train_data.zip\")\n",
        "    ipython.magic(\"sx unzip --q Train_data.zip\")\n",
        "    ipython.magic(\"sx wget -qq https://cdn.iiith.talentsprint.com/aiml/Experiment_related_data/Video_Processing/Test_data.zip\")\n",
        "    ipython.magic(\"sx unzip --q Test_data.zip\")\n",
        "    from IPython.display import HTML, display\n",
        "    display(HTML('<script src=\"https://dashboard.talentsprint.com/aiml/record_ip.html?traineeId={0}&recordId={1}\"></script>'.format(getId(),submission_id)))\n",
        "    print (\"Setup completed successfully\")\n",
        "    return\n",
        "\n",
        "def submit_notebook():\n",
        "    ipython.magic(\"notebook -e \"+ notebook + \".ipynb\")\n",
        "    \n",
        "    import requests, json, base64, datetime\n",
        "\n",
        "    url = \"https://dashboard.talentsprint.com/xp/app/save_notebook_attempts\"\n",
        "    if not submission_id:\n",
        "      data = {\"id\" : getId(), \"notebook\" : notebook, \"mobile\" : getPassword()}\n",
        "      r = requests.post(url, data = data)\n",
        "      r = json.loads(r.text)\n",
        "\n",
        "      if r[\"status\"] == \"Success\":\n",
        "          return r[\"record_id\"]\n",
        "      elif \"err\" in r:        \n",
        "        print(r[\"err\"])\n",
        "        return None        \n",
        "      else:\n",
        "        print (\"Something is wrong, the notebook will not be submitted for grading\")\n",
        "        return None\n",
        "    \n",
        "    elif getAnswer() and getComplexity() and getAdditional() and getConcepts() and getWalkthrough() and getComments() and getMentorSupport():\n",
        "      f = open(notebook + \".ipynb\", \"rb\")\n",
        "      file_hash = base64.b64encode(f.read())\n",
        "\n",
        "      data = {\"complexity\" : Complexity, \"additional\" :Additional, \n",
        "              \"concepts\" : Concepts, \"record_id\" : submission_id, \n",
        "              \"answer\" : Answer, \"id\" : Id, \"file_hash\" : file_hash,\n",
        "              \"notebook\" : notebook, \"feedback_walkthrough\":Walkthrough ,\n",
        "              \"feedback_experiments_input\" : Comments,\n",
        "              \"feedback_mentor_support\": Mentor_support}\n",
        "\n",
        "      r = requests.post(url, data = data)\n",
        "      r = json.loads(r.text)\n",
        "      if \"err\" in r:        \n",
        "        print(r[\"err\"])\n",
        "        return None   \n",
        "      else:\n",
        "        print(\"Your submission is successful.\")\n",
        "        print(\"Ref Id:\", submission_id)\n",
        "        print(\"Date of submission: \", r[\"date\"])\n",
        "        print(\"Time of submission: \", r[\"time\"])\n",
        "        print(\"View your submissions: https://aiml.iiith.talentsprint.com/notebook_submissions\")\n",
        "        #print(\"For any queries/discrepancies, please connect with mentors through the chat icon in LMS dashboard.\")\n",
        "        return submission_id\n",
        "    else: submission_id\n",
        "    \n",
        "\n",
        "def getAdditional():\n",
        "  try:\n",
        "    if not Additional: \n",
        "      raise NameError\n",
        "    else:\n",
        "      return Additional  \n",
        "  except NameError:\n",
        "    print (\"Please answer Additional Question\")\n",
        "    return None\n",
        "\n",
        "def getComplexity():\n",
        "  try:\n",
        "    if not Complexity:\n",
        "      raise NameError\n",
        "    else:\n",
        "      return Complexity\n",
        "  except NameError:\n",
        "    print (\"Please answer Complexity Question\")\n",
        "    return None\n",
        "  \n",
        "def getConcepts():\n",
        "  try:\n",
        "    if not Concepts:\n",
        "      raise NameError\n",
        "    else:\n",
        "      return Concepts\n",
        "  except NameError:\n",
        "    print (\"Please answer Concepts Question\")\n",
        "    return None\n",
        "  \n",
        "  \n",
        "def getWalkthrough():\n",
        "  try:\n",
        "    if not Walkthrough:\n",
        "      raise NameError\n",
        "    else:\n",
        "      return Walkthrough\n",
        "  except NameError:\n",
        "    print (\"Please answer Walkthrough Question\")\n",
        "    return None\n",
        "  \n",
        "def getComments():\n",
        "  try:\n",
        "    if not Comments:\n",
        "      raise NameError\n",
        "    else:\n",
        "      return Comments\n",
        "  except NameError:\n",
        "    print (\"Please answer Comments Question\")\n",
        "    return None\n",
        "  \n",
        "\n",
        "def getMentorSupport():\n",
        "  try:\n",
        "    if not Mentor_support:\n",
        "      raise NameError\n",
        "    else:\n",
        "      return Mentor_support\n",
        "  except NameError:\n",
        "    print (\"Please answer Mentor support Question\")\n",
        "    return None\n",
        "\n",
        "def getAnswer():\n",
        "  try:\n",
        "    if not Answer:\n",
        "      raise NameError \n",
        "    else: \n",
        "      return Answer\n",
        "  except NameError:\n",
        "    print (\"Please answer Question\")\n",
        "    return None\n",
        "  \n",
        "\n",
        "def getId():\n",
        "  try: \n",
        "    return Id if Id else None\n",
        "  except NameError:\n",
        "    return None\n",
        "\n",
        "def getPassword():\n",
        "  try:\n",
        "    return password if password else None\n",
        "  except NameError:\n",
        "    return None\n",
        "\n",
        "submission_id = None\n",
        "### Setup \n",
        "if getPassword() and getId():\n",
        "  submission_id = submit_notebook()\n",
        "  if submission_id:\n",
        "    setup() \n",
        "else:\n",
        "  print (\"Please complete Id and Password cells before running setup\")\n",
        "\n"
      ],
      "execution_count": null,
      "outputs": [
        {
          "output_type": "display_data",
          "data": {
            "text/plain": [
              "<IPython.core.display.HTML object>"
            ],
            "text/html": [
              "<script src=\"https://dashboard.talentsprint.com/aiml/record_ip.html?traineeId=2216842&recordId=3891\"></script>"
            ]
          },
          "metadata": {}
        },
        {
          "output_type": "stream",
          "name": "stdout",
          "text": [
            "Setup completed successfully\n"
          ]
        }
      ]
    },
    {
      "cell_type": "markdown",
      "metadata": {
        "id": "eN9xA1xMwIq0"
      },
      "source": [
        "### Importing required packages"
      ]
    },
    {
      "cell_type": "code",
      "metadata": {
        "id": "9c4Jb-bewLYL"
      },
      "source": [
        "import os\n",
        "import cv2\n",
        "import math\n",
        "import pandas as pd\n",
        "import numpy as np\n",
        "import matplotlib.pyplot as plt\n",
        "\n",
        "\n",
        "import keras\n",
        "from keras.models import Sequential\n",
        "from keras.applications.vgg16 import VGG16\n",
        "from keras.applications.vgg16 import preprocess_input\n",
        "from sklearn.model_selection import train_test_split\n",
        "from keras.layers import Dense, InputLayer, Dropout"
      ],
      "execution_count": null,
      "outputs": []
    },
    {
      "cell_type": "markdown",
      "metadata": {
        "id": "pb2k9DC4xUnU"
      },
      "source": [
        "### Loading the video "
      ]
    },
    {
      "cell_type": "code",
      "metadata": {
        "id": "hNmxnBt6n4wo"
      },
      "source": [
        "train_videoFile = \"/content/Video_Processing/Tom_and_jerry_train.mp4\"\n",
        "\n",
        "# Create a directory to store all the frames\n",
        "all_images = \"/content/all_images\"\n",
        "os.mkdir(all_images)"
      ],
      "execution_count": null,
      "outputs": []
    },
    {
      "cell_type": "markdown",
      "metadata": {
        "id": "lfS-zv09x0XA"
      },
      "source": [
        "### Read the video, extract frames from it and save them as images\n",
        "\n",
        "For this task, use OpenCV as shown below and extract frames for every second"
      ]
    },
    {
      "cell_type": "code",
      "metadata": {
        "id": "Vxh2MX-alHmJ"
      },
      "source": [
        "def getVideoFrames(videopath, imagespath):\n",
        "\n",
        "  # Open the Video file using cv2.VideoCapture()\n",
        "  # Capturing the video from the given path\n",
        "  cap = cv2.VideoCapture(videopath)\n",
        "\n",
        "  # Frame rate of the video\n",
        "  # How many frames per video you want to capture\n",
        "  frameRate = cap.get(5)\n",
        "  i = 0\n",
        "\n",
        "  while True:\n",
        "      # Current frame number\n",
        "      # Capturing one frame per second\n",
        "      frameId = cap.get(1)\n",
        " \n",
        "      # Read frame by frame\n",
        "      ret, frame = cap.read()\n",
        "\n",
        "      if ret == False:\n",
        "          break\n",
        "\n",
        "      # Extract one frame for each second\n",
        "      if (frameId % math.floor(frameRate) == 0):\n",
        "\n",
        "          # Save each frame using cv2.imwrite()\n",
        "          cv2.imwrite(imagespath+'/frame'+str(i)+'.jpg',frame)\n",
        "          i+=1\n",
        "\n",
        "  # After loop release the VideoCapture and destroy all windows\n",
        "  cap.release()\n",
        "  cv2.destroyAllWindows()\n",
        "  return \"Successfully extracted the images!!\""
      ],
      "execution_count": null,
      "outputs": []
    },
    {
      "cell_type": "code",
      "metadata": {
        "id": "iyYfWLZrZ1aL",
        "colab": {
          "base_uri": "https://localhost:8080/",
          "height": 35
        },
        "outputId": "996ba962-b5a3-4fdf-cebc-aea941702242"
      },
      "source": [
        "getVideoFrames(\"/content/Train_data/Tom_and_jerry_train.mp4\", all_images)"
      ],
      "execution_count": null,
      "outputs": [
        {
          "output_type": "execute_result",
          "data": {
            "text/plain": [
              "'Successfully extracted the images!!'"
            ],
            "application/vnd.google.colaboratory.intrinsic+json": {
              "type": "string"
            }
          },
          "metadata": {},
          "execution_count": 8
        }
      ]
    },
    {
      "cell_type": "markdown",
      "metadata": {
        "id": "KsJX654c03xF"
      },
      "source": [
        "### Let us visualize an image (frame)\n",
        "\n",
        "We will first read the image using the imread() function of matplotlib, and then plot it using the imshow() function."
      ]
    },
    {
      "cell_type": "code",
      "metadata": {
        "id": "aHsrxvubzcSq",
        "colab": {
          "base_uri": "https://localhost:8080/",
          "height": 257
        },
        "outputId": "4c6f6553-8d3a-416d-c8b8-b4d4422e9458"
      },
      "source": [
        "img = plt.imread('/content/all_images/frame0.jpg')   # Reading the image by its name\n",
        "plt.imshow(img)"
      ],
      "execution_count": null,
      "outputs": [
        {
          "output_type": "execute_result",
          "data": {
            "text/plain": [
              "<matplotlib.image.AxesImage at 0x7f91633d98d0>"
            ]
          },
          "metadata": {},
          "execution_count": 9
        },
        {
          "output_type": "display_data",
          "data": {
            "text/plain": [
              "<Figure size 432x288 with 1 Axes>"
            ],
            "image/png": "[encoded data removed]"
          },
          "metadata": {
            "needs_background": "light"
          }
        }
      ]
    },
    {
      "cell_type": "markdown",
      "metadata": {
        "id": "QuRyZLKMr82T"
      },
      "source": [
        "Since the duration of the video is 4:58 minutes (298 seconds), we now have 298 images in total.\n",
        "\n",
        "In this problem, there are three classes as mentioned below and hence it is a multi-class classification problem\n",
        "\n",
        "\n",
        "\n",
        "```\n",
        "0 – The frame has neither JERRY nor TOM\n",
        "1 – JERRY is in the frame\n",
        "2 – TOM is in the frame\n",
        "```\n",
        "\n",
        "The `train_labels.csv` contains the respective labels for each extracted frame.\n"
      ]
    },
    {
      "cell_type": "markdown",
      "metadata": {
        "id": "equWJJ4CciVR"
      },
      "source": [
        "### Label images for training the model"
      ]
    },
    {
      "cell_type": "code",
      "metadata": {
        "id": "Rv3dD4wstGmZ"
      },
      "source": [
        "train_labels = '/content/Train_data/train_labels.csv'"
      ],
      "execution_count": null,
      "outputs": []
    },
    {
      "cell_type": "code",
      "metadata": {
        "id": "oFtw2ge4tjip",
        "colab": {
          "base_uri": "https://localhost:8080/",
          "height": 223
        },
        "outputId": "651d8dc0-569f-4d06-a0aa-2cb25abca8cc"
      },
      "source": [
        "df_train = pd.read_csv(train_labels)\n",
        "\n",
        "classes = df_train['Class'].unique().astype('str')\n",
        "print(\"Classes:\", classes)\n",
        "\n",
        "df_train['Image_ID'] = df_train['Image_ID'].apply(lambda x: all_images+'/'+x)\n",
        "\n",
        "labels = {0:'None', 1: 'Jerry', 2: 'Tom'}\n",
        "df_train['Labels'] = [labels[each] for each in df_train['Class']]\n",
        "\n",
        "df_train.head()"
      ],
      "execution_count": null,
      "outputs": [
        {
          "output_type": "stream",
          "name": "stdout",
          "text": [
            "Classes: ['1' '2' '0']\n"
          ]
        },
        {
          "output_type": "execute_result",
          "data": {
            "text/plain": [
              "                         Image_ID  Class Labels\n",
              "0  /content/all_images/frame0.jpg      1  Jerry\n",
              "1  /content/all_images/frame1.jpg      1  Jerry\n",
              "2  /content/all_images/frame2.jpg      2    Tom\n",
              "3  /content/all_images/frame3.jpg      2    Tom\n",
              "4  /content/all_images/frame4.jpg      2    Tom"
            ],
            "text/html": [
              "\n",
              "  <div id=\"df-117f3b18-8ffb-4065-b197-bbd5bc48668c\">\n",
              "    <div class=\"colab-df-container\">\n",
              "      <div>\n",
              "<style scoped>\n",
              "    .dataframe tbody tr th:only-of-type {\n",
              "        vertical-align: middle;\n",
              "    }\n",
              "\n",
              "    .dataframe tbody tr th {\n",
              "        vertical-align: top;\n",
              "    }\n",
              "\n",
              "    .dataframe thead th {\n",
              "        text-align: right;\n",
              "    }\n",
              "</style>\n",
              "<table border=\"1\" class=\"dataframe\">\n",
              "  <thead>\n",
              "    <tr style=\"text-align: right;\">\n",
              "      <th></th>\n",
              "      <th>Image_ID</th>\n",
              "      <th>Class</th>\n",
              "      <th>Labels</th>\n",
              "    </tr>\n",
              "  </thead>\n",
              "  <tbody>\n",
              "    <tr>\n",
              "      <th>0</th>\n",
              "      <td>/content/all_images/frame0.jpg</td>\n",
              "      <td>1</td>\n",
              "      <td>Jerry</td>\n",
              "    </tr>\n",
              "    <tr>\n",
              "      <th>1</th>\n",
              "      <td>/content/all_images/frame1.jpg</td>\n",
              "      <td>1</td>\n",
              "      <td>Jerry</td>\n",
              "    </tr>\n",
              "    <tr>\n",
              "      <th>2</th>\n",
              "      <td>/content/all_images/frame2.jpg</td>\n",
              "      <td>2</td>\n",
              "      <td>Tom</td>\n",
              "    </tr>\n",
              "    <tr>\n",
              "      <th>3</th>\n",
              "      <td>/content/all_images/frame3.jpg</td>\n",
              "      <td>2</td>\n",
              "      <td>Tom</td>\n",
              "    </tr>\n",
              "    <tr>\n",
              "      <th>4</th>\n",
              "      <td>/content/all_images/frame4.jpg</td>\n",
              "      <td>2</td>\n",
              "      <td>Tom</td>\n",
              "    </tr>\n",
              "  </tbody>\n",
              "</table>\n",
              "</div>\n",
              "      <button class=\"colab-df-convert\" onclick=\"convertToInteractive('df-117f3b18-8ffb-4065-b197-bbd5bc48668c')\"\n",
              "              title=\"Convert this dataframe to an interactive table.\"\n",
              "              style=\"display:none;\">\n",
              "        \n",
              "  <svg xmlns=\"http://www.w3.org/2000/svg\" height=\"24px\"viewBox=\"0 0 24 24\"\n",
              "       width=\"24px\">\n",
              "    <path d=\"M0 0h24v24H0V0z\" fill=\"none\"/>\n",
              "    <path d=\"M18.56 5.44l.94 2.06.94-2.06 2.06-.94-2.06-.94-.94-2.06-.94 2.06-2.06.94zm-11 1L8.5 8.5l.94-2.06 2.06-.94-2.06-.94L8.5 2.5l-.94 2.06-2.06.94zm10 10l.94 2.06.94-2.06 2.06-.94-2.06-.94-.94-2.06-.94 2.06-2.06.94z\"/><path d=\"M17.41 7.96l-1.37-1.37c-.4-.4-.92-.59-1.43-.59-.52 0-1.04.2-1.43.59L10.3 9.45l-7.72 7.72c-.78.78-.78 2.05 0 2.83L4 21.41c.39.39.9.59 1.41.59.51 0 1.02-.2 1.41-.59l7.78-7.78 2.81-2.81c.8-.78.8-2.07 0-2.86zM5.41 20L4 18.59l7.72-7.72 1.47 1.35L5.41 20z\"/>\n",
              "  </svg>\n",
              "      </button>\n",
              "      \n",
              "  <style>\n",
              "    .colab-df-container {\n",
              "      display:flex;\n",
              "      flex-wrap:wrap;\n",
              "      gap: 12px;\n",
              "    }\n",
              "\n",
              "    .colab-df-convert {\n",
              "      background-color: #E8F0FE;\n",
              "      border: none;\n",
              "      border-radius: 50%;\n",
              "      cursor: pointer;\n",
              "      display: none;\n",
              "      fill: #1967D2;\n",
              "      height: 32px;\n",
              "      padding: 0 0 0 0;\n",
              "      width: 32px;\n",
              "    }\n",
              "\n",
              "    .colab-df-convert:hover {\n",
              "      background-color: #E2EBFA;\n",
              "      box-shadow: 0px 1px 2px rgba(60, 64, 67, 0.3), 0px 1px 3px 1px rgba(60, 64, 67, 0.15);\n",
              "      fill: #174EA6;\n",
              "    }\n",
              "\n",
              "    [theme=dark] .colab-df-convert {\n",
              "      background-color: #3B4455;\n",
              "      fill: #D2E3FC;\n",
              "    }\n",
              "\n",
              "    [theme=dark] .colab-df-convert:hover {\n",
              "      background-color: #434B5C;\n",
              "      box-shadow: 0px 1px 3px 1px rgba(0, 0, 0, 0.15);\n",
              "      filter: drop-shadow(0px 1px 2px rgba(0, 0, 0, 0.3));\n",
              "      fill: #FFFFFF;\n",
              "    }\n",
              "  </style>\n",
              "\n",
              "      <script>\n",
              "        const buttonEl =\n",
              "          document.querySelector('#df-117f3b18-8ffb-4065-b197-bbd5bc48668c button.colab-df-convert');\n",
              "        buttonEl.style.display =\n",
              "          google.colab.kernel.accessAllowed ? 'block' : 'none';\n",
              "\n",
              "        async function convertToInteractive(key) {\n",
              "          const element = document.querySelector('#df-117f3b18-8ffb-4065-b197-bbd5bc48668c');\n",
              "          const dataTable =\n",
              "            await google.colab.kernel.invokeFunction('convertToInteractive',\n",
              "                                                     [key], {});\n",
              "          if (!dataTable) return;\n",
              "\n",
              "          const docLinkHtml = 'Like what you see? Visit the ' +\n",
              "            '<a target=\"_blank\" href=https://colab.research.google.com/notebooks/data_table.ipynb>data table notebook</a>'\n",
              "            + ' to learn more about interactive tables.';\n",
              "          element.innerHTML = '';\n",
              "          dataTable['output_type'] = 'display_data';\n",
              "          await google.colab.output.renderOutput(dataTable, element);\n",
              "          const docLink = document.createElement('div');\n",
              "          docLink.innerHTML = docLinkHtml;\n",
              "          element.appendChild(docLink);\n",
              "        }\n",
              "      </script>\n",
              "    </div>\n",
              "  </div>\n",
              "  "
            ]
          },
          "metadata": {},
          "execution_count": 11
        }
      ]
    },
    {
      "cell_type": "markdown",
      "metadata": {
        "id": "itb2A6986FYk"
      },
      "source": [
        "### Visualize few Images"
      ]
    },
    {
      "cell_type": "code",
      "metadata": {
        "id": "PCjuerKD1lez",
        "colab": {
          "base_uri": "https://localhost:8080/",
          "height": 175
        },
        "outputId": "543a4e75-ad32-4476-8ae2-85742554be67"
      },
      "source": [
        "eachClass = df_train.groupby('Class').first()\n",
        "eachClass"
      ],
      "execution_count": null,
      "outputs": [
        {
          "output_type": "execute_result",
          "data": {
            "text/plain": [
              "                              Image_ID Labels\n",
              "Class                                        \n",
              "0      /content/all_images/frame11.jpg   None\n",
              "1       /content/all_images/frame0.jpg  Jerry\n",
              "2       /content/all_images/frame2.jpg    Tom"
            ],
            "text/html": [
              "\n",
              "  <div id=\"df-09fc9ae5-9c4d-41ea-8d0b-5edae03a29f4\">\n",
              "    <div class=\"colab-df-container\">\n",
              "      <div>\n",
              "<style scoped>\n",
              "    .dataframe tbody tr th:only-of-type {\n",
              "        vertical-align: middle;\n",
              "    }\n",
              "\n",
              "    .dataframe tbody tr th {\n",
              "        vertical-align: top;\n",
              "    }\n",
              "\n",
              "    .dataframe thead th {\n",
              "        text-align: right;\n",
              "    }\n",
              "</style>\n",
              "<table border=\"1\" class=\"dataframe\">\n",
              "  <thead>\n",
              "    <tr style=\"text-align: right;\">\n",
              "      <th></th>\n",
              "      <th>Image_ID</th>\n",
              "      <th>Labels</th>\n",
              "    </tr>\n",
              "    <tr>\n",
              "      <th>Class</th>\n",
              "      <th></th>\n",
              "      <th></th>\n",
              "    </tr>\n",
              "  </thead>\n",
              "  <tbody>\n",
              "    <tr>\n",
              "      <th>0</th>\n",
              "      <td>/content/all_images/frame11.jpg</td>\n",
              "      <td>None</td>\n",
              "    </tr>\n",
              "    <tr>\n",
              "      <th>1</th>\n",
              "      <td>/content/all_images/frame0.jpg</td>\n",
              "      <td>Jerry</td>\n",
              "    </tr>\n",
              "    <tr>\n",
              "      <th>2</th>\n",
              "      <td>/content/all_images/frame2.jpg</td>\n",
              "      <td>Tom</td>\n",
              "    </tr>\n",
              "  </tbody>\n",
              "</table>\n",
              "</div>\n",
              "      <button class=\"colab-df-convert\" onclick=\"convertToInteractive('df-09fc9ae5-9c4d-41ea-8d0b-5edae03a29f4')\"\n",
              "              title=\"Convert this dataframe to an interactive table.\"\n",
              "              style=\"display:none;\">\n",
              "        \n",
              "  <svg xmlns=\"http://www.w3.org/2000/svg\" height=\"24px\"viewBox=\"0 0 24 24\"\n",
              "       width=\"24px\">\n",
              "    <path d=\"M0 0h24v24H0V0z\" fill=\"none\"/>\n",
              "    <path d=\"M18.56 5.44l.94 2.06.94-2.06 2.06-.94-2.06-.94-.94-2.06-.94 2.06-2.06.94zm-11 1L8.5 8.5l.94-2.06 2.06-.94-2.06-.94L8.5 2.5l-.94 2.06-2.06.94zm10 10l.94 2.06.94-2.06 2.06-.94-2.06-.94-.94-2.06-.94 2.06-2.06.94z\"/><path d=\"M17.41 7.96l-1.37-1.37c-.4-.4-.92-.59-1.43-.59-.52 0-1.04.2-1.43.59L10.3 9.45l-7.72 7.72c-.78.78-.78 2.05 0 2.83L4 21.41c.39.39.9.59 1.41.59.51 0 1.02-.2 1.41-.59l7.78-7.78 2.81-2.81c.8-.78.8-2.07 0-2.86zM5.41 20L4 18.59l7.72-7.72 1.47 1.35L5.41 20z\"/>\n",
              "  </svg>\n",
              "      </button>\n",
              "      \n",
              "  <style>\n",
              "    .colab-df-container {\n",
              "      display:flex;\n",
              "      flex-wrap:wrap;\n",
              "      gap: 12px;\n",
              "    }\n",
              "\n",
              "    .colab-df-convert {\n",
              "      background-color: #E8F0FE;\n",
              "      border: none;\n",
              "      border-radius: 50%;\n",
              "      cursor: pointer;\n",
              "      display: none;\n",
              "      fill: #1967D2;\n",
              "      height: 32px;\n",
              "      padding: 0 0 0 0;\n",
              "      width: 32px;\n",
              "    }\n",
              "\n",
              "    .colab-df-convert:hover {\n",
              "      background-color: #E2EBFA;\n",
              "      box-shadow: 0px 1px 2px rgba(60, 64, 67, 0.3), 0px 1px 3px 1px rgba(60, 64, 67, 0.15);\n",
              "      fill: #174EA6;\n",
              "    }\n",
              "\n",
              "    [theme=dark] .colab-df-convert {\n",
              "      background-color: #3B4455;\n",
              "      fill: #D2E3FC;\n",
              "    }\n",
              "\n",
              "    [theme=dark] .colab-df-convert:hover {\n",
              "      background-color: #434B5C;\n",
              "      box-shadow: 0px 1px 3px 1px rgba(0, 0, 0, 0.15);\n",
              "      filter: drop-shadow(0px 1px 2px rgba(0, 0, 0, 0.3));\n",
              "      fill: #FFFFFF;\n",
              "    }\n",
              "  </style>\n",
              "\n",
              "      <script>\n",
              "        const buttonEl =\n",
              "          document.querySelector('#df-09fc9ae5-9c4d-41ea-8d0b-5edae03a29f4 button.colab-df-convert');\n",
              "        buttonEl.style.display =\n",
              "          google.colab.kernel.accessAllowed ? 'block' : 'none';\n",
              "\n",
              "        async function convertToInteractive(key) {\n",
              "          const element = document.querySelector('#df-09fc9ae5-9c4d-41ea-8d0b-5edae03a29f4');\n",
              "          const dataTable =\n",
              "            await google.colab.kernel.invokeFunction('convertToInteractive',\n",
              "                                                     [key], {});\n",
              "          if (!dataTable) return;\n",
              "\n",
              "          const docLinkHtml = 'Like what you see? Visit the ' +\n",
              "            '<a target=\"_blank\" href=https://colab.research.google.com/notebooks/data_table.ipynb>data table notebook</a>'\n",
              "            + ' to learn more about interactive tables.';\n",
              "          element.innerHTML = '';\n",
              "          dataTable['output_type'] = 'display_data';\n",
              "          await google.colab.output.renderOutput(dataTable, element);\n",
              "          const docLink = document.createElement('div');\n",
              "          docLink.innerHTML = docLinkHtml;\n",
              "          element.appendChild(docLink);\n",
              "        }\n",
              "      </script>\n",
              "    </div>\n",
              "  </div>\n",
              "  "
            ]
          },
          "metadata": {},
          "execution_count": 12
        }
      ]
    },
    {
      "cell_type": "code",
      "metadata": {
        "id": "RPLcnyH62oKm",
        "colab": {
          "base_uri": "https://localhost:8080/",
          "height": 722
        },
        "outputId": "267614ee-7fbe-453d-e505-e2a5943df7db"
      },
      "source": [
        "for index, row in eachClass.iterrows():\n",
        "    img = plt.imread(row['Image_ID'])   # Reading the image by its name\n",
        "    plt.title(row['Labels'])\n",
        "    plt.imshow(img)\n",
        "    plt.show()"
      ],
      "execution_count": null,
      "outputs": [
        {
          "output_type": "display_data",
          "data": {
            "text/plain": [
              "<Figure size 432x288 with 1 Axes>"
            ],
            "image/png": "[encoded data removed]"
          },
          "metadata": {
            "needs_background": "light"
          }
        },
        {
          "output_type": "display_data",
          "data": {
            "text/plain": [
              "<Figure size 432x288 with 1 Axes>"
            ],
            "image/png": "[encoded data removed]"
          },
          "metadata": {
            "needs_background": "light"
          }
        },
        {
          "output_type": "display_data",
          "data": {
            "text/plain": [
              "<Figure size 432x288 with 1 Axes>"
            ],
            "image/png": "[encoded data removed]"
          },
          "metadata": {
            "needs_background": "light"
          }
        }
      ]
    },
    {
      "cell_type": "markdown",
      "metadata": {
        "id": "toNojpJoy9be"
      },
      "source": [
        "### Input Data and Preprocessing\n",
        "\n",
        "To prepare this extracted images data as input to our neural network, the  below mentioned preprocessing steps are to be followed:\n",
        "\n",
        "* Read all images one by one\n",
        "* Resize each image to (224, 224, 3) for the input to the model"
      ]
    },
    {
      "cell_type": "code",
      "metadata": {
        "id": "b4sTUVr02VI_"
      },
      "source": [
        "def resizeFeatures(image_filenames):\n",
        "  res_img = []\n",
        "  for each_img in image_filenames:\n",
        "    img = plt.imread(each_img)\n",
        "    resized_img = cv2.resize(img, (224,224)).astype(int)\n",
        "    res_img.append(resized_img)\n",
        "\n",
        "  features = np.array(res_img)\n",
        "  return features"
      ],
      "execution_count": null,
      "outputs": []
    },
    {
      "cell_type": "code",
      "metadata": {
        "id": "mUmhcpDtbJM_",
        "colab": {
          "base_uri": "https://localhost:8080/"
        },
        "outputId": "f8bb0bf0-c337-47a8-f6f9-4152babc3891"
      },
      "source": [
        "features = resizeFeatures(df_train['Image_ID'])\n",
        "features.shape"
      ],
      "execution_count": null,
      "outputs": [
        {
          "output_type": "execute_result",
          "data": {
            "text/plain": [
              "(298, 224, 224, 3)"
            ]
          },
          "metadata": {},
          "execution_count": 15
        }
      ]
    },
    {
      "cell_type": "markdown",
      "metadata": {
        "id": "OikOvI3s27TU"
      },
      "source": [
        "Since there are three classes, we will one hot encode them using the `to_categorical()` function of `keras.utils`"
      ]
    },
    {
      "cell_type": "code",
      "metadata": {
        "id": "c7xnZJmH25_N",
        "colab": {
          "base_uri": "https://localhost:8080/"
        },
        "outputId": "5c6ad67f-b69b-47e2-8c0c-425992e0f49d"
      },
      "source": [
        "from keras.utils import np_utils\n",
        "\n",
        "y = df_train[\"Class\"]\n",
        "\n",
        "# one hot encoding Classes\n",
        "one_hot_y = np_utils.to_categorical(y)\n",
        "one_hot_y.shape"
      ],
      "execution_count": null,
      "outputs": [
        {
          "output_type": "execute_result",
          "data": {
            "text/plain": [
              "(298, 3)"
            ]
          },
          "metadata": {},
          "execution_count": 16
        }
      ]
    },
    {
      "cell_type": "markdown",
      "metadata": {
        "id": "Dra2w6jQ3eAs"
      },
      "source": [
        "## Transfer Learning\n",
        "\n",
        "Since we have only 298 images, so it will be difficult to train a neural network with this little dataset. Here comes the concept of transfer learning.\n",
        "\n",
        "With the help of transfer learning, we can use features generated by a model trained on a large dataset into our model. Here we will use the VGG16 model trained on the “imagenet” dataset. For this, we are using TensorFlow high-level API Keras. With Keras, you can directly import the VGG16 model as shown in the code below."
      ]
    },
    {
      "cell_type": "code",
      "metadata": {
        "id": "Ddk4vE7l30OP",
        "colab": {
          "base_uri": "https://localhost:8080/"
        },
        "outputId": "6961b77b-b91e-452b-b511-31d1d0c37f9b"
      },
      "source": [
        "# include_top=False to remove the top layer\n",
        "vgg_model = VGG16(weights='imagenet', include_top=False, input_shape=(224, 224, 3))"
      ],
      "execution_count": null,
      "outputs": [
        {
          "output_type": "stream",
          "name": "stdout",
          "text": [
            "Downloading data from https://storage.googleapis.com/tensorflow/keras-applications/vgg16/vgg16_weights_tf_dim_ordering_tf_kernels_notop.h5\n",
            "58889256/58889256 [==============================] - 0s 0us/step\n"
          ]
        }
      ]
    },
    {
      "cell_type": "markdown",
      "metadata": {
        "id": "vxwA4XQc46a0"
      },
      "source": [
        "VGG16 model trained with imagenet dataset predicts on lots of classes, but in this problem, we are only having three classes, either `\"Tom\" or \"Jerry\" or \"None\"`.\n",
        "\n",
        "That’s why above we are using `include_top = False`, which signifies that we are not including fully connected layers from the VGG16 model."
      ]
    },
    {
      "cell_type": "markdown",
      "metadata": {
        "id": "kmfwtW7Z4CZj"
      },
      "source": [
        "Before passing any input to the model, it is important to preprocess it as per the model’s requirement. Use the `preprocess_input()` function of `keras.applications.vgg16` to perform this step."
      ]
    },
    {
      "cell_type": "code",
      "metadata": {
        "id": "SdUN8X494Pe_"
      },
      "source": [
        "# Preprocessing the input data\n",
        "X = preprocess_input(features)"
      ],
      "execution_count": null,
      "outputs": []
    },
    {
      "cell_type": "markdown",
      "metadata": {
        "id": "0lpCxBD84V4h"
      },
      "source": [
        "Generate a validation set using the  `train_test_split()` function of the sklearn to check the performance of the model on unseen images."
      ]
    },
    {
      "cell_type": "code",
      "metadata": {
        "id": "TdyH8_JJ4mDY",
        "colab": {
          "base_uri": "https://localhost:8080/"
        },
        "outputId": "701aba7a-dbda-421f-b7d4-7859b8fb08a0"
      },
      "source": [
        "# Preparing the validation set\n",
        "X_train, X_valid, y_train, y_valid = train_test_split(X, one_hot_y, test_size=0.3, random_state=42)\n",
        "\n",
        "print(\"Training Features:\", X_train.shape)\n",
        "print(\"Training Labels:\", y_train.shape)\n",
        "print(\"Validation Features:\", X_valid.shape)\n",
        "print(\"Validation Labels:\", y_valid.shape)"
      ],
      "execution_count": null,
      "outputs": [
        {
          "output_type": "stream",
          "name": "stdout",
          "text": [
            "Training Features: (208, 224, 224, 3)\n",
            "Training Labels: (208, 3)\n",
            "Validation Features: (90, 224, 224, 3)\n",
            "Validation Labels: (90, 3)\n"
          ]
        }
      ]
    },
    {
      "cell_type": "markdown",
      "metadata": {
        "id": "MJ_QVVk35zI8"
      },
      "source": [
        "Pass the above extracted `X_train and X_valid` features as **input to the pre-trained `vgg_model`** and get the predicted data and then use those features to retrain the model."
      ]
    },
    {
      "cell_type": "code",
      "metadata": {
        "id": "HWtbZMQX50sE",
        "colab": {
          "base_uri": "https://localhost:8080/"
        },
        "outputId": "e3a211ba-6afb-4752-b843-7f64478d365a"
      },
      "source": [
        "X_train_predicted = vgg_model.predict(X_train)\n",
        "X_valid_predicted = vgg_model.predict(X_valid)\n",
        "\n",
        "print(\"Training Features:\", X_train_predicted.shape)\n",
        "print(\"Validation Features:\", X_valid_predicted.shape)"
      ],
      "execution_count": null,
      "outputs": [
        {
          "output_type": "stream",
          "name": "stdout",
          "text": [
            "7/7 [==============================] - 12s 361ms/step\n",
            "3/3 [==============================] - 3s 1s/step\n",
            "Training Features: (208, 7, 7, 512)\n",
            "Validation Features: (90, 7, 7, 512)\n"
          ]
        }
      ]
    },
    {
      "cell_type": "markdown",
      "metadata": {
        "id": "_dMJOPOexf5k"
      },
      "source": [
        "### VGG16\n",
        "![picture](https://miro.medium.com/max/788/1*_Lg1i7wv1pLpzp2F4MLrvw.png)"
      ]
    },
    {
      "cell_type": "markdown",
      "metadata": {
        "id": "DTYzD-ad7B7r"
      },
      "source": [
        "Notice that the output features from VGG16 model will be having shape `7*7*512`\n",
        "\n",
        "Since we are not including fully connected layers from the VGG16 model, we need to create a model with some fully connected layers and an output layer with 3 classes, either `\"Tom\" or \"Jerry\" or \"None\"`.\n",
        "\n",
        "In order to pass the above extracted `X_train and X_valid` features to our neural network, we have to reshape it to 1-D, which will be an input shape for our model."
      ]
    },
    {
      "cell_type": "code",
      "metadata": {
        "id": "DQYEw8zL7lCe",
        "colab": {
          "base_uri": "https://localhost:8080/"
        },
        "outputId": "fe525b28-6d28-42d9-e06b-a3879a9a43a4"
      },
      "source": [
        "# Converting to 1-D\n",
        "X_train_reshaped = X_train_predicted.reshape(208, 7*7*512)\n",
        "X_valid_reshaped = X_valid_predicted.reshape(90, 7*7*512)\n",
        "\n",
        "print(\"Training Features:\", X_train_reshaped.shape)\n",
        "print(\"Validation Features:\", X_valid_reshaped.shape)"
      ],
      "execution_count": null,
      "outputs": [
        {
          "output_type": "stream",
          "name": "stdout",
          "text": [
            "Training Features: (208, 25088)\n",
            "Validation Features: (90, 25088)\n"
          ]
        }
      ]
    },
    {
      "cell_type": "markdown",
      "metadata": {
        "id": "nWkdn1y17xUn"
      },
      "source": [
        "Now, preprocess the images and normalize by dividing the vector with it's maximum value, which helps the model to converge faster."
      ]
    },
    {
      "cell_type": "code",
      "metadata": {
        "id": "INM_9wEL7w_l",
        "colab": {
          "base_uri": "https://localhost:8080/"
        },
        "outputId": "efdcd7be-6faa-4bed-e682-7dcea13c6018"
      },
      "source": [
        "# Normalize the data\n",
        "X_train_centered = X_train_reshaped/X_train_reshaped.max()\n",
        "X_valid_centered = X_valid_reshaped/X_train_reshaped.max()\n",
        "\n",
        "print(\"Training Features:\", X_train_centered.shape)\n",
        "print(\"Validation Features:\", X_valid_centered.shape)"
      ],
      "execution_count": null,
      "outputs": [
        {
          "output_type": "stream",
          "name": "stdout",
          "text": [
            "Training Features: (208, 25088)\n",
            "Validation Features: (90, 25088)\n"
          ]
        }
      ]
    },
    {
      "cell_type": "markdown",
      "metadata": {
        "id": "UtQYvaqo8bdB"
      },
      "source": [
        "### Building the model"
      ]
    },
    {
      "cell_type": "code",
      "metadata": {
        "id": "CXcZQVbK8qxC"
      },
      "source": [
        "model = Sequential()\n",
        "\n",
        "model.add(InputLayer((7*7*512))) # Input layer\n",
        "\n",
        "model.add(Dense(1024, activation='sigmoid')) # Hidden layer\n",
        "\n",
        "model.add(Dropout(0.5)) # Dropout layer\n",
        "\n",
        "model.add(Dense(512, activation='sigmoid')) # Hidden layer\n",
        "\n",
        "model.add(Dropout(0.5)) # Dropout layer\n",
        "\n",
        "model.add(Dense(256, activation='sigmoid')) # Hidden layer\n",
        "\n",
        "model.add(Dropout(0.5)) # Dropout layer\n",
        "\n",
        "model.add(Dense(3, activation='softmax')) # Output layer"
      ],
      "execution_count": null,
      "outputs": []
    },
    {
      "cell_type": "code",
      "metadata": {
        "id": "yXJcStpQm78F",
        "colab": {
          "base_uri": "https://localhost:8080/"
        },
        "outputId": "2da14f2b-aaaa-4477-f5b3-44119dbe6186"
      },
      "source": [
        "print(model.summary())"
      ],
      "execution_count": null,
      "outputs": [
        {
          "output_type": "stream",
          "name": "stdout",
          "text": [
            "Model: \"sequential\"\n",
            "_________________________________________________________________\n",
            " Layer (type)                Output Shape              Param #   \n",
            "=================================================================\n",
            " dense (Dense)               (None, 1024)              25691136  \n",
            "                                                                 \n",
            " dropout (Dropout)           (None, 1024)              0         \n",
            "                                                                 \n",
            " dense_1 (Dense)             (None, 512)               524800    \n",
            "                                                                 \n",
            " dropout_1 (Dropout)         (None, 512)               0         \n",
            "                                                                 \n",
            " dense_2 (Dense)             (None, 256)               131328    \n",
            "                                                                 \n",
            " dropout_2 (Dropout)         (None, 256)               0         \n",
            "                                                                 \n",
            " dense_3 (Dense)             (None, 3)                 771       \n",
            "                                                                 \n",
            "=================================================================\n",
            "Total params: 26,348,035\n",
            "Trainable params: 26,348,035\n",
            "Non-trainable params: 0\n",
            "_________________________________________________________________\n",
            "None\n"
          ]
        }
      ]
    },
    {
      "cell_type": "markdown",
      "metadata": {
        "id": "pqgn2-DD9OJ3"
      },
      "source": [
        "### Compiling the model"
      ]
    },
    {
      "cell_type": "code",
      "metadata": {
        "id": "sVjmCMPpF_wS"
      },
      "source": [
        "model.compile(loss='categorical_crossentropy', optimizer='adam', metrics=['accuracy'])"
      ],
      "execution_count": null,
      "outputs": []
    },
    {
      "cell_type": "markdown",
      "metadata": {
        "id": "tbdDSz3A9TGu"
      },
      "source": [
        "### Training the model"
      ]
    },
    {
      "cell_type": "code",
      "metadata": {
        "id": "nN7bGcjNGEoU",
        "colab": {
          "base_uri": "https://localhost:8080/"
        },
        "outputId": "2cd8dd47-05b3-4a23-c36f-bd3e3be290ff"
      },
      "source": [
        "history = model.fit(X_train_centered, y_train, epochs=100, validation_data=(X_valid_centered, y_valid))"
      ],
      "execution_count": null,
      "outputs": [
        {
          "output_type": "stream",
          "name": "stdout",
          "text": [
            "Epoch 1/100\n",
            "7/7 [==============================] - 1s 44ms/step - loss: 1.3928 - accuracy: 0.4087 - val_loss: 1.1078 - val_accuracy: 0.5667\n",
            "Epoch 2/100\n",
            "7/7 [==============================] - 0s 14ms/step - loss: 1.2533 - accuracy: 0.3413 - val_loss: 1.0514 - val_accuracy: 0.4222\n",
            "Epoch 3/100\n",
            "7/7 [==============================] - 0s 14ms/step - loss: 1.1442 - accuracy: 0.4135 - val_loss: 1.1508 - val_accuracy: 0.3889\n",
            "Epoch 4/100\n",
            "7/7 [==============================] - 0s 14ms/step - loss: 1.1263 - accuracy: 0.4183 - val_loss: 0.9697 - val_accuracy: 0.6333\n",
            "Epoch 5/100\n",
            "7/7 [==============================] - 0s 14ms/step - loss: 0.9858 - accuracy: 0.5433 - val_loss: 0.8964 - val_accuracy: 0.6667\n",
            "Epoch 6/100\n",
            "7/7 [==============================] - 0s 14ms/step - loss: 0.9007 - accuracy: 0.6010 - val_loss: 0.8499 - val_accuracy: 0.6333\n",
            "Epoch 7/100\n",
            "7/7 [==============================] - 0s 16ms/step - loss: 0.7788 - accuracy: 0.6875 - val_loss: 0.7067 - val_accuracy: 0.7111\n",
            "Epoch 8/100\n",
            "7/7 [==============================] - 0s 14ms/step - loss: 0.5947 - accuracy: 0.7596 - val_loss: 0.5894 - val_accuracy: 0.8000\n",
            "Epoch 9/100\n",
            "7/7 [==============================] - 0s 14ms/step - loss: 0.4233 - accuracy: 0.8558 - val_loss: 0.4937 - val_accuracy: 0.8556\n",
            "Epoch 10/100\n",
            "7/7 [==============================] - 0s 14ms/step - loss: 0.3251 - accuracy: 0.9135 - val_loss: 0.3991 - val_accuracy: 0.8556\n",
            "Epoch 11/100\n",
            "7/7 [==============================] - 0s 14ms/step - loss: 0.2294 - accuracy: 0.9423 - val_loss: 0.3208 - val_accuracy: 0.9000\n",
            "Epoch 12/100\n",
            "7/7 [==============================] - 0s 14ms/step - loss: 0.1235 - accuracy: 0.9856 - val_loss: 0.2816 - val_accuracy: 0.9111\n",
            "Epoch 13/100\n",
            "7/7 [==============================] - 0s 15ms/step - loss: 0.0801 - accuracy: 0.9952 - val_loss: 0.2748 - val_accuracy: 0.9000\n",
            "Epoch 14/100\n",
            "7/7 [==============================] - 0s 14ms/step - loss: 0.0562 - accuracy: 0.9904 - val_loss: 0.2422 - val_accuracy: 0.9000\n",
            "Epoch 15/100\n",
            "7/7 [==============================] - 0s 14ms/step - loss: 0.0362 - accuracy: 1.0000 - val_loss: 0.2269 - val_accuracy: 0.9111\n",
            "Epoch 16/100\n",
            "7/7 [==============================] - 0s 15ms/step - loss: 0.0405 - accuracy: 0.9952 - val_loss: 0.2458 - val_accuracy: 0.9111\n",
            "Epoch 17/100\n",
            "7/7 [==============================] - 0s 14ms/step - loss: 0.0197 - accuracy: 1.0000 - val_loss: 0.2997 - val_accuracy: 0.8889\n",
            "Epoch 18/100\n",
            "7/7 [==============================] - 0s 15ms/step - loss: 0.0170 - accuracy: 1.0000 - val_loss: 0.3078 - val_accuracy: 0.9000\n",
            "Epoch 19/100\n",
            "7/7 [==============================] - 0s 14ms/step - loss: 0.0110 - accuracy: 1.0000 - val_loss: 0.2819 - val_accuracy: 0.9000\n",
            "Epoch 20/100\n",
            "7/7 [==============================] - 0s 14ms/step - loss: 0.0120 - accuracy: 1.0000 - val_loss: 0.2331 - val_accuracy: 0.9111\n",
            "Epoch 21/100\n",
            "7/7 [==============================] - 0s 12ms/step - loss: 0.0095 - accuracy: 1.0000 - val_loss: 0.2118 - val_accuracy: 0.9111\n",
            "Epoch 22/100\n",
            "7/7 [==============================] - 0s 13ms/step - loss: 0.0090 - accuracy: 1.0000 - val_loss: 0.2289 - val_accuracy: 0.9111\n",
            "Epoch 23/100\n",
            "7/7 [==============================] - 0s 13ms/step - loss: 0.0093 - accuracy: 1.0000 - val_loss: 0.2696 - val_accuracy: 0.9111\n",
            "Epoch 24/100\n",
            "7/7 [==============================] - 0s 15ms/step - loss: 0.0088 - accuracy: 1.0000 - val_loss: 0.2954 - val_accuracy: 0.8889\n",
            "Epoch 25/100\n",
            "7/7 [==============================] - 0s 13ms/step - loss: 0.0061 - accuracy: 1.0000 - val_loss: 0.2732 - val_accuracy: 0.9111\n",
            "Epoch 26/100\n",
            "7/7 [==============================] - 0s 14ms/step - loss: 0.0056 - accuracy: 1.0000 - val_loss: 0.2725 - val_accuracy: 0.9111\n",
            "Epoch 27/100\n",
            "7/7 [==============================] - 0s 15ms/step - loss: 0.0069 - accuracy: 1.0000 - val_loss: 0.2733 - val_accuracy: 0.9111\n",
            "Epoch 28/100\n",
            "7/7 [==============================] - 0s 14ms/step - loss: 0.0072 - accuracy: 1.0000 - val_loss: 0.2377 - val_accuracy: 0.9222\n",
            "Epoch 29/100\n",
            "7/7 [==============================] - 0s 14ms/step - loss: 0.0045 - accuracy: 1.0000 - val_loss: 0.2349 - val_accuracy: 0.9222\n",
            "Epoch 30/100\n",
            "7/7 [==============================] - 0s 13ms/step - loss: 0.0043 - accuracy: 1.0000 - val_loss: 0.2481 - val_accuracy: 0.9111\n",
            "Epoch 31/100\n",
            "7/7 [==============================] - 0s 14ms/step - loss: 0.0046 - accuracy: 1.0000 - val_loss: 0.2785 - val_accuracy: 0.9000\n",
            "Epoch 32/100\n",
            "7/7 [==============================] - 0s 12ms/step - loss: 0.0045 - accuracy: 1.0000 - val_loss: 0.3092 - val_accuracy: 0.9000\n",
            "Epoch 33/100\n",
            "7/7 [==============================] - 0s 12ms/step - loss: 0.0033 - accuracy: 1.0000 - val_loss: 0.3408 - val_accuracy: 0.8889\n",
            "Epoch 34/100\n",
            "7/7 [==============================] - 0s 15ms/step - loss: 0.0041 - accuracy: 1.0000 - val_loss: 0.3174 - val_accuracy: 0.9111\n",
            "Epoch 35/100\n",
            "7/7 [==============================] - 0s 13ms/step - loss: 0.0036 - accuracy: 1.0000 - val_loss: 0.2949 - val_accuracy: 0.9111\n",
            "Epoch 36/100\n",
            "7/7 [==============================] - 0s 12ms/step - loss: 0.0028 - accuracy: 1.0000 - val_loss: 0.2823 - val_accuracy: 0.9111\n",
            "Epoch 37/100\n",
            "7/7 [==============================] - 0s 14ms/step - loss: 0.0030 - accuracy: 1.0000 - val_loss: 0.2639 - val_accuracy: 0.9111\n",
            "Epoch 38/100\n",
            "7/7 [==============================] - 0s 14ms/step - loss: 0.0029 - accuracy: 1.0000 - val_loss: 0.2579 - val_accuracy: 0.9111\n",
            "Epoch 39/100\n",
            "7/7 [==============================] - 0s 14ms/step - loss: 0.0032 - accuracy: 1.0000 - val_loss: 0.2569 - val_accuracy: 0.9111\n",
            "Epoch 40/100\n",
            "7/7 [==============================] - 0s 15ms/step - loss: 0.0038 - accuracy: 1.0000 - val_loss: 0.2542 - val_accuracy: 0.9111\n",
            "Epoch 41/100\n",
            "7/7 [==============================] - 0s 13ms/step - loss: 0.0026 - accuracy: 1.0000 - val_loss: 0.2625 - val_accuracy: 0.9111\n",
            "Epoch 42/100\n",
            "7/7 [==============================] - 0s 13ms/step - loss: 0.0023 - accuracy: 1.0000 - val_loss: 0.2679 - val_accuracy: 0.9111\n",
            "Epoch 43/100\n",
            "7/7 [==============================] - 0s 13ms/step - loss: 0.0031 - accuracy: 1.0000 - val_loss: 0.2635 - val_accuracy: 0.9111\n",
            "Epoch 44/100\n",
            "7/7 [==============================] - 0s 13ms/step - loss: 0.0019 - accuracy: 1.0000 - val_loss: 0.2628 - val_accuracy: 0.9111\n",
            "Epoch 45/100\n",
            "7/7 [==============================] - 0s 13ms/step - loss: 0.0019 - accuracy: 1.0000 - val_loss: 0.2683 - val_accuracy: 0.9111\n",
            "Epoch 46/100\n",
            "7/7 [==============================] - 0s 13ms/step - loss: 0.0023 - accuracy: 1.0000 - val_loss: 0.2783 - val_accuracy: 0.9111\n",
            "Epoch 47/100\n",
            "7/7 [==============================] - 0s 14ms/step - loss: 0.0023 - accuracy: 1.0000 - val_loss: 0.2825 - val_accuracy: 0.9111\n",
            "Epoch 48/100\n",
            "7/7 [==============================] - 0s 14ms/step - loss: 0.0018 - accuracy: 1.0000 - val_loss: 0.2837 - val_accuracy: 0.9111\n",
            "Epoch 49/100\n",
            "7/7 [==============================] - 0s 13ms/step - loss: 0.0016 - accuracy: 1.0000 - val_loss: 0.2900 - val_accuracy: 0.9111\n",
            "Epoch 50/100\n",
            "7/7 [==============================] - 0s 13ms/step - loss: 0.0018 - accuracy: 1.0000 - val_loss: 0.2927 - val_accuracy: 0.9111\n",
            "Epoch 51/100\n",
            "7/7 [==============================] - 0s 15ms/step - loss: 0.0019 - accuracy: 1.0000 - val_loss: 0.2960 - val_accuracy: 0.9111\n",
            "Epoch 52/100\n",
            "7/7 [==============================] - 0s 14ms/step - loss: 0.0017 - accuracy: 1.0000 - val_loss: 0.3052 - val_accuracy: 0.9111\n",
            "Epoch 53/100\n",
            "7/7 [==============================] - 0s 13ms/step - loss: 0.0018 - accuracy: 1.0000 - val_loss: 0.3116 - val_accuracy: 0.9111\n",
            "Epoch 54/100\n",
            "7/7 [==============================] - 0s 13ms/step - loss: 0.0013 - accuracy: 1.0000 - val_loss: 0.3126 - val_accuracy: 0.9111\n",
            "Epoch 55/100\n",
            "7/7 [==============================] - 0s 13ms/step - loss: 0.0016 - accuracy: 1.0000 - val_loss: 0.3057 - val_accuracy: 0.9111\n",
            "Epoch 56/100\n",
            "7/7 [==============================] - 0s 12ms/step - loss: 0.0014 - accuracy: 1.0000 - val_loss: 0.3021 - val_accuracy: 0.9111\n",
            "Epoch 57/100\n",
            "7/7 [==============================] - 0s 15ms/step - loss: 0.0015 - accuracy: 1.0000 - val_loss: 0.2984 - val_accuracy: 0.9111\n",
            "Epoch 58/100\n",
            "7/7 [==============================] - 0s 13ms/step - loss: 0.0017 - accuracy: 1.0000 - val_loss: 0.2934 - val_accuracy: 0.9111\n",
            "Epoch 59/100\n",
            "7/7 [==============================] - 0s 13ms/step - loss: 0.0013 - accuracy: 1.0000 - val_loss: 0.2946 - val_accuracy: 0.9111\n",
            "Epoch 60/100\n",
            "7/7 [==============================] - 0s 13ms/step - loss: 0.0020 - accuracy: 1.0000 - val_loss: 0.2939 - val_accuracy: 0.9111\n",
            "Epoch 61/100\n",
            "7/7 [==============================] - 0s 12ms/step - loss: 0.0016 - accuracy: 1.0000 - val_loss: 0.2931 - val_accuracy: 0.9111\n",
            "Epoch 62/100\n",
            "7/7 [==============================] - 0s 14ms/step - loss: 0.0014 - accuracy: 1.0000 - val_loss: 0.3001 - val_accuracy: 0.9111\n",
            "Epoch 63/100\n",
            "7/7 [==============================] - 0s 14ms/step - loss: 0.0013 - accuracy: 1.0000 - val_loss: 0.3071 - val_accuracy: 0.9111\n",
            "Epoch 64/100\n",
            "7/7 [==============================] - 0s 13ms/step - loss: 0.0012 - accuracy: 1.0000 - val_loss: 0.3122 - val_accuracy: 0.9000\n",
            "Epoch 65/100\n",
            "7/7 [==============================] - 0s 13ms/step - loss: 0.0012 - accuracy: 1.0000 - val_loss: 0.3166 - val_accuracy: 0.9000\n",
            "Epoch 66/100\n",
            "7/7 [==============================] - 0s 13ms/step - loss: 0.0013 - accuracy: 1.0000 - val_loss: 0.3080 - val_accuracy: 0.9111\n",
            "Epoch 67/100\n",
            "7/7 [==============================] - 0s 12ms/step - loss: 0.0011 - accuracy: 1.0000 - val_loss: 0.3031 - val_accuracy: 0.9111\n",
            "Epoch 68/100\n",
            "7/7 [==============================] - 0s 14ms/step - loss: 0.0011 - accuracy: 1.0000 - val_loss: 0.2972 - val_accuracy: 0.9111\n",
            "Epoch 69/100\n",
            "7/7 [==============================] - 0s 14ms/step - loss: 0.0011 - accuracy: 1.0000 - val_loss: 0.2971 - val_accuracy: 0.9111\n",
            "Epoch 70/100\n",
            "7/7 [==============================] - 0s 13ms/step - loss: 0.0013 - accuracy: 1.0000 - val_loss: 0.2977 - val_accuracy: 0.9111\n",
            "Epoch 71/100\n",
            "7/7 [==============================] - 0s 13ms/step - loss: 0.0011 - accuracy: 1.0000 - val_loss: 0.3008 - val_accuracy: 0.9111\n",
            "Epoch 72/100\n",
            "7/7 [==============================] - 0s 13ms/step - loss: 0.0030 - accuracy: 1.0000 - val_loss: 0.3696 - val_accuracy: 0.9000\n",
            "Epoch 73/100\n",
            "7/7 [==============================] - 0s 13ms/step - loss: 0.0011 - accuracy: 1.0000 - val_loss: 0.4033 - val_accuracy: 0.8778\n",
            "Epoch 74/100\n",
            "7/7 [==============================] - 0s 14ms/step - loss: 0.0011 - accuracy: 1.0000 - val_loss: 0.4041 - val_accuracy: 0.8778\n",
            "Epoch 75/100\n",
            "7/7 [==============================] - 0s 13ms/step - loss: 0.0010 - accuracy: 1.0000 - val_loss: 0.3834 - val_accuracy: 0.8889\n",
            "Epoch 76/100\n",
            "7/7 [==============================] - 0s 13ms/step - loss: 0.0013 - accuracy: 1.0000 - val_loss: 0.3378 - val_accuracy: 0.9000\n",
            "Epoch 77/100\n",
            "7/7 [==============================] - 0s 14ms/step - loss: 8.9793e-04 - accuracy: 1.0000 - val_loss: 0.3168 - val_accuracy: 0.9111\n",
            "Epoch 78/100\n",
            "7/7 [==============================] - 0s 14ms/step - loss: 9.4872e-04 - accuracy: 1.0000 - val_loss: 0.3049 - val_accuracy: 0.9111\n",
            "Epoch 79/100\n",
            "7/7 [==============================] - 0s 15ms/step - loss: 9.3608e-04 - accuracy: 1.0000 - val_loss: 0.3014 - val_accuracy: 0.9111\n",
            "Epoch 80/100\n",
            "7/7 [==============================] - 0s 14ms/step - loss: 9.3311e-04 - accuracy: 1.0000 - val_loss: 0.3052 - val_accuracy: 0.9111\n",
            "Epoch 81/100\n",
            "7/7 [==============================] - 0s 15ms/step - loss: 9.4152e-04 - accuracy: 1.0000 - val_loss: 0.3050 - val_accuracy: 0.9111\n",
            "Epoch 82/100\n",
            "7/7 [==============================] - 0s 14ms/step - loss: 8.7338e-04 - accuracy: 1.0000 - val_loss: 0.3071 - val_accuracy: 0.9111\n",
            "Epoch 83/100\n",
            "7/7 [==============================] - 0s 13ms/step - loss: 0.0012 - accuracy: 1.0000 - val_loss: 0.2952 - val_accuracy: 0.9111\n",
            "Epoch 84/100\n",
            "7/7 [==============================] - 0s 16ms/step - loss: 9.6684e-04 - accuracy: 1.0000 - val_loss: 0.2876 - val_accuracy: 0.9111\n",
            "Epoch 85/100\n",
            "7/7 [==============================] - 0s 15ms/step - loss: 9.9991e-04 - accuracy: 1.0000 - val_loss: 0.2903 - val_accuracy: 0.9111\n",
            "Epoch 86/100\n",
            "7/7 [==============================] - 0s 14ms/step - loss: 8.6368e-04 - accuracy: 1.0000 - val_loss: 0.2948 - val_accuracy: 0.9111\n",
            "Epoch 87/100\n",
            "7/7 [==============================] - 0s 13ms/step - loss: 9.0353e-04 - accuracy: 1.0000 - val_loss: 0.3025 - val_accuracy: 0.9111\n",
            "Epoch 88/100\n",
            "7/7 [==============================] - 0s 16ms/step - loss: 7.6952e-04 - accuracy: 1.0000 - val_loss: 0.3116 - val_accuracy: 0.9111\n",
            "Epoch 89/100\n",
            "7/7 [==============================] - 0s 14ms/step - loss: 9.1562e-04 - accuracy: 1.0000 - val_loss: 0.3221 - val_accuracy: 0.9111\n",
            "Epoch 90/100\n",
            "7/7 [==============================] - 0s 13ms/step - loss: 8.0472e-04 - accuracy: 1.0000 - val_loss: 0.3328 - val_accuracy: 0.9111\n",
            "Epoch 91/100\n",
            "7/7 [==============================] - 0s 14ms/step - loss: 7.1088e-04 - accuracy: 1.0000 - val_loss: 0.3404 - val_accuracy: 0.9111\n",
            "Epoch 92/100\n",
            "7/7 [==============================] - 0s 13ms/step - loss: 8.6588e-04 - accuracy: 1.0000 - val_loss: 0.3459 - val_accuracy: 0.9111\n",
            "Epoch 93/100\n",
            "7/7 [==============================] - 0s 12ms/step - loss: 7.3713e-04 - accuracy: 1.0000 - val_loss: 0.3386 - val_accuracy: 0.9111\n",
            "Epoch 94/100\n",
            "7/7 [==============================] - 0s 14ms/step - loss: 8.1740e-04 - accuracy: 1.0000 - val_loss: 0.3378 - val_accuracy: 0.9111\n",
            "Epoch 95/100\n",
            "7/7 [==============================] - 0s 14ms/step - loss: 8.9671e-04 - accuracy: 1.0000 - val_loss: 0.3393 - val_accuracy: 0.9111\n",
            "Epoch 96/100\n",
            "7/7 [==============================] - 0s 13ms/step - loss: 6.5132e-04 - accuracy: 1.0000 - val_loss: 0.3388 - val_accuracy: 0.9111\n",
            "Epoch 97/100\n",
            "7/7 [==============================] - 0s 14ms/step - loss: 6.3345e-04 - accuracy: 1.0000 - val_loss: 0.3378 - val_accuracy: 0.9111\n",
            "Epoch 98/100\n",
            "7/7 [==============================] - 0s 14ms/step - loss: 6.5734e-04 - accuracy: 1.0000 - val_loss: 0.3378 - val_accuracy: 0.9111\n",
            "Epoch 99/100\n",
            "7/7 [==============================] - 0s 15ms/step - loss: 5.4213e-04 - accuracy: 1.0000 - val_loss: 0.3384 - val_accuracy: 0.9111\n",
            "Epoch 100/100\n",
            "7/7 [==============================] - 0s 13ms/step - loss: 6.6767e-04 - accuracy: 1.0000 - val_loss: 0.3397 - val_accuracy: 0.9111\n"
          ]
        }
      ]
    },
    {
      "cell_type": "markdown",
      "metadata": {
        "id": "XvijPWJ7dlQZ"
      },
      "source": [
        "### Evaluate the model\n",
        "\n",
        "Calculating the screen time on Test Data"
      ]
    },
    {
      "cell_type": "code",
      "metadata": {
        "id": "N9agHYG0FBha"
      },
      "source": [
        "# Create a directory to store all the frames\n",
        "test_images = \"test_images\"\n",
        "os.mkdir(test_images)"
      ],
      "execution_count": null,
      "outputs": []
    },
    {
      "cell_type": "code",
      "metadata": {
        "id": "lfcgSMcpEme-",
        "colab": {
          "base_uri": "https://localhost:8080/",
          "height": 35
        },
        "outputId": "2e98ad97-64fc-4754-9b06-d1f7de525864"
      },
      "source": [
        "getVideoFrames(\"/content/Test_data/Tom_and_Jerry_test.mp4\", test_images)"
      ],
      "execution_count": null,
      "outputs": [
        {
          "output_type": "execute_result",
          "data": {
            "text/plain": [
              "'Successfully extracted the images!!'"
            ],
            "application/vnd.google.colaboratory.intrinsic+json": {
              "type": "string"
            }
          },
          "metadata": {},
          "execution_count": 28
        }
      ]
    },
    {
      "cell_type": "markdown",
      "metadata": {
        "id": "BVPGvMDtEevk"
      },
      "source": [
        "### Load the Test Data\n",
        "\n",
        "Iterate over the **`Test Images`** directory to extract all the test Id's"
      ]
    },
    {
      "cell_type": "code",
      "metadata": {
        "id": "WOKqGpJDaK2D"
      },
      "source": [
        "def getIDs(directory):\n",
        "  ids = []\n",
        "  for filename in os.listdir(directory):\n",
        "      if filename.endswith(\".jpg\"): \n",
        "          ids.append(os.path.join(directory, filename))\n",
        "      else:\n",
        "          continue\n",
        "  return ids"
      ],
      "execution_count": null,
      "outputs": []
    },
    {
      "cell_type": "code",
      "metadata": {
        "id": "sJOFcybtbwOO",
        "colab": {
          "base_uri": "https://localhost:8080/"
        },
        "outputId": "a97d86fc-df18-4df3-9ced-e86f78dd284a"
      },
      "source": [
        "test_ids = getIDs(test_images)\n",
        "len(test_ids)"
      ],
      "execution_count": null,
      "outputs": [
        {
          "output_type": "execute_result",
          "data": {
            "text/plain": [
              "186"
            ]
          },
          "metadata": {},
          "execution_count": 30
        }
      ]
    },
    {
      "cell_type": "markdown",
      "metadata": {
        "id": "49DWwnIwFAD6"
      },
      "source": [
        "Since the duration of the video is 3:1 minutes (186 seconds), we now have 186 images in total.\n"
      ]
    },
    {
      "cell_type": "markdown",
      "metadata": {
        "id": "V6YIwbpZep-7"
      },
      "source": [
        "### Input Data and Preprocessing"
      ]
    },
    {
      "cell_type": "code",
      "metadata": {
        "id": "0IvfHbaka6SE"
      },
      "source": [
        "test_features = resizeFeatures(test_ids)"
      ],
      "execution_count": null,
      "outputs": []
    },
    {
      "cell_type": "code",
      "metadata": {
        "id": "yt14HYGsHSph",
        "colab": {
          "base_uri": "https://localhost:8080/"
        },
        "outputId": "3b45a28b-d70c-47d5-e493-0e7251b2cbae"
      },
      "source": [
        "# preprocessing the images\n",
        "preprocessed_features = preprocess_input(test_features)\n",
        "\n",
        "# extracting features from the images using pretrained model\n",
        "output_features = vgg_model.predict(preprocessed_features)\n",
        "\n",
        "# converting the images to 1-D form\n",
        "reshaped_features = output_features.reshape(test_features.shape[0], 7*7*512)\n",
        "\n",
        "# Normalized images\n",
        "zero_centered_features = reshaped_features/reshaped_features.max()"
      ],
      "execution_count": null,
      "outputs": [
        {
          "output_type": "stream",
          "name": "stdout",
          "text": [
            "6/6 [==============================] - 1s 155ms/step\n"
          ]
        }
      ]
    },
    {
      "cell_type": "markdown",
      "metadata": {
        "id": "4l4vDUiee3AN"
      },
      "source": [
        "### Make predictions on the test images"
      ]
    },
    {
      "cell_type": "code",
      "metadata": {
        "id": "StVwj1ite83g",
        "colab": {
          "base_uri": "https://localhost:8080/"
        },
        "outputId": "ced4b701-e55d-48e7-96ff-dad00ad5b157"
      },
      "source": [
        "pred = model.predict(zero_centered_features)\n",
        "predictions =np.argmax(pred,axis=1)\n",
        "\n",
        "print(\"The screen time of JERRY is\", predictions[predictions==1].shape[0], \"seconds\")\n",
        "print(\"The screen time of TOM is\", predictions[predictions==2].shape[0], \"seconds\")\n",
        "print(\"The screen time of Neither JERRY nor TOM is\", predictions[predictions==0].shape[0], \"seconds\")"
      ],
      "execution_count": null,
      "outputs": [
        {
          "output_type": "stream",
          "name": "stdout",
          "text": [
            "6/6 [==============================] - 0s 5ms/step\n",
            "The screen time of JERRY is 1 seconds\n",
            "The screen time of TOM is 100 seconds\n",
            "The screen time of Neither JERRY nor TOM is 85 seconds\n"
          ]
        }
      ]
    },
    {
      "cell_type": "markdown",
      "metadata": {
        "id": "giNdCc9at8-1"
      },
      "source": [
        "### Please answer the questions below to complete the experiment:"
      ]
    },
    {
      "cell_type": "code",
      "metadata": {
        "id": "eMJFxr5YskFs",
        "cellView": "form"
      },
      "source": [
        "#@title State True or False: In VGG16 model, the parameter 'include_top = False' specifies to include the fully-connected layer at the top of the network \n",
        "Answer = \"FALSE\" #@param [\"\",\"TRUE\", \"FALSE\"]\n"
      ],
      "execution_count": null,
      "outputs": []
    },
    {
      "cell_type": "code",
      "metadata": {
        "id": "NMzKSbLIgFzQ"
      },
      "source": [
        "#@title How was the experiment? { run: \"auto\", form-width: \"500px\", display-mode: \"form\" }\n",
        "Complexity = \"Good and Challenging for me\" #@param [\"\",\"Too Simple, I am wasting time\", \"Good, But Not Challenging for me\", \"Good and Challenging for me\", \"Was Tough, but I did it\", \"Too Difficult for me\"]\n"
      ],
      "execution_count": null,
      "outputs": []
    },
    {
      "cell_type": "code",
      "metadata": {
        "id": "DjcH1VWSFI2l"
      },
      "source": [
        "#@title If it was too easy, what more would you have liked to be added? If it was very difficult, what would you have liked to have been removed? { run: \"auto\", display-mode: \"form\" }\n",
        "Additional = \"Everything is good\" #@param {type:\"string\"}\n"
      ],
      "execution_count": null,
      "outputs": []
    },
    {
      "cell_type": "code",
      "metadata": {
        "id": "4VBk_4VTAxCM"
      },
      "source": [
        "#@title Can you identify the concepts from the lecture which this experiment covered? { run: \"auto\", vertical-output: true, display-mode: \"form\" }\n",
        "Concepts = \"Yes\" #@param [\"\",\"Yes\", \"No\"]\n"
      ],
      "execution_count": null,
      "outputs": []
    },
    {
      "cell_type": "code",
      "metadata": {
        "id": "r35isHfTVGKc"
      },
      "source": [
        "#@title  Experiment walkthrough video? { run: \"auto\", vertical-output: true, display-mode: \"form\" }\n",
        "Walkthrough = \"Very Useful\" #@param [\"\",\"Very Useful\", \"Somewhat Useful\", \"Not Useful\", \"Didn't use\"]\n"
      ],
      "execution_count": null,
      "outputs": []
    },
    {
      "cell_type": "code",
      "metadata": {
        "id": "XH91cL1JWH7m"
      },
      "source": [
        "#@title  Text and image description/explanation and code comments within the experiment: { run: \"auto\", vertical-output: true, display-mode: \"form\" }\n",
        "Comments = \"Very Useful\" #@param [\"\",\"Very Useful\", \"Somewhat Useful\", \"Not Useful\", \"Didn't use\"]\n"
      ],
      "execution_count": null,
      "outputs": []
    },
    {
      "cell_type": "code",
      "metadata": {
        "id": "z8xLqj7VWIKW"
      },
      "source": [
        "#@title Mentor Support: { run: \"auto\", vertical-output: true, display-mode: \"form\" }\n",
        "Mentor_support = \"Very Useful\" #@param [\"\",\"Very Useful\", \"Somewhat Useful\", \"Not Useful\", \"Didn't use\"]\n"
      ],
      "execution_count": null,
      "outputs": []
    },
    {
      "cell_type": "code",
      "metadata": {
        "cellView": "form",
        "id": "FzAZHt1zw-Y-",
        "colab": {
          "base_uri": "https://localhost:8080/"
        },
        "outputId": "5012b555-b154-4953-9fa6-b115844395eb"
      },
      "source": [
        "#@title Run this cell to submit your notebook for grading { vertical-output: true }\n",
        "try:\n",
        "  if submission_id:\n",
        "      return_id = submit_notebook()\n",
        "      if return_id : submission_id = return_id\n",
        "  else:\n",
        "      print(\"Please complete the setup first.\")\n",
        "except NameError:\n",
        "  print (\"Please complete the setup first.\")"
      ],
      "execution_count": null,
      "outputs": [
        {
          "output_type": "stream",
          "name": "stdout",
          "text": [
            "Your submission is successful.\n",
            "Ref Id: 3891\n",
            "Date of submission:  25 Oct 2022\n",
            "Time of submission:  15:48:20\n",
            "View your submissions: https://aiml.iiith.talentsprint.com/notebook_submissions\n"
          ]
        }
      ]
    }
  ]
}